{
 "cells": [
  {
   "cell_type": "markdown",
   "metadata": {},
   "source": [
    "# Logistic Regression"
   ]
  },
  {
   "cell_type": "code",
   "execution_count": 1,
   "metadata": {},
   "outputs": [],
   "source": [
    "# !pip install imblearn"
   ]
  },
  {
   "cell_type": "code",
   "execution_count": 2,
   "metadata": {},
   "outputs": [],
   "source": [
    "import pandas as pd\n",
    "import numpy as np\n",
    "\n",
    "import matplotlib.pyplot as plt\n",
    "import seaborn as sns\n",
    "%matplotlib inline\n",
    "\n",
    "from sklearn.model_selection import train_test_split, GridSearchCV\n",
    "from sklearn.metrics import classification_report, confusion_matrix, roc_auc_score\n",
    "from sklearn.metrics import recall_score, precision_score\n",
    "from sklearn.linear_model import LogisticRegression\n",
    "from sklearn.preprocessing import MinMaxScaler, StandardScaler\n",
    "\n",
    "from imblearn.over_sampling import RandomOverSampler#, SMOTE\n",
    "\n",
    "import statsmodels.api as sm\n",
    "from statsmodels.stats.outliers_influence import variance_inflation_factor\n",
    "\n",
    "from src import log_reg_utils"
   ]
  },
  {
   "cell_type": "markdown",
   "metadata": {},
   "source": [
    "## UDF"
   ]
  },
  {
   "cell_type": "code",
   "execution_count": null,
   "metadata": {},
   "outputs": [],
   "source": []
  },
  {
   "cell_type": "markdown",
   "metadata": {},
   "source": [
    "## Import Dataset"
   ]
  },
  {
   "cell_type": "code",
   "execution_count": 4,
   "metadata": {},
   "outputs": [
    {
     "name": "stdout",
     "output_type": "stream",
     "text": [
      "0. POSTED_SPEED_LIMIT\n",
      "1. TRAFFIC_CONTROL_DEVICE\n",
      "2. DEVICE_CONDITION\n",
      "3. WEATHER_CONDITION\n",
      "4. LIGHTING_CONDITION\n",
      "5. FIRST_CRASH_TYPE\n",
      "6. TRAFFICWAY_TYPE\n",
      "7. ALIGNMENT\n",
      "8. ROADWAY_SURFACE_COND\n",
      "9. ROAD_DEFECT\n",
      "10. CRASH_TYPE\n",
      "11. INTERSECTION_RELATED_I\n",
      "12. NOT_RIGHT_OF_WAY_I\n",
      "13. PRIM_CONTRIBUTORY_CAUSE\n",
      "14. INJURIES_UNKNOWN\n",
      "15. CRASH_HOUR\n",
      "16. CRASH_DAY_OF_WEEK\n",
      "17. CRASH_MONTH\n",
      "18. crash_date\n",
      "19. crash_month\n",
      "20. is_fatal_or_incap\n",
      "21. time_of_day\n",
      "22. is_weekend\n",
      "23. season\n",
      "24. is_no_sunlight\n",
      "25. is_cyclist\n",
      "26. is_pedestrian\n",
      "27. is_head_on\n",
      "28. is_parked\n",
      "29. is_using_cellphone\n",
      "30. has_disregarded_traffic_devices\n",
      "31. is_failed_to_yield_right_of_way\n",
      "32. is_reckless_driving\n",
      "33. is_improper_backing\n",
      "34. is_intersection_related_involve\n",
      "35. is_not_right_of_way_involve\n",
      "36. is_sleet_snow\n",
      "37. is_rain\n",
      "38. is_clear_weather\n",
      "39. is_dark_has_no_lighting\n",
      "40. has_stop_sign_or_traffic_light\n",
      "41. is_intersection\n",
      "42. has_snow_ice_on_road\n",
      "43. is_non_functioning_device\n",
      "44. has_no_controls\n",
      "45. has_no_physical_divider\n",
      "46. is_day\n",
      "47. is_evening\n",
      "48. is_morning\n",
      "49. is_night\n",
      "50. is_fall\n",
      "51. is_spring\n",
      "52. is_summer\n",
      "53. is_winter\n",
      "54. has_non_functioning_device\n"
     ]
    }
   ],
   "source": [
    "accidents = pd.read_csv('data/accidents.csv', index_col=0)\n",
    "for idx, feature in enumerate(accidents.columns):\n",
    "    print('{}. {}'.format(idx, feature))"
   ]
  },
  {
   "cell_type": "markdown",
   "metadata": {},
   "source": [
    "## Process Data for Model"
   ]
  },
  {
   "cell_type": "code",
   "execution_count": 25,
   "metadata": {},
   "outputs": [],
   "source": [
    "indices = [26, 28, 38, 0, 44, 45, 25, 27, 39, 42, 24, 33, 34, 30]\n",
    "selected_features = list(accidents.columns[indices])\n",
    "\n",
    "X = accidents[selected_features]\n",
    "y = accidents['is_fatal_or_incap']\n",
    "\n",
    "X_train, X_test, y_train, y_test = train_test_split(X, y, test_size=0.20, random_state=3)"
   ]
  },
  {
   "cell_type": "code",
   "execution_count": 26,
   "metadata": {},
   "outputs": [],
   "source": [
    "#scaler = MinMaxScaler()\n",
    "scaler = StandardScaler()\n",
    "\n",
    "scaler.fit(X_train)\n",
    "X_train_scaled = scaler.transform(X_train)\n",
    "X_test_scaled = scaler.transform(X_test)"
   ]
  },
  {
   "cell_type": "code",
   "execution_count": 27,
   "metadata": {},
   "outputs": [],
   "source": [
    "oversampler = RandomOverSampler(sampling_strategy=0.75, random_state=3)\n",
    "#oversampler = SMOTE(sampling_strategy=0.75, random_state=3)\n",
    "\n",
    "X_over, y_over = oversampler.fit_resample(X_train_scaled, y_train)"
   ]
  },
  {
   "cell_type": "markdown",
   "metadata": {},
   "source": [
    "### Hyperparameter Tuning"
   ]
  },
  {
   "cell_type": "code",
   "execution_count": 28,
   "metadata": {},
   "outputs": [],
   "source": [
    "#solvers = ['saga', 'newton-cg', 'lbfgs', 'liblinear']\n",
    "#penalties = ['l1', 'l2']\n",
    "c_values =  [0.01, 0.1, 1.0, 10, 100]\n",
    "params_grid = dict(C=c_values)#, penalty=penalties, solver=solvers)"
   ]
  },
  {
   "cell_type": "code",
   "execution_count": 29,
   "metadata": {},
   "outputs": [],
   "source": [
    "log_reg = LogisticRegression(max_iter=1000, fit_intercept=True, random_state=3)\n",
    "\n",
    "clf = GridSearchCV(log_reg, params_grid, cv=5, verbose=0, scoring='recall')\n",
    "\n",
    "best_model = clf.fit(X_over, y_over)"
   ]
  },
  {
   "cell_type": "code",
   "execution_count": 30,
   "metadata": {},
   "outputs": [
    {
     "name": "stdout",
     "output_type": "stream",
     "text": [
      "Best Solver:  lbfgs\n",
      "Optimal Penalty:  l2\n",
      "Best C:  1.0\n"
     ]
    }
   ],
   "source": [
    "print('Best Solver: ', best_model.best_estimator_.get_params()['solver'])\n",
    "print('Optimal Penalty: ', best_model.best_estimator_.get_params()['penalty'])\n",
    "print('Best C: ', best_model.best_estimator_.get_params()['C'])"
   ]
  },
  {
   "cell_type": "code",
   "execution_count": 23,
   "metadata": {},
   "outputs": [
    {
     "data": {
      "text/plain": [
       "{'C': [0.01, 0.1, 1.0, 10, 100]}"
      ]
     },
     "execution_count": 23,
     "metadata": {},
     "output_type": "execute_result"
    }
   ],
   "source": [
    "params_grid"
   ]
  },
  {
   "cell_type": "markdown",
   "metadata": {},
   "source": [
    "### Train and Predict"
   ]
  },
  {
   "cell_type": "code",
   "execution_count": 31,
   "metadata": {},
   "outputs": [
    {
     "name": "stdout",
     "output_type": "stream",
     "text": [
      "[[51250  6300]\n",
      " [  548   517]]\n",
      "\n",
      "\n",
      "Recall (Scores FN):  0.4854\n",
      "Precision (Scores FP):  0.0758\n",
      "AUC Score:  0.7683\n"
     ]
    }
   ],
   "source": [
    "penalty = 'l2'\n",
    "solver='lbfgs'\n",
    "c=1.0\n",
    "\n",
    "log_reg = LogisticRegression(penalty=penalty, solver=solver, C=c, max_iter=1000, fit_intercept=True, random_state=3)\n",
    "log_reg.fit(X_over, y_over)\n",
    "y_pred = log_reg.predict(X_test_scaled)\n",
    "y_prob = log_reg.predict_proba(X_test_scaled)[:, 1]\n",
    "\n",
    "cf_matrix = confusion_matrix(y_test, y_pred)\n",
    "print(cf_matrix)\n",
    "print('\\n')\n",
    "print('Recall (Scores FN): ', round(recall_score(y_test, y_pred), 4))\n",
    "print('Precision (Scores FP): ', round(precision_score(y_test, y_pred), 4))\n",
    "print('AUC Score: ', round(roc_auc_score(y_test, y_prob), 4))"
   ]
  },
  {
   "cell_type": "code",
   "execution_count": 33,
   "metadata": {},
   "outputs": [
    {
     "data": {
      "image/png": "[encoded data removed]",
      "text/plain": [
       "<Figure size 504x288 with 2 Axes>"
      ]
     },
     "metadata": {
      "needs_background": "light"
     },
     "output_type": "display_data"
    }
   ],
   "source": [
    "plt.figure(figsize=(7,4))\n",
    "sns.heatmap(cf_matrix, cmap='coolwarm', annot=True, annot_kws={'size': 20, 'fontweight':'bold'}, fmt='d',\n",
    "                 xticklabels=False, yticklabels=False);\n",
    "#plt.savefig('img/cf_matrix.png', bbox_inches='tight')"
   ]
  },
  {
   "cell_type": "code",
   "execution_count": 34,
   "metadata": {},
   "outputs": [
    {
     "data": {
      "text/html": [
       "<div>\n",
       "<style scoped>\n",
       "    .dataframe tbody tr th:only-of-type {\n",
       "        vertical-align: middle;\n",
       "    }\n",
       "\n",
       "    .dataframe tbody tr th {\n",
       "        vertical-align: top;\n",
       "    }\n",
       "\n",
       "    .dataframe thead th {\n",
       "        text-align: right;\n",
       "    }\n",
       "</style>\n",
       "<table border=\"1\" class=\"dataframe\">\n",
       "  <thead>\n",
       "    <tr style=\"text-align: right;\">\n",
       "      <th></th>\n",
       "      <th>feature_name</th>\n",
       "      <th>log_reg_coef</th>\n",
       "    </tr>\n",
       "  </thead>\n",
       "  <tbody>\n",
       "    <tr>\n",
       "      <th>0</th>\n",
       "      <td>is_pedestrian</td>\n",
       "      <td>0.457594</td>\n",
       "    </tr>\n",
       "    <tr>\n",
       "      <th>12</th>\n",
       "      <td>is_intersection_related_involve</td>\n",
       "      <td>0.273408</td>\n",
       "    </tr>\n",
       "    <tr>\n",
       "      <th>3</th>\n",
       "      <td>POSTED_SPEED_LIMIT</td>\n",
       "      <td>0.259760</td>\n",
       "    </tr>\n",
       "    <tr>\n",
       "      <th>6</th>\n",
       "      <td>is_cyclist</td>\n",
       "      <td>0.258531</td>\n",
       "    </tr>\n",
       "    <tr>\n",
       "      <th>10</th>\n",
       "      <td>is_no_sunlight</td>\n",
       "      <td>0.231144</td>\n",
       "    </tr>\n",
       "    <tr>\n",
       "      <th>13</th>\n",
       "      <td>has_disregarded_traffic_devices</td>\n",
       "      <td>0.163725</td>\n",
       "    </tr>\n",
       "    <tr>\n",
       "      <th>7</th>\n",
       "      <td>is_head_on</td>\n",
       "      <td>0.127806</td>\n",
       "    </tr>\n",
       "    <tr>\n",
       "      <th>4</th>\n",
       "      <td>has_no_controls</td>\n",
       "      <td>0.114188</td>\n",
       "    </tr>\n",
       "    <tr>\n",
       "      <th>2</th>\n",
       "      <td>is_clear_weather</td>\n",
       "      <td>0.016821</td>\n",
       "    </tr>\n",
       "    <tr>\n",
       "      <th>5</th>\n",
       "      <td>has_no_physical_divider</td>\n",
       "      <td>-0.015807</td>\n",
       "    </tr>\n",
       "    <tr>\n",
       "      <th>9</th>\n",
       "      <td>has_snow_ice_on_road</td>\n",
       "      <td>-0.060282</td>\n",
       "    </tr>\n",
       "    <tr>\n",
       "      <th>8</th>\n",
       "      <td>is_dark_has_no_lighting</td>\n",
       "      <td>-0.077934</td>\n",
       "    </tr>\n",
       "    <tr>\n",
       "      <th>1</th>\n",
       "      <td>is_parked</td>\n",
       "      <td>-0.301695</td>\n",
       "    </tr>\n",
       "    <tr>\n",
       "      <th>11</th>\n",
       "      <td>is_improper_backing</td>\n",
       "      <td>-0.307822</td>\n",
       "    </tr>\n",
       "  </tbody>\n",
       "</table>\n",
       "</div>"
      ],
      "text/plain": [
       "                       feature_name  log_reg_coef\n",
       "0                     is_pedestrian      0.457594\n",
       "12  is_intersection_related_involve      0.273408\n",
       "3                POSTED_SPEED_LIMIT      0.259760\n",
       "6                        is_cyclist      0.258531\n",
       "10                   is_no_sunlight      0.231144\n",
       "13  has_disregarded_traffic_devices      0.163725\n",
       "7                        is_head_on      0.127806\n",
       "4                   has_no_controls      0.114188\n",
       "2                  is_clear_weather      0.016821\n",
       "5           has_no_physical_divider     -0.015807\n",
       "9              has_snow_ice_on_road     -0.060282\n",
       "8           is_dark_has_no_lighting     -0.077934\n",
       "1                         is_parked     -0.301695\n",
       "11              is_improper_backing     -0.307822"
      ]
     },
     "execution_count": 34,
     "metadata": {},
     "output_type": "execute_result"
    }
   ],
   "source": [
    "coef_summary = pd.DataFrame()\n",
    "coef_summary['feature_name'] = pd.Series(X.columns)\n",
    "coef_summary['log_reg_coef'] = pd.Series(log_reg.coef_[0])\n",
    "coef_summary.sort_values('log_reg_coef', inplace = True, ascending=False)\n",
    "coef_summary.to_csv('img/log_reg_coeffs.jpg')\n",
    "coef_summary\n"
   ]
  },
  {
   "cell_type": "code",
   "execution_count": 35,
   "metadata": {},
   "outputs": [
    {
     "name": "stdout",
     "output_type": "stream",
     "text": [
      "Intercept:  -0.7928801811472641\n"
     ]
    }
   ],
   "source": [
    "print('Intercept: ', log_reg.intercept_[0])"
   ]
  },
  {
   "cell_type": "markdown",
   "metadata": {},
   "source": [
    "### Test for Multicolinearity"
   ]
  },
  {
   "cell_type": "code",
   "execution_count": 36,
   "metadata": {},
   "outputs": [
    {
     "data": {
      "text/html": [
       "<table class=\"simpletable\">\n",
       "<caption>Logit Regression Results</caption>\n",
       "<tr>\n",
       "  <th>Dep. Variable:</th>   <td>is_fatal_or_incap</td> <th>  No. Observations:  </th>   <td>402531</td>   \n",
       "</tr>\n",
       "<tr>\n",
       "  <th>Model:</th>                 <td>Logit</td>       <th>  Df Residuals:      </th>   <td>402516</td>   \n",
       "</tr>\n",
       "<tr>\n",
       "  <th>Method:</th>                 <td>MLE</td>        <th>  Df Model:          </th>   <td>    14</td>   \n",
       "</tr>\n",
       "<tr>\n",
       "  <th>Date:</th>            <td>Wed, 03 Feb 2021</td>  <th>  Pseudo R-squ.:     </th>   <td>0.1919</td>   \n",
       "</tr>\n",
       "<tr>\n",
       "  <th>Time:</th>                <td>23:47:39</td>      <th>  Log-Likelihood:    </th> <td>-2.2214e+05</td>\n",
       "</tr>\n",
       "<tr>\n",
       "  <th>converged:</th>             <td>True</td>        <th>  LL-Null:           </th> <td>-2.7489e+05</td>\n",
       "</tr>\n",
       "<tr>\n",
       "  <th>Covariance Type:</th>     <td>nonrobust</td>     <th>  LLR p-value:       </th>   <td> 0.000</td>   \n",
       "</tr>\n",
       "</table>\n",
       "<table class=\"simpletable\">\n",
       "<tr>\n",
       "    <td></td>       <th>coef</th>     <th>std err</th>      <th>z</th>      <th>P>|z|</th>  <th>[0.025</th>    <th>0.975]</th>  \n",
       "</tr>\n",
       "<tr>\n",
       "  <th>const</th> <td>   -0.7929</td> <td>    0.004</td> <td> -190.717</td> <td> 0.000</td> <td>   -0.801</td> <td>   -0.785</td>\n",
       "</tr>\n",
       "<tr>\n",
       "  <th>x1</th>    <td>    0.4576</td> <td>    0.003</td> <td>  179.205</td> <td> 0.000</td> <td>    0.453</td> <td>    0.463</td>\n",
       "</tr>\n",
       "<tr>\n",
       "  <th>x2</th>    <td>   -0.3017</td> <td>    0.005</td> <td>  -59.763</td> <td> 0.000</td> <td>   -0.312</td> <td>   -0.292</td>\n",
       "</tr>\n",
       "<tr>\n",
       "  <th>x3</th>    <td>    0.0168</td> <td>    0.004</td> <td>    4.374</td> <td> 0.000</td> <td>    0.009</td> <td>    0.024</td>\n",
       "</tr>\n",
       "<tr>\n",
       "  <th>x4</th>    <td>    0.2598</td> <td>    0.005</td> <td>   56.717</td> <td> 0.000</td> <td>    0.251</td> <td>    0.269</td>\n",
       "</tr>\n",
       "<tr>\n",
       "  <th>x5</th>    <td>    0.1142</td> <td>    0.004</td> <td>   25.996</td> <td> 0.000</td> <td>    0.106</td> <td>    0.123</td>\n",
       "</tr>\n",
       "<tr>\n",
       "  <th>x6</th>    <td>   -0.0158</td> <td>    0.004</td> <td>   -4.207</td> <td> 0.000</td> <td>   -0.023</td> <td>   -0.008</td>\n",
       "</tr>\n",
       "<tr>\n",
       "  <th>x7</th>    <td>    0.2585</td> <td>    0.002</td> <td>  103.599</td> <td> 0.000</td> <td>    0.254</td> <td>    0.263</td>\n",
       "</tr>\n",
       "<tr>\n",
       "  <th>x8</th>    <td>    0.1278</td> <td>    0.003</td> <td>   46.712</td> <td> 0.000</td> <td>    0.122</td> <td>    0.133</td>\n",
       "</tr>\n",
       "<tr>\n",
       "  <th>x9</th>    <td>   -0.0779</td> <td>    0.004</td> <td>  -19.678</td> <td> 0.000</td> <td>   -0.086</td> <td>   -0.070</td>\n",
       "</tr>\n",
       "<tr>\n",
       "  <th>x10</th>   <td>   -0.0603</td> <td>    0.004</td> <td>  -14.347</td> <td> 0.000</td> <td>   -0.069</td> <td>   -0.052</td>\n",
       "</tr>\n",
       "<tr>\n",
       "  <th>x11</th>   <td>    0.2311</td> <td>    0.004</td> <td>   65.368</td> <td> 0.000</td> <td>    0.224</td> <td>    0.238</td>\n",
       "</tr>\n",
       "<tr>\n",
       "  <th>x12</th>   <td>   -0.3078</td> <td>    0.007</td> <td>  -44.660</td> <td> 0.000</td> <td>   -0.321</td> <td>   -0.294</td>\n",
       "</tr>\n",
       "<tr>\n",
       "  <th>x13</th>   <td>    0.2734</td> <td>    0.004</td> <td>   69.970</td> <td> 0.000</td> <td>    0.266</td> <td>    0.281</td>\n",
       "</tr>\n",
       "<tr>\n",
       "  <th>x14</th>   <td>    0.1637</td> <td>    0.003</td> <td>   57.538</td> <td> 0.000</td> <td>    0.158</td> <td>    0.169</td>\n",
       "</tr>\n",
       "</table>"
      ],
      "text/plain": [
       "<class 'statsmodels.iolib.summary.Summary'>\n",
       "\"\"\"\n",
       "                           Logit Regression Results                           \n",
       "==============================================================================\n",
       "Dep. Variable:      is_fatal_or_incap   No. Observations:               402531\n",
       "Model:                          Logit   Df Residuals:                   402516\n",
       "Method:                           MLE   Df Model:                           14\n",
       "Date:                Wed, 03 Feb 2021   Pseudo R-squ.:                  0.1919\n",
       "Time:                        23:47:39   Log-Likelihood:            -2.2214e+05\n",
       "converged:                       True   LL-Null:                   -2.7489e+05\n",
       "Covariance Type:            nonrobust   LLR p-value:                     0.000\n",
       "==============================================================================\n",
       "                 coef    std err          z      P>|z|      [0.025      0.975]\n",
       "------------------------------------------------------------------------------\n",
       "const         -0.7929      0.004   -190.717      0.000      -0.801      -0.785\n",
       "x1             0.4576      0.003    179.205      0.000       0.453       0.463\n",
       "x2            -0.3017      0.005    -59.763      0.000      -0.312      -0.292\n",
       "x3             0.0168      0.004      4.374      0.000       0.009       0.024\n",
       "x4             0.2598      0.005     56.717      0.000       0.251       0.269\n",
       "x5             0.1142      0.004     25.996      0.000       0.106       0.123\n",
       "x6            -0.0158      0.004     -4.207      0.000      -0.023      -0.008\n",
       "x7             0.2585      0.002    103.599      0.000       0.254       0.263\n",
       "x8             0.1278      0.003     46.712      0.000       0.122       0.133\n",
       "x9            -0.0779      0.004    -19.678      0.000      -0.086      -0.070\n",
       "x10           -0.0603      0.004    -14.347      0.000      -0.069      -0.052\n",
       "x11            0.2311      0.004     65.368      0.000       0.224       0.238\n",
       "x12           -0.3078      0.007    -44.660      0.000      -0.321      -0.294\n",
       "x13            0.2734      0.004     69.970      0.000       0.266       0.281\n",
       "x14            0.1637      0.003     57.538      0.000       0.158       0.169\n",
       "==============================================================================\n",
       "\"\"\""
      ]
     },
     "execution_count": 36,
     "metadata": {},
     "output_type": "execute_result"
    }
   ],
   "source": [
    "X_over_incl_const = sm.add_constant(X_over)\n",
    "model = sm.Logit(y_over, X_over_incl_const)\n",
    "results = model.fit(method='lbfgs')\n",
    "results.summary()"
   ]
  },
  {
   "cell_type": "code",
   "execution_count": 37,
   "metadata": {},
   "outputs": [
    {
     "data": {
      "text/html": [
       "<div>\n",
       "<style scoped>\n",
       "    .dataframe tbody tr th:only-of-type {\n",
       "        vertical-align: middle;\n",
       "    }\n",
       "\n",
       "    .dataframe tbody tr th {\n",
       "        vertical-align: top;\n",
       "    }\n",
       "\n",
       "    .dataframe thead th {\n",
       "        text-align: right;\n",
       "    }\n",
       "</style>\n",
       "<table border=\"1\" class=\"dataframe\">\n",
       "  <thead>\n",
       "    <tr style=\"text-align: right;\">\n",
       "      <th></th>\n",
       "      <th>features</th>\n",
       "      <th>VIF</th>\n",
       "    </tr>\n",
       "  </thead>\n",
       "  <tbody>\n",
       "    <tr>\n",
       "      <th>0</th>\n",
       "      <td>is_pedestrian</td>\n",
       "      <td>1.062400</td>\n",
       "    </tr>\n",
       "    <tr>\n",
       "      <th>1</th>\n",
       "      <td>is_parked</td>\n",
       "      <td>1.249255</td>\n",
       "    </tr>\n",
       "    <tr>\n",
       "      <th>2</th>\n",
       "      <td>is_clear_weather</td>\n",
       "      <td>1.084149</td>\n",
       "    </tr>\n",
       "    <tr>\n",
       "      <th>3</th>\n",
       "      <td>POSTED_SPEED_LIMIT</td>\n",
       "      <td>1.101357</td>\n",
       "    </tr>\n",
       "    <tr>\n",
       "      <th>4</th>\n",
       "      <td>has_no_controls</td>\n",
       "      <td>1.490645</td>\n",
       "    </tr>\n",
       "    <tr>\n",
       "      <th>5</th>\n",
       "      <td>has_no_physical_divider</td>\n",
       "      <td>1.052365</td>\n",
       "    </tr>\n",
       "    <tr>\n",
       "      <th>6</th>\n",
       "      <td>is_cyclist</td>\n",
       "      <td>1.025883</td>\n",
       "    </tr>\n",
       "    <tr>\n",
       "      <th>7</th>\n",
       "      <td>is_head_on</td>\n",
       "      <td>1.012913</td>\n",
       "    </tr>\n",
       "    <tr>\n",
       "      <th>8</th>\n",
       "      <td>is_dark_has_no_lighting</td>\n",
       "      <td>1.035274</td>\n",
       "    </tr>\n",
       "    <tr>\n",
       "      <th>9</th>\n",
       "      <td>has_snow_ice_on_road</td>\n",
       "      <td>1.082690</td>\n",
       "    </tr>\n",
       "    <tr>\n",
       "      <th>10</th>\n",
       "      <td>is_no_sunlight</td>\n",
       "      <td>1.053404</td>\n",
       "    </tr>\n",
       "    <tr>\n",
       "      <th>11</th>\n",
       "      <td>is_improper_backing</td>\n",
       "      <td>1.045973</td>\n",
       "    </tr>\n",
       "    <tr>\n",
       "      <th>12</th>\n",
       "      <td>is_intersection_related_involve</td>\n",
       "      <td>1.487902</td>\n",
       "    </tr>\n",
       "    <tr>\n",
       "      <th>13</th>\n",
       "      <td>has_disregarded_traffic_devices</td>\n",
       "      <td>1.112681</td>\n",
       "    </tr>\n",
       "  </tbody>\n",
       "</table>\n",
       "</div>"
      ],
      "text/plain": [
       "                           features       VIF\n",
       "0                     is_pedestrian  1.062400\n",
       "1                         is_parked  1.249255\n",
       "2                  is_clear_weather  1.084149\n",
       "3                POSTED_SPEED_LIMIT  1.101357\n",
       "4                   has_no_controls  1.490645\n",
       "5           has_no_physical_divider  1.052365\n",
       "6                        is_cyclist  1.025883\n",
       "7                        is_head_on  1.012913\n",
       "8           is_dark_has_no_lighting  1.035274\n",
       "9              has_snow_ice_on_road  1.082690\n",
       "10                   is_no_sunlight  1.053404\n",
       "11              is_improper_backing  1.045973\n",
       "12  is_intersection_related_involve  1.487902\n",
       "13  has_disregarded_traffic_devices  1.112681"
      ]
     },
     "execution_count": 37,
     "metadata": {},
     "output_type": "execute_result"
    }
   ],
   "source": [
    "X_over_df = pd.DataFrame(X_over, columns=X.columns)\n",
    "log_reg_utils.calc_vif(X_over_df)"
   ]
  },
  {
   "cell_type": "code",
   "execution_count": null,
   "metadata": {},
   "outputs": [],
   "source": []
  },
  {
   "cell_type": "code",
   "execution_count": null,
   "metadata": {},
   "outputs": [],
   "source": []
  }
 ],
 "metadata": {
  "kernelspec": {
   "display_name": "conda_python3",
   "language": "python",
   "name": "conda_python3"
  },
  "language_info": {
   "codemirror_mode": {
    "name": "ipython",
    "version": 3
   },
   "file_extension": ".py",
   "mimetype": "text/x-python",
   "name": "python",
   "nbconvert_exporter": "python",
   "pygments_lexer": "ipython3",
   "version": "3.6.10"
  }
 },
 "nbformat": 4,
 "nbformat_minor": 4
}
