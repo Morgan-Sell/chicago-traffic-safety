{
 "cells": [
  {
   "cell_type": "markdown",
   "metadata": {},
   "source": [
    "# Logistic Regression"
   ]
  },
  {
   "cell_type": "code",
   "execution_count": 1,
   "metadata": {},
   "outputs": [],
   "source": [
    "#!pip install imblearn"
   ]
  },
  {
   "cell_type": "code",
   "execution_count": 2,
   "metadata": {},
   "outputs": [],
   "source": [
    "import pandas as pd\n",
    "import numpy as np\n",
    "\n",
    "import matplotlib.pyplot as plt\n",
    "import seaborn as sns\n",
    "%matplotlib inline\n",
    "\n",
    "from sklearn.model_selection import train_test_split, GridSearchCV\n",
    "from sklearn.metrics import classification_report, confusion_matrix, roc_auc_score\n",
    "from sklearn.metrics import recall_score, precision_score\n",
    "from sklearn.linear_model import LogisticRegression\n",
    "from sklearn.preprocessing import MinMaxScaler, StandardScaler\n",
    "\n",
    "from imblearn.over_sampling import RandomOverSampler, SMOTE\n",
    "\n",
    "import statsmodels.api as sm\n",
    "from statsmodels.stats.outliers_influence import variance_inflation_factor\n",
    "\n",
    "from src import log_reg_utils"
   ]
  },
  {
   "cell_type": "markdown",
   "metadata": {},
   "source": [
    "## UDF"
   ]
  },
  {
   "cell_type": "code",
   "execution_count": null,
   "metadata": {},
   "outputs": [],
   "source": []
  },
  {
   "cell_type": "markdown",
   "metadata": {},
   "source": [
    "## Import Dataset"
   ]
  },
  {
   "cell_type": "code",
   "execution_count": 3,
   "metadata": {},
   "outputs": [],
   "source": [
    "accidents = pd.read_csv('data/accidents.csv', index_col=0)"
   ]
  },
  {
   "cell_type": "code",
   "execution_count": 4,
   "metadata": {},
   "outputs": [
    {
     "data": {
      "text/html": [
       "<div>\n",
       "<style scoped>\n",
       "    .dataframe tbody tr th:only-of-type {\n",
       "        vertical-align: middle;\n",
       "    }\n",
       "\n",
       "    .dataframe tbody tr th {\n",
       "        vertical-align: top;\n",
       "    }\n",
       "\n",
       "    .dataframe thead th {\n",
       "        text-align: right;\n",
       "    }\n",
       "</style>\n",
       "<table border=\"1\" class=\"dataframe\">\n",
       "  <thead>\n",
       "    <tr style=\"text-align: right;\">\n",
       "      <th></th>\n",
       "      <th>RD_NO</th>\n",
       "      <th>CRASH_DATE</th>\n",
       "      <th>POSTED_SPEED_LIMIT</th>\n",
       "      <th>TRAFFIC_CONTROL_DEVICE</th>\n",
       "      <th>DEVICE_CONDITION</th>\n",
       "      <th>WEATHER_CONDITION</th>\n",
       "      <th>LIGHTING_CONDITION</th>\n",
       "      <th>FIRST_CRASH_TYPE</th>\n",
       "      <th>TRAFFICWAY_TYPE</th>\n",
       "      <th>LANE_CNT</th>\n",
       "      <th>...</th>\n",
       "      <th>at_intersection</th>\n",
       "      <th>was_non_functioning_device</th>\n",
       "      <th>is_day</th>\n",
       "      <th>is_evening</th>\n",
       "      <th>is_morning</th>\n",
       "      <th>is_night</th>\n",
       "      <th>is_fall</th>\n",
       "      <th>is_spring</th>\n",
       "      <th>is_summer</th>\n",
       "      <th>is_winter</th>\n",
       "    </tr>\n",
       "  </thead>\n",
       "  <tbody>\n",
       "    <tr>\n",
       "      <th>0</th>\n",
       "      <td>JC343143</td>\n",
       "      <td>07/10/2019 05:56:00 PM</td>\n",
       "      <td>35</td>\n",
       "      <td>NO CONTROLS</td>\n",
       "      <td>NO CONTROLS</td>\n",
       "      <td>CLEAR</td>\n",
       "      <td>DAYLIGHT</td>\n",
       "      <td>TURNING</td>\n",
       "      <td>ONE-WAY</td>\n",
       "      <td>NaN</td>\n",
       "      <td>...</td>\n",
       "      <td>0</td>\n",
       "      <td>0</td>\n",
       "      <td>1</td>\n",
       "      <td>0</td>\n",
       "      <td>0</td>\n",
       "      <td>0</td>\n",
       "      <td>0</td>\n",
       "      <td>0</td>\n",
       "      <td>1</td>\n",
       "      <td>0</td>\n",
       "    </tr>\n",
       "    <tr>\n",
       "      <th>5</th>\n",
       "      <td>JC194776</td>\n",
       "      <td>03/21/2019 10:50:00 PM</td>\n",
       "      <td>30</td>\n",
       "      <td>TRAFFIC SIGNAL</td>\n",
       "      <td>FUNCTIONING PROPERLY</td>\n",
       "      <td>CLEAR</td>\n",
       "      <td>DARKNESS, LIGHTED ROAD</td>\n",
       "      <td>TURNING</td>\n",
       "      <td>NOT DIVIDED</td>\n",
       "      <td>4.0</td>\n",
       "      <td>...</td>\n",
       "      <td>0</td>\n",
       "      <td>0</td>\n",
       "      <td>0</td>\n",
       "      <td>0</td>\n",
       "      <td>0</td>\n",
       "      <td>1</td>\n",
       "      <td>0</td>\n",
       "      <td>1</td>\n",
       "      <td>0</td>\n",
       "      <td>0</td>\n",
       "    </tr>\n",
       "  </tbody>\n",
       "</table>\n",
       "<p>2 rows × 63 columns</p>\n",
       "</div>"
      ],
      "text/plain": [
       "      RD_NO              CRASH_DATE  POSTED_SPEED_LIMIT  \\\n",
       "0  JC343143  07/10/2019 05:56:00 PM                  35   \n",
       "5  JC194776  03/21/2019 10:50:00 PM                  30   \n",
       "\n",
       "  TRAFFIC_CONTROL_DEVICE      DEVICE_CONDITION WEATHER_CONDITION  \\\n",
       "0            NO CONTROLS           NO CONTROLS             CLEAR   \n",
       "5         TRAFFIC SIGNAL  FUNCTIONING PROPERLY             CLEAR   \n",
       "\n",
       "       LIGHTING_CONDITION FIRST_CRASH_TYPE TRAFFICWAY_TYPE  LANE_CNT  ...  \\\n",
       "0                DAYLIGHT          TURNING         ONE-WAY       NaN  ...   \n",
       "5  DARKNESS, LIGHTED ROAD          TURNING     NOT DIVIDED       4.0  ...   \n",
       "\n",
       "  at_intersection was_non_functioning_device is_day is_evening is_morning  \\\n",
       "0               0                          0      1          0          0   \n",
       "5               0                          0      0          0          0   \n",
       "\n",
       "  is_night is_fall is_spring is_summer  is_winter  \n",
       "0        0       0         0         1          0  \n",
       "5        1       0         1         0          0  \n",
       "\n",
       "[2 rows x 63 columns]"
      ]
     },
     "execution_count": 4,
     "metadata": {},
     "output_type": "execute_result"
    }
   ],
   "source": [
    "accidents.head(2)"
   ]
  },
  {
   "cell_type": "markdown",
   "metadata": {},
   "source": [
    "## Process Data for Model"
   ]
  },
  {
   "cell_type": "code",
   "execution_count": 5,
   "metadata": {},
   "outputs": [],
   "source": [
    "X = accidents[['is_pedestrian',\n",
    "               'has_stop_sign_or_traffic_light',\n",
    "               'is_parked',\n",
    "               'has_no_controls',\n",
    "               'is_cyclist']]\n",
    "\n",
    "\n",
    "\n",
    "y = accidents['is_fatal_or_incap']\n",
    "\n",
    "X_train, X_test, y_train, y_test = train_test_split(X, y, test_size=0.20, random_state=3)"
   ]
  },
  {
   "cell_type": "code",
   "execution_count": 6,
   "metadata": {},
   "outputs": [],
   "source": [
    "scaler = MinMaxScaler()\n",
    "# scaler = StandardScaler()\n",
    "\n",
    "scaler.fit(X_train)\n",
    "X_train_scaled = scaler.transform(X_train)\n",
    "X_test_scaled = scaler.transform(X_test)"
   ]
  },
  {
   "cell_type": "code",
   "execution_count": 7,
   "metadata": {},
   "outputs": [],
   "source": [
    "#oversampler = RandomOverSampler(sampling_strategy=0.75, random_state=3)\n",
    "oversampler = SMOTE(sampling_strategy=0.75, random_state=3)\n",
    "\n",
    "X_over, y_over = oversampler.fit_resample(X_train_scaled, y_train)"
   ]
  },
  {
   "cell_type": "markdown",
   "metadata": {},
   "source": [
    "### Hyperparameter Tuning"
   ]
  },
  {
   "cell_type": "code",
   "execution_count": 8,
   "metadata": {},
   "outputs": [],
   "source": [
    "#solvers = ['newton-cg', 'lbfgs', 'liblinear']\n",
    "c_values =  [0.01, 0.1, 1.0, 10, 100]\n",
    "params_grid = dict(C=c_values)"
   ]
  },
  {
   "cell_type": "code",
   "execution_count": 9,
   "metadata": {},
   "outputs": [],
   "source": [
    "log_reg = LogisticRegression(penalty='l1', solver='saga', max_iter=1000, fit_intercept=True, random_state=3)\n",
    "\n",
    "clf = GridSearchCV(log_reg, params_grid, cv=5, verbose=0, scoring='recall')\n",
    "\n",
    "best_model = clf.fit(X_over, y_over)"
   ]
  },
  {
   "cell_type": "code",
   "execution_count": 10,
   "metadata": {},
   "outputs": [
    {
     "name": "stdout",
     "output_type": "stream",
     "text": [
      "Best C:  10\n"
     ]
    }
   ],
   "source": [
    "print('Best C: ', best_model.best_estimator_.get_params()['C'])"
   ]
  },
  {
   "cell_type": "markdown",
   "metadata": {},
   "source": [
    "### Train and Predict"
   ]
  },
  {
   "cell_type": "code",
   "execution_count": 50,
   "metadata": {},
   "outputs": [
    {
     "name": "stdout",
     "output_type": "stream",
     "text": [
      "[[51750  5800]\n",
      " [  600   465]]\n",
      "\n",
      "\n",
      "Recall (Scores FN):  0.4366\n",
      "Precision (Scores FP):  0.0742\n",
      "AUC Score:  0.7409\n"
     ]
    }
   ],
   "source": [
    "penalty = 'l1'\n",
    "solver='saga'\n",
    "c=1.0\n",
    "\n",
    "log_reg = LogisticRegression(penalty=penalty, solver=solver, C=c, max_iter=1000, fit_intercept=True, random_state=3)\n",
    "log_reg.fit(X_over, y_over)\n",
    "y_pred = log_reg.predict(X_test_scaled)\n",
    "y_prob = log_reg.predict_proba(X_test_scaled)[:, 1]\n",
    "\n",
    "cf_matrix = confusion_matrix(y_test, y_pred)\n",
    "print(cf_matrix)\n",
    "print('\\n')\n",
    "print('Recall (Scores FN): ', round(recall_score(y_test, y_pred), 4))\n",
    "print('Precision (Scores FP): ', round(precision_score(y_test, y_pred), 4))\n",
    "print('AUC Score: ', round(roc_auc_score(y_test, y_prob), 4))"
   ]
  },
  {
   "cell_type": "code",
   "execution_count": 51,
   "metadata": {},
   "outputs": [
    {
     "data": {
      "image/png": "[encoded data removed]",
      "text/plain": [
       "<Figure size 504x288 with 2 Axes>"
      ]
     },
     "metadata": {
      "needs_background": "light"
     },
     "output_type": "display_data"
    }
   ],
   "source": [
    "plt.figure(figsize=(7,4))\n",
    "sns.heatmap(cf_matrix, cmap='coolwarm', annot=True, annot_kws={'size': 20, 'fontweight':'bold'}, fmt='d',\n",
    "                 xticklabels=False, yticklabels=False);\n",
    "#plt.savefig('img/cf_matrix.png', bbox_inches='tight')"
   ]
  },
  {
   "cell_type": "code",
   "execution_count": 52,
   "metadata": {},
   "outputs": [
    {
     "data": {
      "text/html": [
       "<div>\n",
       "<style scoped>\n",
       "    .dataframe tbody tr th:only-of-type {\n",
       "        vertical-align: middle;\n",
       "    }\n",
       "\n",
       "    .dataframe tbody tr th {\n",
       "        vertical-align: top;\n",
       "    }\n",
       "\n",
       "    .dataframe thead th {\n",
       "        text-align: right;\n",
       "    }\n",
       "</style>\n",
       "<table border=\"1\" class=\"dataframe\">\n",
       "  <thead>\n",
       "    <tr style=\"text-align: right;\">\n",
       "      <th></th>\n",
       "      <th>feature_name</th>\n",
       "      <th>log_reg_coef</th>\n",
       "    </tr>\n",
       "  </thead>\n",
       "  <tbody>\n",
       "    <tr>\n",
       "      <th>9</th>\n",
       "      <td>POSTED_SPEED_LIMIT</td>\n",
       "      <td>3.624411</td>\n",
       "    </tr>\n",
       "    <tr>\n",
       "      <th>1</th>\n",
       "      <td>involved_pedest_cycle</td>\n",
       "      <td>2.522580</td>\n",
       "    </tr>\n",
       "    <tr>\n",
       "      <th>10</th>\n",
       "      <td>was_head_on</td>\n",
       "      <td>1.116474</td>\n",
       "    </tr>\n",
       "    <tr>\n",
       "      <th>4</th>\n",
       "      <td>is_night</td>\n",
       "      <td>0.458669</td>\n",
       "    </tr>\n",
       "    <tr>\n",
       "      <th>2</th>\n",
       "      <td>at_stop_sign_or_traffic_light</td>\n",
       "      <td>0.231601</td>\n",
       "    </tr>\n",
       "    <tr>\n",
       "      <th>0</th>\n",
       "      <td>is_weekend</td>\n",
       "      <td>0.159704</td>\n",
       "    </tr>\n",
       "    <tr>\n",
       "      <th>5</th>\n",
       "      <td>is_rain</td>\n",
       "      <td>0.111316</td>\n",
       "    </tr>\n",
       "    <tr>\n",
       "      <th>8</th>\n",
       "      <td>is_fall</td>\n",
       "      <td>0.007117</td>\n",
       "    </tr>\n",
       "    <tr>\n",
       "      <th>7</th>\n",
       "      <td>is_winter</td>\n",
       "      <td>-0.030453</td>\n",
       "    </tr>\n",
       "    <tr>\n",
       "      <th>3</th>\n",
       "      <td>is_day</td>\n",
       "      <td>-0.131076</td>\n",
       "    </tr>\n",
       "    <tr>\n",
       "      <th>6</th>\n",
       "      <td>is_sleet_snow</td>\n",
       "      <td>-0.323399</td>\n",
       "    </tr>\n",
       "    <tr>\n",
       "      <th>11</th>\n",
       "      <td>was_parked</td>\n",
       "      <td>-0.883308</td>\n",
       "    </tr>\n",
       "  </tbody>\n",
       "</table>\n",
       "</div>"
      ],
      "text/plain": [
       "                     feature_name  log_reg_coef\n",
       "9              POSTED_SPEED_LIMIT      3.624411\n",
       "1           involved_pedest_cycle      2.522580\n",
       "10                    was_head_on      1.116474\n",
       "4                        is_night      0.458669\n",
       "2   at_stop_sign_or_traffic_light      0.231601\n",
       "0                      is_weekend      0.159704\n",
       "5                         is_rain      0.111316\n",
       "8                         is_fall      0.007117\n",
       "7                       is_winter     -0.030453\n",
       "3                          is_day     -0.131076\n",
       "6                   is_sleet_snow     -0.323399\n",
       "11                     was_parked     -0.883308"
      ]
     },
     "execution_count": 52,
     "metadata": {},
     "output_type": "execute_result"
    }
   ],
   "source": [
    "coef_summary = pd.DataFrame()\n",
    "coef_summary['feature_name'] = pd.Series(X.columns)\n",
    "coef_summary['log_reg_coef'] = pd.Series(log_reg.coef_[0])\n",
    "coef_summary.sort_values('log_reg_coef', inplace = True, ascending=False)\n",
    "coef_summary"
   ]
  },
  {
   "cell_type": "code",
   "execution_count": 53,
   "metadata": {},
   "outputs": [
    {
     "name": "stdout",
     "output_type": "stream",
     "text": [
      "Intercept:  -2.2374766309657805\n"
     ]
    }
   ],
   "source": [
    "print('Intercept: ', log_reg.intercept_[0])"
   ]
  },
  {
   "cell_type": "markdown",
   "metadata": {},
   "source": [
    "### Test for Multicolinearity"
   ]
  },
  {
   "cell_type": "code",
   "execution_count": 54,
   "metadata": {},
   "outputs": [
    {
     "data": {
      "text/plain": [
       "(402531,)"
      ]
     },
     "execution_count": 54,
     "metadata": {},
     "output_type": "execute_result"
    }
   ],
   "source": [
    "type(X_over)\n",
    "y_over.shape"
   ]
  },
  {
   "cell_type": "code",
   "execution_count": 55,
   "metadata": {},
   "outputs": [
    {
     "name": "stdout",
     "output_type": "stream",
     "text": [
      "Warning: Maximum number of iterations has been exceeded.\n",
      "         Current function value: 0.568518\n",
      "         Iterations: 35\n",
      "         Function evaluations: 102\n",
      "         Gradient evaluations: 102\n"
     ]
    },
    {
     "name": "stderr",
     "output_type": "stream",
     "text": [
      "/home/ec2-user/anaconda3/envs/python3/lib/python3.6/site-packages/statsmodels/base/model.py:568: ConvergenceWarning: Maximum Likelihood optimization failed to converge. Check mle_retvals\n",
      "  \"Check mle_retvals\", ConvergenceWarning)\n"
     ]
    },
    {
     "data": {
      "text/html": [
       "<table class=\"simpletable\">\n",
       "<caption>Logit Regression Results</caption>\n",
       "<tr>\n",
       "  <th>Dep. Variable:</th>   <td>is_fatal_or_incap</td> <th>  No. Observations:  </th>   <td>402531</td>   \n",
       "</tr>\n",
       "<tr>\n",
       "  <th>Model:</th>                 <td>Logit</td>       <th>  Df Residuals:      </th>   <td>402518</td>   \n",
       "</tr>\n",
       "<tr>\n",
       "  <th>Method:</th>                 <td>MLE</td>        <th>  Df Model:          </th>   <td>    12</td>   \n",
       "</tr>\n",
       "<tr>\n",
       "  <th>Date:</th>            <td>Tue, 02 Feb 2021</td>  <th>  Pseudo R-squ.:     </th>   <td>0.1675</td>   \n",
       "</tr>\n",
       "<tr>\n",
       "  <th>Time:</th>                <td>04:52:08</td>      <th>  Log-Likelihood:    </th> <td>-2.2885e+05</td>\n",
       "</tr>\n",
       "<tr>\n",
       "  <th>converged:</th>             <td>False</td>       <th>  LL-Null:           </th> <td>-2.7489e+05</td>\n",
       "</tr>\n",
       "<tr>\n",
       "  <th>Covariance Type:</th>     <td>nonrobust</td>     <th>  LLR p-value:       </th>   <td> 0.000</td>   \n",
       "</tr>\n",
       "</table>\n",
       "<table class=\"simpletable\">\n",
       "<tr>\n",
       "    <td></td>       <th>coef</th>     <th>std err</th>      <th>z</th>      <th>P>|z|</th>  <th>[0.025</th>    <th>0.975]</th>  \n",
       "</tr>\n",
       "<tr>\n",
       "  <th>const</th> <td>   -2.2195</td> <td>    0.025</td> <td>  -90.403</td> <td> 0.000</td> <td>   -2.268</td> <td>   -2.171</td>\n",
       "</tr>\n",
       "<tr>\n",
       "  <th>x1</th>    <td>    0.1616</td> <td>    0.008</td> <td>   19.938</td> <td> 0.000</td> <td>    0.146</td> <td>    0.177</td>\n",
       "</tr>\n",
       "<tr>\n",
       "  <th>x2</th>    <td>    2.5192</td> <td>    0.012</td> <td>  202.907</td> <td> 0.000</td> <td>    2.495</td> <td>    2.544</td>\n",
       "</tr>\n",
       "<tr>\n",
       "  <th>x3</th>    <td>    0.2296</td> <td>    0.008</td> <td>   30.569</td> <td> 0.000</td> <td>    0.215</td> <td>    0.244</td>\n",
       "</tr>\n",
       "<tr>\n",
       "  <th>x4</th>    <td>   -0.1332</td> <td>    0.008</td> <td>  -16.398</td> <td> 0.000</td> <td>   -0.149</td> <td>   -0.117</td>\n",
       "</tr>\n",
       "<tr>\n",
       "  <th>x5</th>    <td>    0.4605</td> <td>    0.010</td> <td>   44.434</td> <td> 0.000</td> <td>    0.440</td> <td>    0.481</td>\n",
       "</tr>\n",
       "<tr>\n",
       "  <th>x6</th>    <td>    0.1101</td> <td>    0.012</td> <td>    9.388</td> <td> 0.000</td> <td>    0.087</td> <td>    0.133</td>\n",
       "</tr>\n",
       "<tr>\n",
       "  <th>x7</th>    <td>   -0.3239</td> <td>    0.019</td> <td>  -16.736</td> <td> 0.000</td> <td>   -0.362</td> <td>   -0.286</td>\n",
       "</tr>\n",
       "<tr>\n",
       "  <th>x8</th>    <td>   -0.0300</td> <td>    0.009</td> <td>   -3.327</td> <td> 0.001</td> <td>   -0.048</td> <td>   -0.012</td>\n",
       "</tr>\n",
       "<tr>\n",
       "  <th>x9</th>    <td>    0.0075</td> <td>    0.009</td> <td>    0.873</td> <td> 0.383</td> <td>   -0.009</td> <td>    0.024</td>\n",
       "</tr>\n",
       "<tr>\n",
       "  <th>x10</th>   <td>    3.5841</td> <td>    0.054</td> <td>   66.744</td> <td> 0.000</td> <td>    3.479</td> <td>    3.689</td>\n",
       "</tr>\n",
       "<tr>\n",
       "  <th>x11</th>   <td>    1.0701</td> <td>    0.031</td> <td>   34.327</td> <td> 0.000</td> <td>    1.009</td> <td>    1.131</td>\n",
       "</tr>\n",
       "<tr>\n",
       "  <th>x12</th>   <td>   -0.8864</td> <td>    0.012</td> <td>  -72.677</td> <td> 0.000</td> <td>   -0.910</td> <td>   -0.863</td>\n",
       "</tr>\n",
       "</table>"
      ],
      "text/plain": [
       "<class 'statsmodels.iolib.summary.Summary'>\n",
       "\"\"\"\n",
       "                           Logit Regression Results                           \n",
       "==============================================================================\n",
       "Dep. Variable:      is_fatal_or_incap   No. Observations:               402531\n",
       "Model:                          Logit   Df Residuals:                   402518\n",
       "Method:                           MLE   Df Model:                           12\n",
       "Date:                Tue, 02 Feb 2021   Pseudo R-squ.:                  0.1675\n",
       "Time:                        04:52:08   Log-Likelihood:            -2.2885e+05\n",
       "converged:                      False   LL-Null:                   -2.7489e+05\n",
       "Covariance Type:            nonrobust   LLR p-value:                     0.000\n",
       "==============================================================================\n",
       "                 coef    std err          z      P>|z|      [0.025      0.975]\n",
       "------------------------------------------------------------------------------\n",
       "const         -2.2195      0.025    -90.403      0.000      -2.268      -2.171\n",
       "x1             0.1616      0.008     19.938      0.000       0.146       0.177\n",
       "x2             2.5192      0.012    202.907      0.000       2.495       2.544\n",
       "x3             0.2296      0.008     30.569      0.000       0.215       0.244\n",
       "x4            -0.1332      0.008    -16.398      0.000      -0.149      -0.117\n",
       "x5             0.4605      0.010     44.434      0.000       0.440       0.481\n",
       "x6             0.1101      0.012      9.388      0.000       0.087       0.133\n",
       "x7            -0.3239      0.019    -16.736      0.000      -0.362      -0.286\n",
       "x8            -0.0300      0.009     -3.327      0.001      -0.048      -0.012\n",
       "x9             0.0075      0.009      0.873      0.383      -0.009       0.024\n",
       "x10            3.5841      0.054     66.744      0.000       3.479       3.689\n",
       "x11            1.0701      0.031     34.327      0.000       1.009       1.131\n",
       "x12           -0.8864      0.012    -72.677      0.000      -0.910      -0.863\n",
       "==============================================================================\n",
       "\"\"\""
      ]
     },
     "execution_count": 55,
     "metadata": {},
     "output_type": "execute_result"
    }
   ],
   "source": [
    "X_over_incl_const = sm.add_constant(X_over)\n",
    "model = sm.Logit(y_over, X_over_incl_const)\n",
    "results = model.fit(method='cg')\n",
    "results.summary()"
   ]
  },
  {
   "cell_type": "code",
   "execution_count": 56,
   "metadata": {},
   "outputs": [
    {
     "data": {
      "text/html": [
       "<div>\n",
       "<style scoped>\n",
       "    .dataframe tbody tr th:only-of-type {\n",
       "        vertical-align: middle;\n",
       "    }\n",
       "\n",
       "    .dataframe tbody tr th {\n",
       "        vertical-align: top;\n",
       "    }\n",
       "\n",
       "    .dataframe thead th {\n",
       "        text-align: right;\n",
       "    }\n",
       "</style>\n",
       "<table border=\"1\" class=\"dataframe\">\n",
       "  <thead>\n",
       "    <tr style=\"text-align: right;\">\n",
       "      <th></th>\n",
       "      <th>features</th>\n",
       "      <th>VIF</th>\n",
       "    </tr>\n",
       "  </thead>\n",
       "  <tbody>\n",
       "    <tr>\n",
       "      <th>0</th>\n",
       "      <td>is_weekend</td>\n",
       "      <td>1.426986</td>\n",
       "    </tr>\n",
       "    <tr>\n",
       "      <th>1</th>\n",
       "      <td>involved_pedest_cycle</td>\n",
       "      <td>1.232462</td>\n",
       "    </tr>\n",
       "    <tr>\n",
       "      <th>2</th>\n",
       "      <td>at_stop_sign_or_traffic_light</td>\n",
       "      <td>1.950757</td>\n",
       "    </tr>\n",
       "    <tr>\n",
       "      <th>3</th>\n",
       "      <td>is_day</td>\n",
       "      <td>2.241828</td>\n",
       "    </tr>\n",
       "    <tr>\n",
       "      <th>4</th>\n",
       "      <td>is_night</td>\n",
       "      <td>1.591104</td>\n",
       "    </tr>\n",
       "    <tr>\n",
       "      <th>5</th>\n",
       "      <td>is_rain</td>\n",
       "      <td>1.138169</td>\n",
       "    </tr>\n",
       "    <tr>\n",
       "      <th>6</th>\n",
       "      <td>is_sleet_snow</td>\n",
       "      <td>1.108883</td>\n",
       "    </tr>\n",
       "    <tr>\n",
       "      <th>7</th>\n",
       "      <td>is_winter</td>\n",
       "      <td>1.696152</td>\n",
       "    </tr>\n",
       "    <tr>\n",
       "      <th>8</th>\n",
       "      <td>is_fall</td>\n",
       "      <td>1.687764</td>\n",
       "    </tr>\n",
       "    <tr>\n",
       "      <th>9</th>\n",
       "      <td>POSTED_SPEED_LIMIT</td>\n",
       "      <td>5.431292</td>\n",
       "    </tr>\n",
       "    <tr>\n",
       "      <th>10</th>\n",
       "      <td>was_head_on</td>\n",
       "      <td>1.022605</td>\n",
       "    </tr>\n",
       "    <tr>\n",
       "      <th>11</th>\n",
       "      <td>was_parked</td>\n",
       "      <td>1.301537</td>\n",
       "    </tr>\n",
       "  </tbody>\n",
       "</table>\n",
       "</div>"
      ],
      "text/plain": [
       "                         features       VIF\n",
       "0                      is_weekend  1.426986\n",
       "1           involved_pedest_cycle  1.232462\n",
       "2   at_stop_sign_or_traffic_light  1.950757\n",
       "3                          is_day  2.241828\n",
       "4                        is_night  1.591104\n",
       "5                         is_rain  1.138169\n",
       "6                   is_sleet_snow  1.108883\n",
       "7                       is_winter  1.696152\n",
       "8                         is_fall  1.687764\n",
       "9              POSTED_SPEED_LIMIT  5.431292\n",
       "10                    was_head_on  1.022605\n",
       "11                     was_parked  1.301537"
      ]
     },
     "execution_count": 56,
     "metadata": {},
     "output_type": "execute_result"
    }
   ],
   "source": [
    "X_over_df = pd.DataFrame(X_over, columns=X.columns)\n",
    "log_reg_utils.calc_vif(X_over_df)"
   ]
  },
  {
   "cell_type": "code",
   "execution_count": null,
   "metadata": {},
   "outputs": [],
   "source": []
  },
  {
   "cell_type": "code",
   "execution_count": null,
   "metadata": {},
   "outputs": [],
   "source": []
  }
 ],
 "metadata": {
  "kernelspec": {
   "display_name": "conda_python3",
   "language": "python",
   "name": "conda_python3"
  },
  "language_info": {
   "codemirror_mode": {
    "name": "ipython",
    "version": 3
   },
   "file_extension": ".py",
   "mimetype": "text/x-python",
   "name": "python",
   "nbconvert_exporter": "python",
   "pygments_lexer": "ipython3",
   "version": "3.6.10"
  }
 },
 "nbformat": 4,
 "nbformat_minor": 4
}
