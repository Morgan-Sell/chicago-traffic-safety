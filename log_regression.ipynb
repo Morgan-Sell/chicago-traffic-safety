{
 "cells": [
  {
   "cell_type": "markdown",
   "metadata": {},
   "source": [
    "# Logistic Regression"
   ]
  },
  {
   "cell_type": "code",
   "execution_count": 1,
   "metadata": {},
   "outputs": [],
   "source": [
    "#!pip install imblearn"
   ]
  },
  {
   "cell_type": "code",
   "execution_count": 4,
   "metadata": {},
   "outputs": [],
   "source": [
    "import pandas as pd\n",
    "import numpy as np\n",
    "\n",
    "import matplotlib.pyplot as plt\n",
    "import seaborn as sns\n",
    "%matplotlib inline\n",
    "\n",
    "from sklearn.model_selection import train_test_split, GridSearchCV\n",
    "from sklearn.metrics import classification_report, confusion_matrix, roc_auc_score\n",
    "from sklearn.metrics import recall_score, precision_score\n",
    "from sklearn.linear_model import LogisticRegression\n",
    "from sklearn.preprocessing import MinMaxScaler, StandardScaler\n",
    "\n",
    "from imblearn.over_sampling import RandomOverSampler, SMOTE\n",
    "\n",
    "import statsmodels.api as sm\n",
    "from statsmodels.stats.outliers_influence import variance_inflation_factor\n",
    "\n",
    "from src import log_reg_utils"
   ]
  },
  {
   "cell_type": "markdown",
   "metadata": {},
   "source": [
    "## UDF"
   ]
  },
  {
   "cell_type": "code",
   "execution_count": null,
   "metadata": {},
   "outputs": [],
   "source": []
  },
  {
   "cell_type": "markdown",
   "metadata": {},
   "source": [
    "## Import Dataset"
   ]
  },
  {
   "cell_type": "code",
   "execution_count": 6,
   "metadata": {},
   "outputs": [
    {
     "name": "stdout",
     "output_type": "stream",
     "text": [
      "0. RD_NO\n",
      "1. CRASH_DATE\n",
      "2. POSTED_SPEED_LIMIT\n",
      "3. TRAFFIC_CONTROL_DEVICE\n",
      "4. DEVICE_CONDITION\n",
      "5. WEATHER_CONDITION\n",
      "6. LIGHTING_CONDITION\n",
      "7. FIRST_CRASH_TYPE\n",
      "8. TRAFFICWAY_TYPE\n",
      "9. LANE_CNT\n",
      "10. ALIGNMENT\n",
      "11. ROADWAY_SURFACE_COND\n",
      "12. ROAD_DEFECT\n",
      "13. CRASH_TYPE\n",
      "14. INTERSECTION_RELATED_I\n",
      "15. NOT_RIGHT_OF_WAY_I\n",
      "16. HIT_AND_RUN_I\n",
      "17. PRIM_CONTRIBUTORY_CAUSE\n",
      "18. SEC_CONTRIBUTORY_CAUSE\n",
      "19. STREET_NO\n",
      "20. STREET_DIRECTION\n",
      "21. STREET_NAME\n",
      "22. BEAT_OF_OCCURRENCE\n",
      "23. WORK_ZONE_I\n",
      "24. WORK_ZONE_TYPE\n",
      "25. WORKERS_PRESENT_I\n",
      "26. INJURIES_UNKNOWN\n",
      "27. CRASH_HOUR\n",
      "28. CRASH_DAY_OF_WEEK\n",
      "29. CRASH_MONTH\n",
      "30. LATITUDE\n",
      "31. LONGITUDE\n",
      "32. LOCATION\n",
      "33. crash_date\n",
      "34. crash_year\n",
      "35. crash_month\n",
      "36. is_fatal_or_incap\n",
      "37. time_of_day\n",
      "38. is_weekend\n",
      "39. season\n",
      "40. is_cyclist\n",
      "41. is_pedestrian\n",
      "42. is_head_on\n",
      "43. is_parked\n",
      "44. is_using_cellphone\n",
      "45. has_disregarded_traffic_devices\n",
      "46. is_failed_to_yield_right_of_way\n",
      "47. is_reckless_driving\n",
      "48. is_sleet_snow\n",
      "49. is_rain\n",
      "50. is_clear_weather\n",
      "51. has_snow_ice\n",
      "52. is_dark_no_lighting\n",
      "53. has_stop_sign_or_traffic_light\n",
      "54. is_intersection\n",
      "55. is_non_functioning_device\n",
      "56. has_no_controls\n",
      "57. is_day\n",
      "58. is_evening\n",
      "59. is_morning\n",
      "60. is_night\n",
      "61. is_fall\n",
      "62. is_spring\n",
      "63. is_summer\n",
      "64. is_winter\n",
      "65. has_no_physical_divide\n"
     ]
    }
   ],
   "source": [
    "accidents = pd.read_csv('data/accidents.csv', index_col=0)\n",
    "for idx, feature in enumerate(accidents.columns):\n",
    "    print('{}. {}'.format(idx, feature))"
   ]
  },
  {
   "cell_type": "markdown",
   "metadata": {},
   "source": [
    "## Process Data for Model"
   ]
  },
  {
   "cell_type": "code",
   "execution_count": 9,
   "metadata": {},
   "outputs": [],
   "source": [
    "indices = [2, 38, 40, 41, 42, 43, 48, 50, 53, 56, 57, 60, 64, 65]\n",
    "selected_features = list(accidents.columns[indices])\n",
    "\n",
    "X = accidents[selected_features]\n",
    "y = accidents['is_fatal_or_incap']\n",
    "\n",
    "X_train, X_test, y_train, y_test = train_test_split(X, y, test_size=0.20, random_state=3)"
   ]
  },
  {
   "cell_type": "code",
   "execution_count": 10,
   "metadata": {},
   "outputs": [],
   "source": [
    "#scaler = MinMaxScaler()\n",
    "scaler = StandardScaler()\n",
    "\n",
    "scaler.fit(X_train)\n",
    "X_train_scaled = scaler.transform(X_train)\n",
    "X_test_scaled = scaler.transform(X_test)"
   ]
  },
  {
   "cell_type": "code",
   "execution_count": 13,
   "metadata": {},
   "outputs": [],
   "source": [
    "#oversampler = RandomOverSampler(sampling_strategy=0.75, random_state=3)\n",
    "oversampler = SMOTE(sampling_strategy=0.75, random_state=3)\n",
    "\n",
    "X_over, y_over = oversampler.fit_resample(X_train_scaled, y_train)"
   ]
  },
  {
   "cell_type": "markdown",
   "metadata": {},
   "source": [
    "### Hyperparameter Tuning"
   ]
  },
  {
   "cell_type": "code",
   "execution_count": 14,
   "metadata": {},
   "outputs": [],
   "source": [
    "#solvers = ['saga', 'newton-cg', 'lbfgs', 'liblinear']\n",
    "#penalties = ['l1', 'l2']\n",
    "c_values =  [0.01, 0.1, 1.0, 10, 100]\n",
    "params_grid = dict(C=c_values)#, penalty=penalties, solver=solvers)"
   ]
  },
  {
   "cell_type": "code",
   "execution_count": 15,
   "metadata": {},
   "outputs": [],
   "source": [
    "log_reg = LogisticRegression(max_iter=1000, fit_intercept=True, random_state=3)\n",
    "\n",
    "clf = GridSearchCV(log_reg, params_grid, cv=5, verbose=0, scoring='recall')\n",
    "\n",
    "best_model = clf.fit(X_over, y_over)"
   ]
  },
  {
   "cell_type": "code",
   "execution_count": 16,
   "metadata": {},
   "outputs": [
    {
     "name": "stdout",
     "output_type": "stream",
     "text": [
      "Best Solver:  lbfgs\n",
      "Optimal Penalty:  l2\n",
      "Best C:  0.1\n"
     ]
    }
   ],
   "source": [
    "print('Best Solver: ', best_model.best_estimator_.get_params()['solver'])\n",
    "print('Optimal Penalty: ', best_model.best_estimator_.get_params()['penalty'])\n",
    "print('Best C: ', best_model.best_estimator_.get_params()['C'])"
   ]
  },
  {
   "cell_type": "markdown",
   "metadata": {},
   "source": [
    "### Train and Predict"
   ]
  },
  {
   "cell_type": "code",
   "execution_count": 17,
   "metadata": {},
   "outputs": [
    {
     "name": "stdout",
     "output_type": "stream",
     "text": [
      "[[52066  5484]\n",
      " [  602   463]]\n",
      "\n",
      "\n",
      "Recall (Scores FN):  0.4347\n",
      "Precision (Scores FP):  0.0779\n",
      "AUC Score:  0.7428\n"
     ]
    }
   ],
   "source": [
    "penalty = 'l2'\n",
    "solver='newton-cg'\n",
    "c=0.1\n",
    "\n",
    "log_reg = LogisticRegression(penalty=penalty, solver=solver, C=c, max_iter=1000, fit_intercept=True, random_state=3)\n",
    "log_reg.fit(X_over, y_over)\n",
    "y_pred = log_reg.predict(X_test_scaled)\n",
    "y_prob = log_reg.predict_proba(X_test_scaled)[:, 1]\n",
    "\n",
    "cf_matrix = confusion_matrix(y_test, y_pred)\n",
    "print(cf_matrix)\n",
    "print('\\n')\n",
    "print('Recall (Scores FN): ', round(recall_score(y_test, y_pred), 4))\n",
    "print('Precision (Scores FP): ', round(precision_score(y_test, y_pred), 4))\n",
    "print('AUC Score: ', round(roc_auc_score(y_test, y_prob), 4))"
   ]
  },
  {
   "cell_type": "code",
   "execution_count": 18,
   "metadata": {},
   "outputs": [
    {
     "data": {
      "image/png": "[encoded data removed]",
      "text/plain": [
       "<Figure size 504x288 with 2 Axes>"
      ]
     },
     "metadata": {
      "needs_background": "light"
     },
     "output_type": "display_data"
    }
   ],
   "source": [
    "plt.figure(figsize=(7,4))\n",
    "sns.heatmap(cf_matrix, cmap='coolwarm', annot=True, annot_kws={'size': 20, 'fontweight':'bold'}, fmt='d',\n",
    "                 xticklabels=False, yticklabels=False);\n",
    "#plt.savefig('img/cf_matrix.png', bbox_inches='tight')"
   ]
  },
  {
   "cell_type": "code",
   "execution_count": 19,
   "metadata": {},
   "outputs": [
    {
     "data": {
      "text/html": [
       "<div>\n",
       "<style scoped>\n",
       "    .dataframe tbody tr th:only-of-type {\n",
       "        vertical-align: middle;\n",
       "    }\n",
       "\n",
       "    .dataframe tbody tr th {\n",
       "        vertical-align: top;\n",
       "    }\n",
       "\n",
       "    .dataframe thead th {\n",
       "        text-align: right;\n",
       "    }\n",
       "</style>\n",
       "<table border=\"1\" class=\"dataframe\">\n",
       "  <thead>\n",
       "    <tr style=\"text-align: right;\">\n",
       "      <th></th>\n",
       "      <th>feature_name</th>\n",
       "      <th>log_reg_coef</th>\n",
       "    </tr>\n",
       "  </thead>\n",
       "  <tbody>\n",
       "    <tr>\n",
       "      <th>3</th>\n",
       "      <td>is_pedestrian</td>\n",
       "      <td>0.451810</td>\n",
       "    </tr>\n",
       "    <tr>\n",
       "      <th>0</th>\n",
       "      <td>POSTED_SPEED_LIMIT</td>\n",
       "      <td>0.306702</td>\n",
       "    </tr>\n",
       "    <tr>\n",
       "      <th>8</th>\n",
       "      <td>has_stop_sign_or_traffic_light</td>\n",
       "      <td>0.291960</td>\n",
       "    </tr>\n",
       "    <tr>\n",
       "      <th>2</th>\n",
       "      <td>is_cyclist</td>\n",
       "      <td>0.259447</td>\n",
       "    </tr>\n",
       "    <tr>\n",
       "      <th>9</th>\n",
       "      <td>has_no_controls</td>\n",
       "      <td>0.189749</td>\n",
       "    </tr>\n",
       "    <tr>\n",
       "      <th>11</th>\n",
       "      <td>is_night</td>\n",
       "      <td>0.170231</td>\n",
       "    </tr>\n",
       "    <tr>\n",
       "      <th>4</th>\n",
       "      <td>is_head_on</td>\n",
       "      <td>0.116895</td>\n",
       "    </tr>\n",
       "    <tr>\n",
       "      <th>1</th>\n",
       "      <td>is_weekend</td>\n",
       "      <td>0.067617</td>\n",
       "    </tr>\n",
       "    <tr>\n",
       "      <th>7</th>\n",
       "      <td>is_clear_weather</td>\n",
       "      <td>0.033816</td>\n",
       "    </tr>\n",
       "    <tr>\n",
       "      <th>12</th>\n",
       "      <td>is_fall</td>\n",
       "      <td>-0.001251</td>\n",
       "    </tr>\n",
       "    <tr>\n",
       "      <th>14</th>\n",
       "      <td>has_no_physical_divide</td>\n",
       "      <td>-0.017587</td>\n",
       "    </tr>\n",
       "    <tr>\n",
       "      <th>6</th>\n",
       "      <td>is_sleet_snow</td>\n",
       "      <td>-0.018385</td>\n",
       "    </tr>\n",
       "    <tr>\n",
       "      <th>13</th>\n",
       "      <td>is_winter</td>\n",
       "      <td>-0.037201</td>\n",
       "    </tr>\n",
       "    <tr>\n",
       "      <th>10</th>\n",
       "      <td>is_day</td>\n",
       "      <td>-0.061678</td>\n",
       "    </tr>\n",
       "    <tr>\n",
       "      <th>5</th>\n",
       "      <td>is_parked</td>\n",
       "      <td>-0.361891</td>\n",
       "    </tr>\n",
       "  </tbody>\n",
       "</table>\n",
       "</div>"
      ],
      "text/plain": [
       "                      feature_name  log_reg_coef\n",
       "3                    is_pedestrian      0.451810\n",
       "0               POSTED_SPEED_LIMIT      0.306702\n",
       "8   has_stop_sign_or_traffic_light      0.291960\n",
       "2                       is_cyclist      0.259447\n",
       "9                  has_no_controls      0.189749\n",
       "11                        is_night      0.170231\n",
       "4                       is_head_on      0.116895\n",
       "1                       is_weekend      0.067617\n",
       "7                 is_clear_weather      0.033816\n",
       "12                         is_fall     -0.001251\n",
       "14          has_no_physical_divide     -0.017587\n",
       "6                    is_sleet_snow     -0.018385\n",
       "13                       is_winter     -0.037201\n",
       "10                          is_day     -0.061678\n",
       "5                        is_parked     -0.361891"
      ]
     },
     "execution_count": 19,
     "metadata": {},
     "output_type": "execute_result"
    }
   ],
   "source": [
    "coef_summary = pd.DataFrame()\n",
    "coef_summary['feature_name'] = pd.Series(X.columns)\n",
    "coef_summary['log_reg_coef'] = pd.Series(log_reg.coef_[0])\n",
    "coef_summary.sort_values('log_reg_coef', inplace = True, ascending=False)\n",
    "coef_summary"
   ]
  },
  {
   "cell_type": "code",
   "execution_count": 20,
   "metadata": {},
   "outputs": [
    {
     "name": "stdout",
     "output_type": "stream",
     "text": [
      "Intercept:  -0.7156891563570695\n"
     ]
    }
   ],
   "source": [
    "print('Intercept: ', log_reg.intercept_[0])"
   ]
  },
  {
   "cell_type": "markdown",
   "metadata": {},
   "source": [
    "### Test for Multicolinearity"
   ]
  },
  {
   "cell_type": "code",
   "execution_count": 21,
   "metadata": {},
   "outputs": [
    {
     "name": "stdout",
     "output_type": "stream",
     "text": [
      "Optimization terminated successfully.\n",
      "         Current function value: 0.567704\n",
      "         Iterations 6\n"
     ]
    },
    {
     "data": {
      "text/html": [
       "<table class=\"simpletable\">\n",
       "<caption>Logit Regression Results</caption>\n",
       "<tr>\n",
       "  <th>Dep. Variable:</th>   <td>is_fatal_or_incap</td> <th>  No. Observations:  </th>   <td>402531</td>   \n",
       "</tr>\n",
       "<tr>\n",
       "  <th>Model:</th>                 <td>Logit</td>       <th>  Df Residuals:      </th>   <td>402515</td>   \n",
       "</tr>\n",
       "<tr>\n",
       "  <th>Method:</th>                 <td>MLE</td>        <th>  Df Model:          </th>   <td>    15</td>   \n",
       "</tr>\n",
       "<tr>\n",
       "  <th>Date:</th>            <td>Wed, 03 Feb 2021</td>  <th>  Pseudo R-squ.:     </th>   <td>0.1687</td>   \n",
       "</tr>\n",
       "<tr>\n",
       "  <th>Time:</th>                <td>07:16:31</td>      <th>  Log-Likelihood:    </th> <td>-2.2852e+05</td>\n",
       "</tr>\n",
       "<tr>\n",
       "  <th>converged:</th>             <td>True</td>        <th>  LL-Null:           </th> <td>-2.7489e+05</td>\n",
       "</tr>\n",
       "<tr>\n",
       "  <th>Covariance Type:</th>     <td>nonrobust</td>     <th>  LLR p-value:       </th>   <td> 0.000</td>   \n",
       "</tr>\n",
       "</table>\n",
       "<table class=\"simpletable\">\n",
       "<tr>\n",
       "    <td></td>       <th>coef</th>     <th>std err</th>      <th>z</th>      <th>P>|z|</th>  <th>[0.025</th>    <th>0.975]</th>  \n",
       "</tr>\n",
       "<tr>\n",
       "  <th>const</th> <td>   -0.7157</td> <td>    0.004</td> <td> -180.846</td> <td> 0.000</td> <td>   -0.723</td> <td>   -0.708</td>\n",
       "</tr>\n",
       "<tr>\n",
       "  <th>x1</th>    <td>    0.3068</td> <td>    0.005</td> <td>   64.401</td> <td> 0.000</td> <td>    0.297</td> <td>    0.316</td>\n",
       "</tr>\n",
       "<tr>\n",
       "  <th>x2</th>    <td>    0.0676</td> <td>    0.004</td> <td>   18.783</td> <td> 0.000</td> <td>    0.061</td> <td>    0.075</td>\n",
       "</tr>\n",
       "<tr>\n",
       "  <th>x3</th>    <td>    0.2595</td> <td>    0.002</td> <td>  104.114</td> <td> 0.000</td> <td>    0.255</td> <td>    0.264</td>\n",
       "</tr>\n",
       "<tr>\n",
       "  <th>x4</th>    <td>    0.4518</td> <td>    0.003</td> <td>  179.724</td> <td> 0.000</td> <td>    0.447</td> <td>    0.457</td>\n",
       "</tr>\n",
       "<tr>\n",
       "  <th>x5</th>    <td>    0.1169</td> <td>    0.003</td> <td>   44.213</td> <td> 0.000</td> <td>    0.112</td> <td>    0.122</td>\n",
       "</tr>\n",
       "<tr>\n",
       "  <th>x6</th>    <td>   -0.3620</td> <td>    0.005</td> <td>  -71.939</td> <td> 0.000</td> <td>   -0.372</td> <td>   -0.352</td>\n",
       "</tr>\n",
       "<tr>\n",
       "  <th>x7</th>    <td>   -0.0184</td> <td>    0.004</td> <td>   -4.304</td> <td> 0.000</td> <td>   -0.027</td> <td>   -0.010</td>\n",
       "</tr>\n",
       "<tr>\n",
       "  <th>x8</th>    <td>    0.0338</td> <td>    0.004</td> <td>    8.379</td> <td> 0.000</td> <td>    0.026</td> <td>    0.042</td>\n",
       "</tr>\n",
       "<tr>\n",
       "  <th>x9</th>    <td>    0.2924</td> <td>    0.010</td> <td>   30.393</td> <td> 0.000</td> <td>    0.274</td> <td>    0.311</td>\n",
       "</tr>\n",
       "<tr>\n",
       "  <th>x10</th>   <td>    0.1902</td> <td>    0.010</td> <td>   19.418</td> <td> 0.000</td> <td>    0.171</td> <td>    0.209</td>\n",
       "</tr>\n",
       "<tr>\n",
       "  <th>x11</th>   <td>   -0.0617</td> <td>    0.004</td> <td>  -15.052</td> <td> 0.000</td> <td>   -0.070</td> <td>   -0.054</td>\n",
       "</tr>\n",
       "<tr>\n",
       "  <th>x12</th>   <td>    0.1703</td> <td>    0.004</td> <td>   44.562</td> <td> 0.000</td> <td>    0.163</td> <td>    0.178</td>\n",
       "</tr>\n",
       "<tr>\n",
       "  <th>x13</th>   <td>   -0.0013</td> <td>    0.004</td> <td>   -0.320</td> <td> 0.749</td> <td>   -0.009</td> <td>    0.006</td>\n",
       "</tr>\n",
       "<tr>\n",
       "  <th>x14</th>   <td>   -0.0372</td> <td>    0.004</td> <td>   -9.067</td> <td> 0.000</td> <td>   -0.045</td> <td>   -0.029</td>\n",
       "</tr>\n",
       "<tr>\n",
       "  <th>x15</th>   <td>   -0.0176</td> <td>    0.004</td> <td>   -4.736</td> <td> 0.000</td> <td>   -0.025</td> <td>   -0.010</td>\n",
       "</tr>\n",
       "</table>"
      ],
      "text/plain": [
       "<class 'statsmodels.iolib.summary.Summary'>\n",
       "\"\"\"\n",
       "                           Logit Regression Results                           \n",
       "==============================================================================\n",
       "Dep. Variable:      is_fatal_or_incap   No. Observations:               402531\n",
       "Model:                          Logit   Df Residuals:                   402515\n",
       "Method:                           MLE   Df Model:                           15\n",
       "Date:                Wed, 03 Feb 2021   Pseudo R-squ.:                  0.1687\n",
       "Time:                        07:16:31   Log-Likelihood:            -2.2852e+05\n",
       "converged:                       True   LL-Null:                   -2.7489e+05\n",
       "Covariance Type:            nonrobust   LLR p-value:                     0.000\n",
       "==============================================================================\n",
       "                 coef    std err          z      P>|z|      [0.025      0.975]\n",
       "------------------------------------------------------------------------------\n",
       "const         -0.7157      0.004   -180.846      0.000      -0.723      -0.708\n",
       "x1             0.3068      0.005     64.401      0.000       0.297       0.316\n",
       "x2             0.0676      0.004     18.783      0.000       0.061       0.075\n",
       "x3             0.2595      0.002    104.114      0.000       0.255       0.264\n",
       "x4             0.4518      0.003    179.724      0.000       0.447       0.457\n",
       "x5             0.1169      0.003     44.213      0.000       0.112       0.122\n",
       "x6            -0.3620      0.005    -71.939      0.000      -0.372      -0.352\n",
       "x7            -0.0184      0.004     -4.304      0.000      -0.027      -0.010\n",
       "x8             0.0338      0.004      8.379      0.000       0.026       0.042\n",
       "x9             0.2924      0.010     30.393      0.000       0.274       0.311\n",
       "x10            0.1902      0.010     19.418      0.000       0.171       0.209\n",
       "x11           -0.0617      0.004    -15.052      0.000      -0.070      -0.054\n",
       "x12            0.1703      0.004     44.562      0.000       0.163       0.178\n",
       "x13           -0.0013      0.004     -0.320      0.749      -0.009       0.006\n",
       "x14           -0.0372      0.004     -9.067      0.000      -0.045      -0.029\n",
       "x15           -0.0176      0.004     -4.736      0.000      -0.025      -0.010\n",
       "==============================================================================\n",
       "\"\"\""
      ]
     },
     "execution_count": 21,
     "metadata": {},
     "output_type": "execute_result"
    }
   ],
   "source": [
    "X_over_incl_const = sm.add_constant(X_over)\n",
    "model = sm.Logit(y_over, X_over_incl_const)\n",
    "results = model.fit(method='newton')\n",
    "results.summary()"
   ]
  },
  {
   "cell_type": "code",
   "execution_count": 22,
   "metadata": {},
   "outputs": [
    {
     "data": {
      "text/html": [
       "<div>\n",
       "<style scoped>\n",
       "    .dataframe tbody tr th:only-of-type {\n",
       "        vertical-align: middle;\n",
       "    }\n",
       "\n",
       "    .dataframe tbody tr th {\n",
       "        vertical-align: top;\n",
       "    }\n",
       "\n",
       "    .dataframe thead th {\n",
       "        text-align: right;\n",
       "    }\n",
       "</style>\n",
       "<table border=\"1\" class=\"dataframe\">\n",
       "  <thead>\n",
       "    <tr style=\"text-align: right;\">\n",
       "      <th></th>\n",
       "      <th>features</th>\n",
       "      <th>VIF</th>\n",
       "    </tr>\n",
       "  </thead>\n",
       "  <tbody>\n",
       "    <tr>\n",
       "      <th>0</th>\n",
       "      <td>POSTED_SPEED_LIMIT</td>\n",
       "      <td>1.095351</td>\n",
       "    </tr>\n",
       "    <tr>\n",
       "      <th>1</th>\n",
       "      <td>is_weekend</td>\n",
       "      <td>1.038172</td>\n",
       "    </tr>\n",
       "    <tr>\n",
       "      <th>2</th>\n",
       "      <td>is_cyclist</td>\n",
       "      <td>1.030213</td>\n",
       "    </tr>\n",
       "    <tr>\n",
       "      <th>3</th>\n",
       "      <td>is_pedestrian</td>\n",
       "      <td>1.054724</td>\n",
       "    </tr>\n",
       "    <tr>\n",
       "      <th>4</th>\n",
       "      <td>is_head_on</td>\n",
       "      <td>1.012095</td>\n",
       "    </tr>\n",
       "    <tr>\n",
       "      <th>5</th>\n",
       "      <td>is_parked</td>\n",
       "      <td>1.239094</td>\n",
       "    </tr>\n",
       "    <tr>\n",
       "      <th>6</th>\n",
       "      <td>is_sleet_snow</td>\n",
       "      <td>1.259989</td>\n",
       "    </tr>\n",
       "    <tr>\n",
       "      <th>7</th>\n",
       "      <td>is_clear_weather</td>\n",
       "      <td>1.216738</td>\n",
       "    </tr>\n",
       "    <tr>\n",
       "      <th>8</th>\n",
       "      <td>has_stop_sign_or_traffic_light</td>\n",
       "      <td>6.768876</td>\n",
       "    </tr>\n",
       "    <tr>\n",
       "      <th>9</th>\n",
       "      <td>has_no_controls</td>\n",
       "      <td>6.755577</td>\n",
       "    </tr>\n",
       "    <tr>\n",
       "      <th>10</th>\n",
       "      <td>is_day</td>\n",
       "      <td>1.276627</td>\n",
       "    </tr>\n",
       "    <tr>\n",
       "      <th>11</th>\n",
       "      <td>is_night</td>\n",
       "      <td>1.318287</td>\n",
       "    </tr>\n",
       "    <tr>\n",
       "      <th>12</th>\n",
       "      <td>is_fall</td>\n",
       "      <td>1.207897</td>\n",
       "    </tr>\n",
       "    <tr>\n",
       "      <th>13</th>\n",
       "      <td>is_winter</td>\n",
       "      <td>1.274731</td>\n",
       "    </tr>\n",
       "    <tr>\n",
       "      <th>14</th>\n",
       "      <td>has_no_physical_divide</td>\n",
       "      <td>1.053740</td>\n",
       "    </tr>\n",
       "  </tbody>\n",
       "</table>\n",
       "</div>"
      ],
      "text/plain": [
       "                          features       VIF\n",
       "0               POSTED_SPEED_LIMIT  1.095351\n",
       "1                       is_weekend  1.038172\n",
       "2                       is_cyclist  1.030213\n",
       "3                    is_pedestrian  1.054724\n",
       "4                       is_head_on  1.012095\n",
       "5                        is_parked  1.239094\n",
       "6                    is_sleet_snow  1.259989\n",
       "7                 is_clear_weather  1.216738\n",
       "8   has_stop_sign_or_traffic_light  6.768876\n",
       "9                  has_no_controls  6.755577\n",
       "10                          is_day  1.276627\n",
       "11                        is_night  1.318287\n",
       "12                         is_fall  1.207897\n",
       "13                       is_winter  1.274731\n",
       "14          has_no_physical_divide  1.053740"
      ]
     },
     "execution_count": 22,
     "metadata": {},
     "output_type": "execute_result"
    }
   ],
   "source": [
    "X_over_df = pd.DataFrame(X_over, columns=X.columns)\n",
    "log_reg_utils.calc_vif(X_over_df)"
   ]
  },
  {
   "cell_type": "code",
   "execution_count": null,
   "metadata": {},
   "outputs": [],
   "source": []
  },
  {
   "cell_type": "code",
   "execution_count": null,
   "metadata": {},
   "outputs": [],
   "source": []
  }
 ],
 "metadata": {
  "kernelspec": {
   "display_name": "conda_python3",
   "language": "python",
   "name": "conda_python3"
  },
  "language_info": {
   "codemirror_mode": {
    "name": "ipython",
    "version": 3
   },
   "file_extension": ".py",
   "mimetype": "text/x-python",
   "name": "python",
   "nbconvert_exporter": "python",
   "pygments_lexer": "ipython3",
   "version": "3.6.10"
  }
 },
 "nbformat": 4,
 "nbformat_minor": 4
}
