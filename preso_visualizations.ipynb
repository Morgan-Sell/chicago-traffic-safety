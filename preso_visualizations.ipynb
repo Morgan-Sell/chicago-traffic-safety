{
 "cells": [
  {
   "cell_type": "markdown",
   "metadata": {},
   "source": [
    "# Visualizations for Presentation"
   ]
  },
  {
   "cell_type": "code",
   "execution_count": null,
   "metadata": {},
   "outputs": [],
   "source": [
    "import pandas as pd\n",
    "import numpy as np\n",
    "\n",
    "import matplotlib.pyplot as plt\n",
    "import seaborn as sns\n",
    "%matplotlib inline\n",
    "\n",
    "from collections import Counter\n",
    "from datetime import datetime\n",
    "\n",
    "import plotly.express as px\n",
    "#import geopandas as gpd\n",
    "#from shapely.geometry import Point, Polygon\n",
    "\n",
    "from src import eda_feat_eng_utils\n",
    "from src.eda_feat_eng_utils import return_true_if_in_list"
   ]
  },
  {
   "cell_type": "markdown",
   "metadata": {},
   "source": [
    "### Import Dataset"
   ]
  },
  {
   "cell_type": "code",
   "execution_count": null,
   "metadata": {},
   "outputs": [],
   "source": [
    "accidents = pd.read_csv('data/accidents.csv', index_col=0)"
   ]
  },
  {
   "cell_type": "markdown",
   "metadata": {},
   "source": [
    "### Speed Limit"
   ]
  },
  {
   "cell_type": "code",
   "execution_count": null,
   "metadata": {},
   "outputs": [],
   "source": [
    "speed_df = accidents.groupby('POSTED_SPEED_LIMIT')['is_fatal_or_incap'].agg(['count', 'sum'])\n",
    "speed_df = pd.DataFrame(speed_df).reset_index()\n",
    "speed_df['']"
   ]
  },
  {
   "cell_type": "code",
   "execution_count": null,
   "metadata": {},
   "outputs": [],
   "source": [
    "def round_to_five_based(speed):\n",
    "    if speed % 5 == 0:\n",
    "        return speed\n",
    "    else:\n",
    "        return (speed // 5 + 1) * 5"
   ]
  },
  {
   "cell_type": "code",
   "execution_count": null,
   "metadata": {},
   "outputs": [],
   "source": [
    "speed_df['posted_speed_limit'] = speed_df['POSTED_SPEED_LIMIT'].apply(lambda x: round_to_five_based(x))\n",
    "speed_df2 = speed_df.groupby('posted_speed_limit').agg({'count': 'sum',\n",
    "                                                          'sum': 'sum'}).reset_index()\n",
    "speed_df2['prcnt_fatal'] = speed_df2['sum'] / speed_df2['count']"
   ]
  },
  {
   "cell_type": "code",
   "execution_count": null,
   "metadata": {},
   "outputs": [],
   "source": [
    "speed_df2"
   ]
  },
  {
   "cell_type": "code",
   "execution_count": null,
   "metadata": {},
   "outputs": [],
   "source": [
    "# fig, ax1 = plt.subplots(figsize=(12,6))\n",
    "\n",
    "# ax1 = sns.barplot(x='posted_speed_limit', y='count',  data=speed_df2, palette='summer')\n",
    "\n",
    "# ax2=ax1.twinx()\n",
    "\n",
    "# ax2 = sns.lineplot(x='posted_speed_limit', y='prcnt_fatal', data=speed_df2, sort=False, color='red')"
   ]
  },
  {
   "cell_type": "markdown",
   "metadata": {},
   "source": [
    "### Distribution by Hour of the Day"
   ]
  },
  {
   "cell_type": "code",
   "execution_count": null,
   "metadata": {},
   "outputs": [],
   "source": [
    "df = accidents\n",
    "class_col = 'is_fatal_or_incap'\n",
    "fatal_arr = df[df[class_col] == 1]['CRASH_HOUR'].values\n",
    "not_fatal_arr = df[df[class_col] == 0]['CRASH_HOUR'].values\n",
    "\n",
    "\n",
    "fig, ax = plt.subplots(figsize=(10,5))\n",
    "ax = sns.kdeplot(fatal_arr, shade=True, color=\"b\", label = 'Fatal / Incapacitated')\n",
    "ax = sns.kdeplot(not_fatal_arr, shade=True, color=\"r\", label = 'Not Severe')\n",
    "ax.legend()\n",
    "# ax.set_title(title, fontsize=18)\n",
    "ax.set_xlabel('Hour', fontsize=12)\n",
    "ax.set_ylabel('Density', fontsize=12)\n",
    "ax.spines['top'].set_visible(False)\n",
    "ax.spines['right'].set_visible(False)\n",
    "fig.tight_layout();\n",
    "\n",
    "#fig.savefig('img/hour_of_day_distribution.png')"
   ]
  },
  {
   "cell_type": "code",
   "execution_count": null,
   "metadata": {},
   "outputs": [],
   "source": []
  }
 ],
 "metadata": {
  "kernelspec": {
   "display_name": "conda_python3",
   "language": "python",
   "name": "conda_python3"
  },
  "language_info": {
   "codemirror_mode": {
    "name": "ipython",
    "version": 3
   },
   "file_extension": ".py",
   "mimetype": "text/x-python",
   "name": "python",
   "nbconvert_exporter": "python",
   "pygments_lexer": "ipython3",
   "version": "3.6.10"
  }
 },
 "nbformat": 4,
 "nbformat_minor": 4
}
