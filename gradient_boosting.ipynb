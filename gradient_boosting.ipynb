{
 "cells": [
  {
   "cell_type": "markdown",
   "metadata": {},
   "source": [
    "# Gradient Boosting"
   ]
  },
  {
   "cell_type": "code",
   "execution_count": 8,
   "metadata": {},
   "outputs": [],
   "source": [
    "import pandas as pd\n",
    "import numpy as np\n",
    "\n",
    "import matplotlib.pyplot as plt\n",
    "import seaborn as sns\n",
    "%matplotlib inline\n",
    "\n",
    "from sklearn.model_selection import train_test_split, GridSearchCV, RandomizedSearchCV\n",
    "from sklearn.metrics import classification_report, confusion_matrix, roc_auc_score\n",
    "from sklearn.metrics import recall_score, precision_score\n",
    "from sklearn.preprocessing import MinMaxScaler, StandardScaler\n",
    "from sklearn.inspection import permutation_importance\n",
    "from sklearn.ensemble import GradientBoostingClassifier\n",
    "\n",
    "from imblearn.over_sampling import RandomOverSampler, SMOTE\n",
    "\n",
    "from src import ensemble_utils"
   ]
  },
  {
   "cell_type": "code",
   "execution_count": null,
   "metadata": {},
   "outputs": [],
   "source": []
  },
  {
   "cell_type": "markdown",
   "metadata": {},
   "source": [
    "### Import Data"
   ]
  },
  {
   "cell_type": "code",
   "execution_count": 2,
   "metadata": {},
   "outputs": [
    {
     "name": "stdout",
     "output_type": "stream",
     "text": [
      "0. POSTED_SPEED_LIMIT\n",
      "1. TRAFFIC_CONTROL_DEVICE\n",
      "2. DEVICE_CONDITION\n",
      "3. WEATHER_CONDITION\n",
      "4. LIGHTING_CONDITION\n",
      "5. FIRST_CRASH_TYPE\n",
      "6. TRAFFICWAY_TYPE\n",
      "7. ALIGNMENT\n",
      "8. ROADWAY_SURFACE_COND\n",
      "9. ROAD_DEFECT\n",
      "10. CRASH_TYPE\n",
      "11. INTERSECTION_RELATED_I\n",
      "12. NOT_RIGHT_OF_WAY_I\n",
      "13. PRIM_CONTRIBUTORY_CAUSE\n",
      "14. INJURIES_UNKNOWN\n",
      "15. CRASH_HOUR\n",
      "16. CRASH_DAY_OF_WEEK\n",
      "17. CRASH_MONTH\n",
      "18. crash_date\n",
      "19. crash_month\n",
      "20. is_fatal_or_incap\n",
      "21. time_of_day\n",
      "22. is_weekend\n",
      "23. season\n",
      "24. is_no_sunlight\n",
      "25. is_cyclist\n",
      "26. is_pedestrian\n",
      "27. is_head_on\n",
      "28. is_parked\n",
      "29. is_using_cellphone\n",
      "30. has_disregarded_traffic_devices\n",
      "31. is_failed_to_yield_right_of_way\n",
      "32. is_reckless_driving\n",
      "33. is_improper_backing\n",
      "34. is_intersection_related_involve\n",
      "35. is_not_right_of_way_involve\n",
      "36. is_sleet_snow\n",
      "37. is_rain\n",
      "38. is_clear_weather\n",
      "39. is_dark_has_no_lighting\n",
      "40. has_stop_sign_or_traffic_light\n",
      "41. is_intersection\n",
      "42. has_snow_ice_on_road\n",
      "43. is_non_functioning_device\n",
      "44. has_no_controls\n",
      "45. has_no_physical_divider\n",
      "46. is_day\n",
      "47. is_evening\n",
      "48. is_morning\n",
      "49. is_night\n",
      "50. is_fall\n",
      "51. is_spring\n",
      "52. is_summer\n",
      "53. is_winter\n",
      "54. has_non_functioning_device\n"
     ]
    }
   ],
   "source": [
    "accidents = pd.read_csv('data/accidents.csv', index_col=0)\n",
    "for idx, feature in enumerate(accidents.columns):\n",
    "    print('{}. {}'.format(idx, feature))"
   ]
  },
  {
   "cell_type": "markdown",
   "metadata": {},
   "source": [
    "### Process Data"
   ]
  },
  {
   "cell_type": "code",
   "execution_count": 3,
   "metadata": {},
   "outputs": [],
   "source": [
    "indices = [26, 28, 38, 0, 44, 45, 25, 27, 39, 42, 24, 33, 34, 30]\n",
    "selected_features = list(accidents.columns[indices])\n",
    "\n",
    "X = accidents[selected_features]\n",
    "y = accidents['is_fatal_or_incap']\n",
    "\n",
    "X_train, X_test, y_train, y_test = train_test_split(X, y, test_size=0.20, random_state=3)"
   ]
  },
  {
   "cell_type": "code",
   "execution_count": 4,
   "metadata": {},
   "outputs": [],
   "source": [
    "oversampler = RandomOverSampler(sampling_strategy=0.75, random_state=3)\n",
    "#oversampler = SMOTE(sampling_strategy=0.75, random_state=3)\n",
    "\n",
    "X_over, y_over = oversampler.fit_resample(X_train.to_numpy(), y_train.to_numpy())"
   ]
  },
  {
   "cell_type": "markdown",
   "metadata": {},
   "source": [
    "### Hyperparameter Tuning"
   ]
  },
  {
   "cell_type": "code",
   "execution_count": 5,
   "metadata": {},
   "outputs": [],
   "source": [
    "n_features = X.shape[1]\n",
    "\n",
    "n_estimators = [10, 50, 100]\n",
    "max_features = [2, int(np.sqrt(n_features)), n_features // 2, n_features]\n",
    "learning_rates = [0.001, 0.01, 0.1, 1, 10]\n",
    "max_depth = [1, 2, 3]\n",
    "params_grid = dict(n_estimators=n_estimators,\n",
    "                   learning_rate=learning_rates,\n",
    "                   max_features=max_features,\n",
    "                   max_depth=max_depth)"
   ]
  },
  {
   "cell_type": "code",
   "execution_count": 9,
   "metadata": {},
   "outputs": [],
   "source": [
    "gbt = GradientBoostingClassifier(random_state=3)\n",
    "\n",
    "clf = RandomizedSearchCV(gbt, params_grid, cv=5, verbose=0, scoring='roc_auc')\n",
    "\n",
    "best_model = clf.fit(X_over, y_over)"
   ]
  },
  {
   "cell_type": "code",
   "execution_count": 10,
   "metadata": {},
   "outputs": [
    {
     "name": "stdout",
     "output_type": "stream",
     "text": [
      "Optimal # of Estimators:  100\n",
      "Optimal Learning Rate:  1\n",
      "Max. Depth of Tree:  3\n"
     ]
    }
   ],
   "source": [
    "print('Optimal # of Estimators: ', best_model.best_estimator_.get_params()['n_estimators'])\n",
    "print('Optimal Learning Rate: ', best_model.best_estimator_.get_params()['learning_rate'])\n",
    "print('Max. Depth of Tree: ', best_model.best_estimator_.get_params()['max_depth'])"
   ]
  },
  {
   "cell_type": "markdown",
   "metadata": {},
   "source": [
    "### Train and Predict"
   ]
  },
  {
   "cell_type": "code",
   "execution_count": 11,
   "metadata": {},
   "outputs": [
    {
     "name": "stdout",
     "output_type": "stream",
     "text": [
      "[[50598  6952]\n",
      " [  533   532]]\n",
      "\n",
      "\n",
      "Recall (Scores FN):  0.4995\n",
      "Precision (Scores FP):  0.0711\n",
      "AUC Score:  0.7641\n"
     ]
    }
   ],
   "source": [
    "n_estimators = 100\n",
    "learning_rate = 1 \n",
    "max_depth = 3\n",
    "\n",
    "gbt = GradientBoostingClassifier(n_estimators=n_estimators, learning_rate=learning_rate, max_depth=max_depth, random_state=3)\n",
    "gbt.fit(X_over, y_over)\n",
    "y_pred = gbt.predict(X_test)\n",
    "y_prob = gbt.predict_proba(X_test)[:, 1]\n",
    "\n",
    "\n",
    "cf_matrix = confusion_matrix(y_test, y_pred)\n",
    "print(cf_matrix)\n",
    "print('\\n')\n",
    "print('Recall (Scores FN): ', round(recall_score(y_test, y_pred), 4))\n",
    "print('Precision (Scores FP): ', round(precision_score(y_test, y_pred), 4))\n",
    "print('AUC Score: ', round(roc_auc_score(y_test, y_prob), 4))"
   ]
  },
  {
   "cell_type": "code",
   "execution_count": 12,
   "metadata": {},
   "outputs": [
    {
     "data": {
      "image/png": "[encoded data removed]",
      "text/plain": [
       "<Figure size 504x288 with 2 Axes>"
      ]
     },
     "metadata": {
      "needs_background": "light"
     },
     "output_type": "display_data"
    }
   ],
   "source": [
    "plt.figure(figsize=(7,4))\n",
    "sns.heatmap(cf_matrix, cmap='coolwarm', annot=True, annot_kws={'size': 20, 'fontweight':'bold'}, fmt='d',\n",
    "                 xticklabels=False, yticklabels=False);\n",
    "#plt.savefig('img/cf_matrix.png', bbox_inches='tight')"
   ]
  },
  {
   "cell_type": "markdown",
   "metadata": {},
   "source": [
    "### Export Data"
   ]
  },
  {
   "cell_type": "code",
   "execution_count": 13,
   "metadata": {},
   "outputs": [],
   "source": [
    "gbt_roc = pd.DataFrame()\n",
    "gbt_roc['y_test_gbt'] = y_test\n",
    "gbt_roc['y_prob_gbt'] = y_prob\n",
    "\n",
    "gbt_roc.to_csv('data/gbt_roc.csv')"
   ]
  },
  {
   "cell_type": "code",
   "execution_count": null,
   "metadata": {},
   "outputs": [],
   "source": []
  }
 ],
 "metadata": {
  "kernelspec": {
   "display_name": "conda_python3",
   "language": "python",
   "name": "conda_python3"
  },
  "language_info": {
   "codemirror_mode": {
    "name": "ipython",
    "version": 3
   },
   "file_extension": ".py",
   "mimetype": "text/x-python",
   "name": "python",
   "nbconvert_exporter": "python",
   "pygments_lexer": "ipython3",
   "version": "3.6.10"
  }
 },
 "nbformat": 4,
 "nbformat_minor": 4
}
