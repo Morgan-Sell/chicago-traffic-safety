{
 "cells": [
  {
   "cell_type": "markdown",
   "metadata": {},
   "source": [
    "# Feature Selection"
   ]
  },
  {
   "cell_type": "code",
   "execution_count": 1,
   "metadata": {},
   "outputs": [
    {
     "name": "stdout",
     "output_type": "stream",
     "text": [
      "Collecting imblearn\n",
      "  Downloading imblearn-0.0-py2.py3-none-any.whl (1.9 kB)\n",
      "Collecting imbalanced-learn\n",
      "  Downloading imbalanced_learn-0.7.0-py3-none-any.whl (167 kB)\n",
      "\u001b[K     |████████████████████████████████| 167 kB 7.3 MB/s eta 0:00:01\n",
      "\u001b[?25hRequirement already satisfied: joblib>=0.11 in /home/ec2-user/anaconda3/envs/python3/lib/python3.6/site-packages (from imbalanced-learn->imblearn) (0.14.1)\n",
      "Requirement already satisfied: numpy>=1.13.3 in /home/ec2-user/anaconda3/envs/python3/lib/python3.6/site-packages (from imbalanced-learn->imblearn) (1.19.4)\n",
      "Requirement already satisfied: scipy>=0.19.1 in /home/ec2-user/anaconda3/envs/python3/lib/python3.6/site-packages (from imbalanced-learn->imblearn) (1.4.1)\n",
      "Collecting scikit-learn>=0.23\n",
      "  Downloading scikit_learn-0.24.1-cp36-cp36m-manylinux2010_x86_64.whl (22.2 MB)\n",
      "\u001b[K     |████████████████████████████████| 22.2 MB 8.0 MB/s eta 0:00:01    |███████▉                        | 5.4 MB 8.0 MB/s eta 0:00:03\n",
      "\u001b[?25hRequirement already satisfied: joblib>=0.11 in /home/ec2-user/anaconda3/envs/python3/lib/python3.6/site-packages (from imbalanced-learn->imblearn) (0.14.1)\n",
      "Requirement already satisfied: numpy>=1.13.3 in /home/ec2-user/anaconda3/envs/python3/lib/python3.6/site-packages (from imbalanced-learn->imblearn) (1.19.4)\n",
      "Requirement already satisfied: scipy>=0.19.1 in /home/ec2-user/anaconda3/envs/python3/lib/python3.6/site-packages (from imbalanced-learn->imblearn) (1.4.1)\n",
      "Requirement already satisfied: numpy>=1.13.3 in /home/ec2-user/anaconda3/envs/python3/lib/python3.6/site-packages (from imbalanced-learn->imblearn) (1.19.4)\n",
      "Collecting threadpoolctl>=2.0.0\n",
      "  Downloading threadpoolctl-2.1.0-py3-none-any.whl (12 kB)\n",
      "Installing collected packages: threadpoolctl, scikit-learn, imbalanced-learn, imblearn\n",
      "  Attempting uninstall: scikit-learn\n",
      "    Found existing installation: scikit-learn 0.22.1\n",
      "    Uninstalling scikit-learn-0.22.1:\n",
      "      Successfully uninstalled scikit-learn-0.22.1\n",
      "Successfully installed imbalanced-learn-0.7.0 imblearn-0.0 scikit-learn-0.24.1 threadpoolctl-2.1.0\n",
      "\u001b[33mWARNING: You are using pip version 20.3; however, version 21.0.1 is available.\n",
      "You should consider upgrading via the '/home/ec2-user/anaconda3/envs/python3/bin/python -m pip install --upgrade pip' command.\u001b[0m\n"
     ]
    }
   ],
   "source": [
    "!pip install imblearn"
   ]
  },
  {
   "cell_type": "code",
   "execution_count": 2,
   "metadata": {},
   "outputs": [],
   "source": [
    "import pandas as pd\n",
    "import numpy as np\n",
    "\n",
    "import matplotlib.pyplot as plt\n",
    "import seaborn as sns\n",
    "%matplotlib inline\n",
    "\n",
    "from sklearn.model_selection import train_test_split\n",
    "from sklearn.feature_selection import chi2, SelectKBest, mutual_info_classif, SelectPercentile\n",
    "\n",
    "from imblearn.over_sampling import RandomOverSampler, SMOTE"
   ]
  },
  {
   "cell_type": "markdown",
   "metadata": {},
   "source": [
    "## Import Dataset"
   ]
  },
  {
   "cell_type": "code",
   "execution_count": 3,
   "metadata": {},
   "outputs": [
    {
     "data": {
      "text/html": [
       "<div>\n",
       "<style scoped>\n",
       "    .dataframe tbody tr th:only-of-type {\n",
       "        vertical-align: middle;\n",
       "    }\n",
       "\n",
       "    .dataframe tbody tr th {\n",
       "        vertical-align: top;\n",
       "    }\n",
       "\n",
       "    .dataframe thead th {\n",
       "        text-align: right;\n",
       "    }\n",
       "</style>\n",
       "<table border=\"1\" class=\"dataframe\">\n",
       "  <thead>\n",
       "    <tr style=\"text-align: right;\">\n",
       "      <th></th>\n",
       "      <th>RD_NO</th>\n",
       "      <th>CRASH_DATE</th>\n",
       "      <th>POSTED_SPEED_LIMIT</th>\n",
       "      <th>TRAFFIC_CONTROL_DEVICE</th>\n",
       "      <th>DEVICE_CONDITION</th>\n",
       "      <th>WEATHER_CONDITION</th>\n",
       "      <th>LIGHTING_CONDITION</th>\n",
       "      <th>FIRST_CRASH_TYPE</th>\n",
       "      <th>TRAFFICWAY_TYPE</th>\n",
       "      <th>LANE_CNT</th>\n",
       "      <th>...</th>\n",
       "      <th>is_non_functioning_device</th>\n",
       "      <th>has_no_controls</th>\n",
       "      <th>is_day</th>\n",
       "      <th>is_evening</th>\n",
       "      <th>is_morning</th>\n",
       "      <th>is_night</th>\n",
       "      <th>is_fall</th>\n",
       "      <th>is_spring</th>\n",
       "      <th>is_summer</th>\n",
       "      <th>is_winter</th>\n",
       "    </tr>\n",
       "  </thead>\n",
       "  <tbody>\n",
       "    <tr>\n",
       "      <th>0</th>\n",
       "      <td>JC343143</td>\n",
       "      <td>07/10/2019 05:56:00 PM</td>\n",
       "      <td>35</td>\n",
       "      <td>NO CONTROLS</td>\n",
       "      <td>NO CONTROLS</td>\n",
       "      <td>CLEAR</td>\n",
       "      <td>DAYLIGHT</td>\n",
       "      <td>TURNING</td>\n",
       "      <td>ONE-WAY</td>\n",
       "      <td>NaN</td>\n",
       "      <td>...</td>\n",
       "      <td>0</td>\n",
       "      <td>1</td>\n",
       "      <td>1</td>\n",
       "      <td>0</td>\n",
       "      <td>0</td>\n",
       "      <td>0</td>\n",
       "      <td>0</td>\n",
       "      <td>0</td>\n",
       "      <td>1</td>\n",
       "      <td>0</td>\n",
       "    </tr>\n",
       "    <tr>\n",
       "      <th>5</th>\n",
       "      <td>JC194776</td>\n",
       "      <td>03/21/2019 10:50:00 PM</td>\n",
       "      <td>30</td>\n",
       "      <td>TRAFFIC SIGNAL</td>\n",
       "      <td>FUNCTIONING PROPERLY</td>\n",
       "      <td>CLEAR</td>\n",
       "      <td>DARKNESS, LIGHTED ROAD</td>\n",
       "      <td>TURNING</td>\n",
       "      <td>NOT DIVIDED</td>\n",
       "      <td>4.0</td>\n",
       "      <td>...</td>\n",
       "      <td>0</td>\n",
       "      <td>0</td>\n",
       "      <td>0</td>\n",
       "      <td>0</td>\n",
       "      <td>0</td>\n",
       "      <td>1</td>\n",
       "      <td>0</td>\n",
       "      <td>1</td>\n",
       "      <td>0</td>\n",
       "      <td>0</td>\n",
       "    </tr>\n",
       "  </tbody>\n",
       "</table>\n",
       "<p>2 rows × 64 columns</p>\n",
       "</div>"
      ],
      "text/plain": [
       "      RD_NO              CRASH_DATE  POSTED_SPEED_LIMIT  \\\n",
       "0  JC343143  07/10/2019 05:56:00 PM                  35   \n",
       "5  JC194776  03/21/2019 10:50:00 PM                  30   \n",
       "\n",
       "  TRAFFIC_CONTROL_DEVICE      DEVICE_CONDITION WEATHER_CONDITION  \\\n",
       "0            NO CONTROLS           NO CONTROLS             CLEAR   \n",
       "5         TRAFFIC SIGNAL  FUNCTIONING PROPERLY             CLEAR   \n",
       "\n",
       "       LIGHTING_CONDITION FIRST_CRASH_TYPE TRAFFICWAY_TYPE  LANE_CNT  ...  \\\n",
       "0                DAYLIGHT          TURNING         ONE-WAY       NaN  ...   \n",
       "5  DARKNESS, LIGHTED ROAD          TURNING     NOT DIVIDED       4.0  ...   \n",
       "\n",
       "  is_non_functioning_device has_no_controls is_day is_evening is_morning  \\\n",
       "0                         0               1      1          0          0   \n",
       "5                         0               0      0          0          0   \n",
       "\n",
       "  is_night is_fall is_spring is_summer  is_winter  \n",
       "0        0       0         0         1          0  \n",
       "5        1       0         1         0          0  \n",
       "\n",
       "[2 rows x 64 columns]"
      ]
     },
     "execution_count": 3,
     "metadata": {},
     "output_type": "execute_result"
    }
   ],
   "source": [
    "accidents = pd.read_csv('data/accidents.csv', index_col=0)\n",
    "accidents.head(2)"
   ]
  },
  {
   "cell_type": "code",
   "execution_count": 4,
   "metadata": {},
   "outputs": [
    {
     "name": "stdout",
     "output_type": "stream",
     "text": [
      "0. RD_NO\n",
      "1. CRASH_DATE\n",
      "2. POSTED_SPEED_LIMIT\n",
      "3. TRAFFIC_CONTROL_DEVICE\n",
      "4. DEVICE_CONDITION\n",
      "5. WEATHER_CONDITION\n",
      "6. LIGHTING_CONDITION\n",
      "7. FIRST_CRASH_TYPE\n",
      "8. TRAFFICWAY_TYPE\n",
      "9. LANE_CNT\n",
      "10. ALIGNMENT\n",
      "11. ROADWAY_SURFACE_COND\n",
      "12. ROAD_DEFECT\n",
      "13. CRASH_TYPE\n",
      "14. INTERSECTION_RELATED_I\n",
      "15. NOT_RIGHT_OF_WAY_I\n",
      "16. HIT_AND_RUN_I\n",
      "17. PRIM_CONTRIBUTORY_CAUSE\n",
      "18. SEC_CONTRIBUTORY_CAUSE\n",
      "19. STREET_NO\n",
      "20. STREET_DIRECTION\n",
      "21. STREET_NAME\n",
      "22. BEAT_OF_OCCURRENCE\n",
      "23. WORK_ZONE_I\n",
      "24. WORK_ZONE_TYPE\n",
      "25. WORKERS_PRESENT_I\n",
      "26. INJURIES_UNKNOWN\n",
      "27. CRASH_HOUR\n",
      "28. CRASH_DAY_OF_WEEK\n",
      "29. LATITUDE\n",
      "30. LONGITUDE\n",
      "31. LOCATION\n",
      "32. crash_date\n",
      "33. crash_year\n",
      "34. crash_month\n",
      "35. is_fatal_or_incap\n",
      "36. time_of_day\n",
      "37. is_weekend\n",
      "38. season\n",
      "39. is_cyclist\n",
      "40. is_pedestrian\n",
      "41. is_head_on\n",
      "42. is_parked\n",
      "43. is_using_cellphone\n",
      "44. has_disregarded_traffic_devices\n",
      "45. is_failed_to_yield_right_of_way\n",
      "46. is_reckless_driving\n",
      "47. is_sleet_snow\n",
      "48. is_rain\n",
      "49. is_clear_weather\n",
      "50. has_snow_ice\n",
      "51. is_dark_no_lighting\n",
      "52. has_stop_sign_or_traffic_light\n",
      "53. is_intersection\n",
      "54. is_non_functioning_device\n",
      "55. has_no_controls\n",
      "56. is_day\n",
      "57. is_evening\n",
      "58. is_morning\n",
      "59. is_night\n",
      "60. is_fall\n",
      "61. is_spring\n",
      "62. is_summer\n",
      "63. is_winter\n"
     ]
    }
   ],
   "source": [
    "for idx, feature in enumerate(accidents.columns):\n",
    "    print('{}. {}'.format(idx, feature))"
   ]
  },
  {
   "cell_type": "code",
   "execution_count": 5,
   "metadata": {},
   "outputs": [
    {
     "data": {
      "text/plain": [
       "Index(['LOCATION', 'crash_date', 'crash_year', 'crash_month',\n",
       "       'is_fatal_or_incap', 'time_of_day', 'is_weekend', 'season',\n",
       "       'is_cyclist', 'is_pedestrian', 'is_head_on', 'is_parked',\n",
       "       'is_using_cellphone', 'has_disregarded_traffic_devices',\n",
       "       'is_failed_to_yield_right_of_way', 'is_reckless_driving',\n",
       "       'is_sleet_snow', 'is_rain', 'is_clear_weather', 'has_snow_ice',\n",
       "       'is_dark_no_lighting', 'has_stop_sign_or_traffic_light',\n",
       "       'is_intersection', 'is_non_functioning_device', 'has_no_controls',\n",
       "       'is_day', 'is_evening', 'is_morning', 'is_night', 'is_fall',\n",
       "       'is_spring', 'is_summer', 'is_winter'],\n",
       "      dtype='object')"
      ]
     },
     "execution_count": 5,
     "metadata": {},
     "output_type": "execute_result"
    }
   ],
   "source": [
    "accidents.columns[31:]"
   ]
  },
  {
   "cell_type": "markdown",
   "metadata": {},
   "source": [
    "## Split Data and Determine Features to Assess\n",
    "Selecting features solely based on training data."
   ]
  },
  {
   "cell_type": "code",
   "execution_count": 22,
   "metadata": {},
   "outputs": [
    {
     "data": {
      "text/plain": [
       "['POSTED_SPEED_LIMIT',\n",
       " 'is_weekend',\n",
       " 'is_cyclist',\n",
       " 'is_pedestrian',\n",
       " 'is_head_on',\n",
       " 'is_parked',\n",
       " 'is_using_cellphone',\n",
       " 'has_disregarded_traffic_devices',\n",
       " 'is_failed_to_yield_right_of_way',\n",
       " 'is_reckless_driving',\n",
       " 'is_sleet_snow',\n",
       " 'is_rain',\n",
       " 'is_clear_weather',\n",
       " 'has_snow_ice',\n",
       " 'is_dark_no_lighting',\n",
       " 'has_stop_sign_or_traffic_light',\n",
       " 'is_intersection',\n",
       " 'is_non_functioning_device',\n",
       " 'has_no_controls',\n",
       " 'is_day',\n",
       " 'is_evening',\n",
       " 'is_morning',\n",
       " 'is_night',\n",
       " 'is_fall',\n",
       " 'is_spring',\n",
       " 'is_summer',\n",
       " 'is_winter']"
      ]
     },
     "execution_count": 22,
     "metadata": {},
     "output_type": "execute_result"
    }
   ],
   "source": [
    "indices = [2, 37] + list(range(39, 64))\n",
    "selected_features = list(accidents.columns[indices])\n",
    "selected_features"
   ]
  },
  {
   "cell_type": "code",
   "execution_count": 23,
   "metadata": {},
   "outputs": [],
   "source": [
    "# X = accidents[['is_weekend',\n",
    "#                'involved_cyclist',\n",
    "#                'involved_pedestrian',\n",
    "#                'was_head_on',\n",
    "#                'was_parked',\n",
    "#                'using_cellphone',\n",
    "#                'disregarded_traffic_devices',\n",
    "#                'failed_to_yield_right_of_way',\n",
    "#                'reckless_driving',\n",
    "#                'is_sleet_snow',\n",
    "#                'is_rain',\n",
    "#                'is_clear_weather',\n",
    "#                'has_snow_ice',\n",
    "#                'was_dark_no_lighting',\n",
    "#                'at_stop_sign_or_traffic_light',\n",
    "#                'at_intersection',\n",
    "#                'was_non_functioning_device',\n",
    "#                'is_day',\n",
    "#                'is_evening',\n",
    "#                'is_morning',\n",
    "#                'is_night',\n",
    "#                'is_fall', \n",
    "#                'is_spring',\n",
    "#                'is_summer',\n",
    "#                'is_winter']]\n",
    "\n",
    "# y = accidents['is_fatal_or_incap']\n",
    "\n",
    "# X_train, X_test, y_train, y_test = train_test_split(X, y, test_size=0.2, random_state=3)"
   ]
  },
  {
   "cell_type": "code",
   "execution_count": 24,
   "metadata": {},
   "outputs": [],
   "source": [
    "X = accidents[selected_features]\n",
    "y = accidents['is_fatal_or_incap']\n",
    "\n",
    "X_train, X_test, y_train, y_test = train_test_split(X, y, test_size=0.2, random_state=3)"
   ]
  },
  {
   "cell_type": "code",
   "execution_count": 25,
   "metadata": {},
   "outputs": [],
   "source": [
    "# OVERSAMPLING\n",
    "\n",
    "#oversampler = RandomOverSampler(sampling_strategy=0.75, random_state=3)\n",
    "oversampler = SMOTE(sampling_strategy=0.75, random_state=3)\n",
    "X_over, y_over = oversampler.fit_resample(X_train.to_numpy(), y_train.to_numpy())"
   ]
  },
  {
   "cell_type": "markdown",
   "metadata": {},
   "source": [
    "## Mutual Information"
   ]
  },
  {
   "cell_type": "code",
   "execution_count": 26,
   "metadata": {},
   "outputs": [
    {
     "data": {
      "text/plain": [
       "array([0.0306245 , 0.00407487, 0.00653642, 0.0525866 , 0.        ,\n",
       "       0.03786281, 0.        , 0.00033264, 0.        , 0.        ,\n",
       "       0.00016093, 0.00155928, 0.03093522, 0.00435424, 0.00520634,\n",
       "       0.01546157, 0.00018629, 0.        , 0.02180989, 0.01524437,\n",
       "       0.00212204, 0.00169815, 0.00444348, 0.00403474, 0.00212356,\n",
       "       0.0013751 , 0.0035345 ])"
      ]
     },
     "execution_count": 26,
     "metadata": {},
     "output_type": "execute_result"
    }
   ],
   "source": [
    "mutual_info_scores = mutual_info_classif(X_over, y_over)\n",
    "mutual_info_scores"
   ]
  },
  {
   "cell_type": "code",
   "execution_count": 27,
   "metadata": {},
   "outputs": [
    {
     "data": {
      "image/png": "[encoded data removed]",
      "text/plain": [
       "<Figure size 576x864 with 1 Axes>"
      ]
     },
     "metadata": {
      "needs_background": "light"
     },
     "output_type": "display_data"
    }
   ],
   "source": [
    "mi_df = pd.DataFrame()\n",
    "mi_df['features'] = X.columns\n",
    "mi_df['mutual_info_score'] = mutual_info_scores\n",
    "mi_df.sort_values('mutual_info_score', ascending=False, axis=0, inplace=True)\n",
    "\n",
    "\n",
    "fig, ax = plt.subplots(figsize=(8,12))\n",
    "sns.barplot(data=mi_df,x='mutual_info_score', y='features', palette='mako_r', ax=ax)\n",
    "ax.set_title('Mutual Information Scores', fontsize=16)\n",
    "ax.set_xlabel('Mutual Information')\n",
    "ax.set_yticklabels(mi_df['features'])\n",
    "fig.tight_layout();"
   ]
  },
  {
   "cell_type": "markdown",
   "metadata": {},
   "source": [
    "## Chi-Squared\n",
    "\n",
    "Can only use categorical features."
   ]
  },
  {
   "cell_type": "code",
   "execution_count": 16,
   "metadata": {},
   "outputs": [
    {
     "data": {
      "text/plain": [
       "['is_weekend',\n",
       " 'is_cyclist',\n",
       " 'is_pedestrian',\n",
       " 'is_head_on',\n",
       " 'is_parked',\n",
       " 'is_using_cellphone',\n",
       " 'has_disregarded_traffic_devices',\n",
       " 'is_failed_to_yield_right_of_way',\n",
       " 'is_reckless_driving',\n",
       " 'is_sleet_snow',\n",
       " 'is_rain',\n",
       " 'is_clear_weather',\n",
       " 'has_snow_ice',\n",
       " 'is_dark_no_lighting',\n",
       " 'has_stop_sign_or_traffic_light',\n",
       " 'is_intersection',\n",
       " 'is_non_functioning_device',\n",
       " 'has_no_controls',\n",
       " 'is_day',\n",
       " 'is_evening',\n",
       " 'is_morning',\n",
       " 'is_night',\n",
       " 'is_fall',\n",
       " 'is_spring',\n",
       " 'is_summer',\n",
       " 'is_winter']"
      ]
     },
     "execution_count": 16,
     "metadata": {},
     "output_type": "execute_result"
    }
   ],
   "source": [
    "indices = [37] + list(range(39, 64))\n",
    "selected_features = list(accidents.columns[indices])\n",
    "selected_features"
   ]
  },
  {
   "cell_type": "code",
   "execution_count": 17,
   "metadata": {},
   "outputs": [],
   "source": [
    "X = accidents[selected_features]\n",
    "y = accidents['is_fatal_or_incap']\n",
    "\n",
    "X_train, X_test, y_train, y_test = train_test_split(X, y, test_size=0.2, random_state=3)"
   ]
  },
  {
   "cell_type": "code",
   "execution_count": 18,
   "metadata": {},
   "outputs": [],
   "source": [
    "# OVERSAMPLING\n",
    "#oversampler = RandomOverSampler(sampling_strategy=0.75, random_state=3)\n",
    "oversampler = SMOTE(sampling_strategy=0.5, random_state=3)\n",
    "\n",
    "X_over, y_over = oversampler.fit_resample(X_train.to_numpy(), y_train.to_numpy())"
   ]
  },
  {
   "cell_type": "code",
   "execution_count": 19,
   "metadata": {},
   "outputs": [
    {
     "data": {
      "text/plain": [
       "(array([1.49894471e-01, 6.31831804e+03, 3.70634093e+04, 8.53447633e+00,\n",
       "        1.41298572e+04,            nan,            nan,            nan,\n",
       "                   nan, 6.12841032e+02, 6.08090918e+02, 4.69717792e+00,\n",
       "        1.68489878e+03, 1.88813955e+03, 2.61667123e+03, 2.87789674e+02,\n",
       "                   nan, 2.06524442e+03, 8.91832713e+02, 8.02945889e+01,\n",
       "        5.54858269e+00, 1.76891506e+03, 4.02402535e+01, 1.80700026e+01,\n",
       "        5.89953513e+01, 1.12326530e+02]),\n",
       " array([6.98636226e-001, 0.00000000e+000, 0.00000000e+000, 3.48481578e-003,\n",
       "        0.00000000e+000,             nan,             nan,             nan,\n",
       "                    nan, 2.69662865e-135, 2.91057906e-134, 3.02121863e-002,\n",
       "        0.00000000e+000, 0.00000000e+000, 0.00000000e+000, 1.50720613e-064,\n",
       "                    nan, 0.00000000e+000, 5.85193789e-196, 3.22551158e-019,\n",
       "        1.84956576e-002, 0.00000000e+000, 2.24572940e-010, 2.12929796e-005,\n",
       "        1.58044907e-014, 3.03053275e-026]))"
      ]
     },
     "execution_count": 19,
     "metadata": {},
     "output_type": "execute_result"
    }
   ],
   "source": [
    "# First array is comprised of the F-scores.\n",
    "# Second array is comprised of the p-values.\n",
    "f_score = chi2(X_over, y_over)\n",
    "f_score"
   ]
  },
  {
   "cell_type": "code",
   "execution_count": 20,
   "metadata": {},
   "outputs": [
    {
     "data": {
      "text/html": [
       "<div>\n",
       "<style scoped>\n",
       "    .dataframe tbody tr th:only-of-type {\n",
       "        vertical-align: middle;\n",
       "    }\n",
       "\n",
       "    .dataframe tbody tr th {\n",
       "        vertical-align: top;\n",
       "    }\n",
       "\n",
       "    .dataframe thead th {\n",
       "        text-align: right;\n",
       "    }\n",
       "</style>\n",
       "<table border=\"1\" class=\"dataframe\">\n",
       "  <thead>\n",
       "    <tr style=\"text-align: right;\">\n",
       "      <th></th>\n",
       "      <th>features</th>\n",
       "      <th>p_value</th>\n",
       "    </tr>\n",
       "  </thead>\n",
       "  <tbody>\n",
       "    <tr>\n",
       "      <th>14</th>\n",
       "      <td>has_stop_sign_or_traffic_light</td>\n",
       "      <td>0.0000</td>\n",
       "    </tr>\n",
       "    <tr>\n",
       "      <th>23</th>\n",
       "      <td>is_spring</td>\n",
       "      <td>0.0000</td>\n",
       "    </tr>\n",
       "    <tr>\n",
       "      <th>22</th>\n",
       "      <td>is_fall</td>\n",
       "      <td>0.0000</td>\n",
       "    </tr>\n",
       "    <tr>\n",
       "      <th>21</th>\n",
       "      <td>is_night</td>\n",
       "      <td>0.0000</td>\n",
       "    </tr>\n",
       "    <tr>\n",
       "      <th>19</th>\n",
       "      <td>is_evening</td>\n",
       "      <td>0.0000</td>\n",
       "    </tr>\n",
       "    <tr>\n",
       "      <th>18</th>\n",
       "      <td>is_day</td>\n",
       "      <td>0.0000</td>\n",
       "    </tr>\n",
       "    <tr>\n",
       "      <th>17</th>\n",
       "      <td>has_no_controls</td>\n",
       "      <td>0.0000</td>\n",
       "    </tr>\n",
       "    <tr>\n",
       "      <th>15</th>\n",
       "      <td>is_intersection</td>\n",
       "      <td>0.0000</td>\n",
       "    </tr>\n",
       "    <tr>\n",
       "      <th>24</th>\n",
       "      <td>is_summer</td>\n",
       "      <td>0.0000</td>\n",
       "    </tr>\n",
       "    <tr>\n",
       "      <th>25</th>\n",
       "      <td>is_winter</td>\n",
       "      <td>0.0000</td>\n",
       "    </tr>\n",
       "    <tr>\n",
       "      <th>12</th>\n",
       "      <td>has_snow_ice</td>\n",
       "      <td>0.0000</td>\n",
       "    </tr>\n",
       "    <tr>\n",
       "      <th>10</th>\n",
       "      <td>is_rain</td>\n",
       "      <td>0.0000</td>\n",
       "    </tr>\n",
       "    <tr>\n",
       "      <th>9</th>\n",
       "      <td>is_sleet_snow</td>\n",
       "      <td>0.0000</td>\n",
       "    </tr>\n",
       "    <tr>\n",
       "      <th>4</th>\n",
       "      <td>is_parked</td>\n",
       "      <td>0.0000</td>\n",
       "    </tr>\n",
       "    <tr>\n",
       "      <th>2</th>\n",
       "      <td>is_pedestrian</td>\n",
       "      <td>0.0000</td>\n",
       "    </tr>\n",
       "    <tr>\n",
       "      <th>1</th>\n",
       "      <td>is_cyclist</td>\n",
       "      <td>0.0000</td>\n",
       "    </tr>\n",
       "    <tr>\n",
       "      <th>13</th>\n",
       "      <td>is_dark_no_lighting</td>\n",
       "      <td>0.0000</td>\n",
       "    </tr>\n",
       "    <tr>\n",
       "      <th>3</th>\n",
       "      <td>is_head_on</td>\n",
       "      <td>0.0035</td>\n",
       "    </tr>\n",
       "    <tr>\n",
       "      <th>20</th>\n",
       "      <td>is_morning</td>\n",
       "      <td>0.0185</td>\n",
       "    </tr>\n",
       "    <tr>\n",
       "      <th>11</th>\n",
       "      <td>is_clear_weather</td>\n",
       "      <td>0.0302</td>\n",
       "    </tr>\n",
       "    <tr>\n",
       "      <th>0</th>\n",
       "      <td>is_weekend</td>\n",
       "      <td>0.6986</td>\n",
       "    </tr>\n",
       "    <tr>\n",
       "      <th>5</th>\n",
       "      <td>is_using_cellphone</td>\n",
       "      <td>NaN</td>\n",
       "    </tr>\n",
       "    <tr>\n",
       "      <th>6</th>\n",
       "      <td>has_disregarded_traffic_devices</td>\n",
       "      <td>NaN</td>\n",
       "    </tr>\n",
       "    <tr>\n",
       "      <th>7</th>\n",
       "      <td>is_failed_to_yield_right_of_way</td>\n",
       "      <td>NaN</td>\n",
       "    </tr>\n",
       "    <tr>\n",
       "      <th>8</th>\n",
       "      <td>is_reckless_driving</td>\n",
       "      <td>NaN</td>\n",
       "    </tr>\n",
       "    <tr>\n",
       "      <th>16</th>\n",
       "      <td>is_non_functioning_device</td>\n",
       "      <td>NaN</td>\n",
       "    </tr>\n",
       "  </tbody>\n",
       "</table>\n",
       "</div>"
      ],
      "text/plain": [
       "                           features  p_value\n",
       "14   has_stop_sign_or_traffic_light   0.0000\n",
       "23                        is_spring   0.0000\n",
       "22                          is_fall   0.0000\n",
       "21                         is_night   0.0000\n",
       "19                       is_evening   0.0000\n",
       "18                           is_day   0.0000\n",
       "17                  has_no_controls   0.0000\n",
       "15                  is_intersection   0.0000\n",
       "24                        is_summer   0.0000\n",
       "25                        is_winter   0.0000\n",
       "12                     has_snow_ice   0.0000\n",
       "10                          is_rain   0.0000\n",
       "9                     is_sleet_snow   0.0000\n",
       "4                         is_parked   0.0000\n",
       "2                     is_pedestrian   0.0000\n",
       "1                        is_cyclist   0.0000\n",
       "13              is_dark_no_lighting   0.0000\n",
       "3                        is_head_on   0.0035\n",
       "20                       is_morning   0.0185\n",
       "11                 is_clear_weather   0.0302\n",
       "0                        is_weekend   0.6986\n",
       "5                is_using_cellphone      NaN\n",
       "6   has_disregarded_traffic_devices      NaN\n",
       "7   is_failed_to_yield_right_of_way      NaN\n",
       "8               is_reckless_driving      NaN\n",
       "16        is_non_functioning_device      NaN"
      ]
     },
     "execution_count": 20,
     "metadata": {},
     "output_type": "execute_result"
    }
   ],
   "source": [
    "chi2_p_values = pd.DataFrame()\n",
    "chi2_p_values['features'] = X_train.columns\n",
    "chi2_p_values['p_value'] = f_score[1]\n",
    "chi2_p_values['p_value'] = chi2_p_values['p_value'].apply(lambda x: np.round(x, decimals=4))\n",
    "chi2_p_values.sort_values('p_value', ascending=True, axis=0, inplace=True)\n",
    "\n",
    "\n",
    "chi2_p_values"
   ]
  },
  {
   "cell_type": "code",
   "execution_count": null,
   "metadata": {},
   "outputs": [],
   "source": []
  },
  {
   "cell_type": "code",
   "execution_count": null,
   "metadata": {},
   "outputs": [],
   "source": []
  }
 ],
 "metadata": {
  "kernelspec": {
   "display_name": "conda_python3",
   "language": "python",
   "name": "conda_python3"
  },
  "language_info": {
   "codemirror_mode": {
    "name": "ipython",
    "version": 3
   },
   "file_extension": ".py",
   "mimetype": "text/x-python",
   "name": "python",
   "nbconvert_exporter": "python",
   "pygments_lexer": "ipython3",
   "version": "3.6.10"
  }
 },
 "nbformat": 4,
 "nbformat_minor": 4
}
