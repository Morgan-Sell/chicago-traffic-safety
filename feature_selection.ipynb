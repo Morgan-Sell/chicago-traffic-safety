{
 "cells": [
  {
   "cell_type": "markdown",
   "metadata": {},
   "source": [
    "# Feature Selection"
   ]
  },
  {
   "cell_type": "code",
   "execution_count": 1,
   "metadata": {},
   "outputs": [
    {
     "name": "stdout",
     "output_type": "stream",
     "text": [
      "Collecting imblearn\n",
      "  Downloading imblearn-0.0-py2.py3-none-any.whl (1.9 kB)\n",
      "Collecting imbalanced-learn\n",
      "  Downloading imbalanced_learn-0.7.0-py3-none-any.whl (167 kB)\n",
      "\u001b[K     |████████████████████████████████| 167 kB 7.3 MB/s eta 0:00:01\n",
      "\u001b[?25hRequirement already satisfied: joblib>=0.11 in /home/ec2-user/anaconda3/envs/python3/lib/python3.6/site-packages (from imbalanced-learn->imblearn) (0.14.1)\n",
      "Requirement already satisfied: numpy>=1.13.3 in /home/ec2-user/anaconda3/envs/python3/lib/python3.6/site-packages (from imbalanced-learn->imblearn) (1.19.4)\n",
      "Requirement already satisfied: scipy>=0.19.1 in /home/ec2-user/anaconda3/envs/python3/lib/python3.6/site-packages (from imbalanced-learn->imblearn) (1.4.1)\n",
      "Collecting scikit-learn>=0.23\n",
      "  Downloading scikit_learn-0.24.1-cp36-cp36m-manylinux2010_x86_64.whl (22.2 MB)\n",
      "\u001b[K     |████████████████████████████████| 22.2 MB 8.0 MB/s eta 0:00:01    |███████▉                        | 5.4 MB 8.0 MB/s eta 0:00:03\n",
      "\u001b[?25hRequirement already satisfied: joblib>=0.11 in /home/ec2-user/anaconda3/envs/python3/lib/python3.6/site-packages (from imbalanced-learn->imblearn) (0.14.1)\n",
      "Requirement already satisfied: numpy>=1.13.3 in /home/ec2-user/anaconda3/envs/python3/lib/python3.6/site-packages (from imbalanced-learn->imblearn) (1.19.4)\n",
      "Requirement already satisfied: scipy>=0.19.1 in /home/ec2-user/anaconda3/envs/python3/lib/python3.6/site-packages (from imbalanced-learn->imblearn) (1.4.1)\n",
      "Requirement already satisfied: numpy>=1.13.3 in /home/ec2-user/anaconda3/envs/python3/lib/python3.6/site-packages (from imbalanced-learn->imblearn) (1.19.4)\n",
      "Collecting threadpoolctl>=2.0.0\n",
      "  Downloading threadpoolctl-2.1.0-py3-none-any.whl (12 kB)\n",
      "Installing collected packages: threadpoolctl, scikit-learn, imbalanced-learn, imblearn\n",
      "  Attempting uninstall: scikit-learn\n",
      "    Found existing installation: scikit-learn 0.22.1\n",
      "    Uninstalling scikit-learn-0.22.1:\n",
      "      Successfully uninstalled scikit-learn-0.22.1\n",
      "Successfully installed imbalanced-learn-0.7.0 imblearn-0.0 scikit-learn-0.24.1 threadpoolctl-2.1.0\n",
      "\u001b[33mWARNING: You are using pip version 20.3; however, version 21.0.1 is available.\n",
      "You should consider upgrading via the '/home/ec2-user/anaconda3/envs/python3/bin/python -m pip install --upgrade pip' command.\u001b[0m\n"
     ]
    }
   ],
   "source": [
    "!pip install imblearn"
   ]
  },
  {
   "cell_type": "code",
   "execution_count": 2,
   "metadata": {},
   "outputs": [],
   "source": [
    "import pandas as pd\n",
    "import numpy as np\n",
    "\n",
    "import matplotlib.pyplot as plt\n",
    "import seaborn as sns\n",
    "%matplotlib inline\n",
    "\n",
    "from sklearn.model_selection import train_test_split\n",
    "from sklearn.feature_selection import chi2, SelectKBest, mutual_info_classif, SelectPercentile\n",
    "\n",
    "from imblearn.over_sampling import RandomOverSampler, SMOTE"
   ]
  },
  {
   "cell_type": "markdown",
   "metadata": {},
   "source": [
    "## Import Dataset"
   ]
  },
  {
   "cell_type": "code",
   "execution_count": 51,
   "metadata": {},
   "outputs": [
    {
     "name": "stdout",
     "output_type": "stream",
     "text": [
      "0. RD_NO\n",
      "1. CRASH_DATE\n",
      "2. POSTED_SPEED_LIMIT\n",
      "3. TRAFFIC_CONTROL_DEVICE\n",
      "4. DEVICE_CONDITION\n",
      "5. WEATHER_CONDITION\n",
      "6. LIGHTING_CONDITION\n",
      "7. FIRST_CRASH_TYPE\n",
      "8. TRAFFICWAY_TYPE\n",
      "9. LANE_CNT\n",
      "10. ALIGNMENT\n",
      "11. ROADWAY_SURFACE_COND\n",
      "12. ROAD_DEFECT\n",
      "13. CRASH_TYPE\n",
      "14. INTERSECTION_RELATED_I\n",
      "15. NOT_RIGHT_OF_WAY_I\n",
      "16. HIT_AND_RUN_I\n",
      "17. PRIM_CONTRIBUTORY_CAUSE\n",
      "18. SEC_CONTRIBUTORY_CAUSE\n",
      "19. STREET_NO\n",
      "20. STREET_DIRECTION\n",
      "21. STREET_NAME\n",
      "22. BEAT_OF_OCCURRENCE\n",
      "23. WORK_ZONE_I\n",
      "24. WORK_ZONE_TYPE\n",
      "25. WORKERS_PRESENT_I\n",
      "26. INJURIES_UNKNOWN\n",
      "27. CRASH_HOUR\n",
      "28. CRASH_DAY_OF_WEEK\n",
      "29. CRASH_MONTH\n",
      "30. LATITUDE\n",
      "31. LONGITUDE\n",
      "32. LOCATION\n",
      "33. crash_date\n",
      "34. crash_year\n",
      "35. crash_month\n",
      "36. is_fatal_or_incap\n",
      "37. time_of_day\n",
      "38. is_weekend\n",
      "39. season\n",
      "40. is_cyclist\n",
      "41. is_pedestrian\n",
      "42. is_head_on\n",
      "43. is_parked\n",
      "44. is_using_cellphone\n",
      "45. has_disregarded_traffic_devices\n",
      "46. is_failed_to_yield_right_of_way\n",
      "47. is_reckless_driving\n",
      "48. is_sleet_snow\n",
      "49. is_rain\n",
      "50. is_clear_weather\n",
      "51. has_snow_ice\n",
      "52. is_dark_no_lighting\n",
      "53. has_stop_sign_or_traffic_light\n",
      "54. is_intersection\n",
      "55. is_non_functioning_device\n",
      "56. has_no_controls\n",
      "57. is_day\n",
      "58. is_evening\n",
      "59. is_morning\n",
      "60. is_night\n",
      "61. is_fall\n",
      "62. is_spring\n",
      "63. is_summer\n",
      "64. is_winter\n",
      "65. has_no_physical_divide\n",
      "66. is_no_sun\n"
     ]
    }
   ],
   "source": [
    "accidents = pd.read_csv('data/accidents.csv', index_col=0)\n",
    "for idx, feature in enumerate(accidents.columns):\n",
    "    print('{}. {}'.format(idx, feature))"
   ]
  },
  {
   "cell_type": "markdown",
   "metadata": {},
   "source": [
    "## Split Data and Determine Features to Assess\n",
    "Selecting features solely based on training data."
   ]
  },
  {
   "cell_type": "code",
   "execution_count": 52,
   "metadata": {},
   "outputs": [
    {
     "data": {
      "text/plain": [
       "['POSTED_SPEED_LIMIT',\n",
       " 'is_weekend',\n",
       " 'is_cyclist',\n",
       " 'is_pedestrian',\n",
       " 'is_head_on',\n",
       " 'is_parked',\n",
       " 'is_using_cellphone',\n",
       " 'has_disregarded_traffic_devices',\n",
       " 'is_failed_to_yield_right_of_way',\n",
       " 'is_reckless_driving',\n",
       " 'is_sleet_snow',\n",
       " 'is_rain',\n",
       " 'is_clear_weather',\n",
       " 'has_snow_ice',\n",
       " 'is_dark_no_lighting',\n",
       " 'has_stop_sign_or_traffic_light',\n",
       " 'is_intersection',\n",
       " 'is_non_functioning_device',\n",
       " 'has_no_controls',\n",
       " 'is_day',\n",
       " 'is_evening',\n",
       " 'is_morning',\n",
       " 'is_night',\n",
       " 'is_fall',\n",
       " 'is_spring',\n",
       " 'is_summer',\n",
       " 'is_winter',\n",
       " 'has_no_physical_divide',\n",
       " 'is_no_sun']"
      ]
     },
     "execution_count": 52,
     "metadata": {},
     "output_type": "execute_result"
    }
   ],
   "source": [
    "indices = [2, 38] + list(range(40, 67))\n",
    "selected_features = list(accidents.columns[indices])\n",
    "selected_features"
   ]
  },
  {
   "cell_type": "code",
   "execution_count": 53,
   "metadata": {},
   "outputs": [],
   "source": [
    "# X = accidents[['is_weekend',\n",
    "#                'involved_cyclist',\n",
    "#                'involved_pedestrian',\n",
    "#                'was_head_on',\n",
    "#                'was_parked',\n",
    "#                'using_cellphone',\n",
    "#                'disregarded_traffic_devices',\n",
    "#                'failed_to_yield_right_of_way',\n",
    "#                'reckless_driving',\n",
    "#                'is_sleet_snow',\n",
    "#                'is_rain',\n",
    "#                'is_clear_weather',\n",
    "#                'has_snow_ice',\n",
    "#                'was_dark_no_lighting',\n",
    "#                'at_stop_sign_or_traffic_light',\n",
    "#                'at_intersection',\n",
    "#                'was_non_functioning_device',\n",
    "#                'is_day',\n",
    "#                'is_evening',\n",
    "#                'is_morning',\n",
    "#                'is_night',\n",
    "#                'is_fall', \n",
    "#                'is_spring',\n",
    "#                'is_summer',\n",
    "#                'is_winter']]\n",
    "\n",
    "# y = accidents['is_fatal_or_incap']\n",
    "\n",
    "# X_train, X_test, y_train, y_test = train_test_split(X, y, test_size=0.2, random_state=3)"
   ]
  },
  {
   "cell_type": "code",
   "execution_count": 54,
   "metadata": {},
   "outputs": [],
   "source": [
    "X = accidents[selected_features]\n",
    "y = accidents['is_fatal_or_incap']\n",
    "\n",
    "X_train, X_test, y_train, y_test = train_test_split(X, y, test_size=0.2, random_state=3)"
   ]
  },
  {
   "cell_type": "code",
   "execution_count": 55,
   "metadata": {},
   "outputs": [],
   "source": [
    "# OVERSAMPLING\n",
    "\n",
    "#oversampler = RandomOverSampler(sampling_strategy=0.75, random_state=3)\n",
    "oversampler = SMOTE(sampling_strategy=0.75, random_state=3)\n",
    "X_over, y_over = oversampler.fit_resample(X_train.to_numpy(), y_train.to_numpy())"
   ]
  },
  {
   "cell_type": "markdown",
   "metadata": {},
   "source": [
    "## Mutual Information"
   ]
  },
  {
   "cell_type": "code",
   "execution_count": 56,
   "metadata": {},
   "outputs": [
    {
     "data": {
      "text/plain": [
       "array([2.99856080e-02, 4.02485337e-03, 4.95000396e-03, 4.64964159e-02,\n",
       "       6.15585671e-06, 4.19149704e-02, 7.00804184e-04, 0.00000000e+00,\n",
       "       0.00000000e+00, 0.00000000e+00, 2.73462914e-03, 3.03983861e-04,\n",
       "       3.18039004e-02, 3.95204107e-03, 5.53666369e-03, 1.51992979e-02,\n",
       "       1.51048236e-03, 0.00000000e+00, 2.17740274e-02, 1.37243042e-02,\n",
       "       1.25688581e-03, 2.05829621e-03, 5.71168642e-03, 3.49812064e-03,\n",
       "       2.57095011e-03, 2.39461337e-03, 3.50269237e-03, 2.26599822e-02,\n",
       "       5.59208163e-03])"
      ]
     },
     "execution_count": 56,
     "metadata": {},
     "output_type": "execute_result"
    }
   ],
   "source": [
    "mutual_info_scores = mutual_info_classif(X_over, y_over)\n",
    "mutual_info_scores"
   ]
  },
  {
   "cell_type": "code",
   "execution_count": 57,
   "metadata": {},
   "outputs": [
    {
     "data": {
      "image/png": "[encoded data removed]",
      "text/plain": [
       "<Figure size 576x864 with 1 Axes>"
      ]
     },
     "metadata": {
      "needs_background": "light"
     },
     "output_type": "display_data"
    }
   ],
   "source": [
    "mi_df = pd.DataFrame()\n",
    "mi_df['features'] = X.columns\n",
    "mi_df['mutual_info_score'] = mutual_info_scores\n",
    "mi_df.sort_values('mutual_info_score', ascending=False, axis=0, inplace=True)\n",
    "\n",
    "\n",
    "fig, ax = plt.subplots(figsize=(8,12))\n",
    "sns.barplot(data=mi_df,x='mutual_info_score', y='features', palette='mako_r', ax=ax)\n",
    "ax.set_title('Mutual Information Scores', fontsize=16)\n",
    "ax.set_xlabel('Mutual Information')\n",
    "ax.set_yticklabels(mi_df['features'])\n",
    "fig.tight_layout();"
   ]
  },
  {
   "cell_type": "markdown",
   "metadata": {},
   "source": [
    "## Chi-Squared\n",
    "\n",
    "Can only use categorical features."
   ]
  },
  {
   "cell_type": "code",
   "execution_count": 58,
   "metadata": {},
   "outputs": [
    {
     "data": {
      "text/plain": [
       "['is_weekend',\n",
       " 'is_cyclist',\n",
       " 'is_pedestrian',\n",
       " 'is_head_on',\n",
       " 'is_parked',\n",
       " 'is_using_cellphone',\n",
       " 'has_disregarded_traffic_devices',\n",
       " 'is_failed_to_yield_right_of_way',\n",
       " 'is_reckless_driving',\n",
       " 'is_sleet_snow',\n",
       " 'is_rain',\n",
       " 'is_clear_weather',\n",
       " 'has_snow_ice',\n",
       " 'is_dark_no_lighting',\n",
       " 'has_stop_sign_or_traffic_light',\n",
       " 'is_intersection',\n",
       " 'is_non_functioning_device',\n",
       " 'has_no_controls',\n",
       " 'is_day',\n",
       " 'is_evening',\n",
       " 'is_morning',\n",
       " 'is_night',\n",
       " 'is_fall',\n",
       " 'is_spring',\n",
       " 'is_summer',\n",
       " 'is_winter',\n",
       " 'has_no_physical_divide',\n",
       " 'is_no_sun']"
      ]
     },
     "execution_count": 58,
     "metadata": {},
     "output_type": "execute_result"
    }
   ],
   "source": [
    "indices = [38] + list(range(40, 67))\n",
    "selected_features_chi2 = list(accidents.columns[indices])\n",
    "selected_features_chi2"
   ]
  },
  {
   "cell_type": "code",
   "execution_count": 59,
   "metadata": {},
   "outputs": [],
   "source": [
    "X = accidents[selected_features_chi2]\n",
    "y = accidents['is_fatal_or_incap']\n",
    "\n",
    "X_train, X_test, y_train, y_test = train_test_split(X, y, test_size=0.2, random_state=3)"
   ]
  },
  {
   "cell_type": "code",
   "execution_count": 60,
   "metadata": {},
   "outputs": [],
   "source": [
    "# OVERSAMPLING\n",
    "#oversampler = RandomOverSampler(sampling_strategy=0.75, random_state=3)\n",
    "oversampler = SMOTE(sampling_strategy=0.5, random_state=3)\n",
    "\n",
    "X_over, y_over = oversampler.fit_resample(X_train.to_numpy(), y_train.to_numpy())"
   ]
  },
  {
   "cell_type": "code",
   "execution_count": 46,
   "metadata": {},
   "outputs": [
    {
     "data": {
      "text/plain": [
       "(array([6.47705751e+01, 5.68854745e+03, 3.51378703e+04, 1.02424242e+01,\n",
       "        1.52007290e+04,            nan,            nan,            nan,\n",
       "                   nan, 6.37498264e+02, 4.90064078e+02, 3.69569196e+00,\n",
       "        1.76784320e+03, 2.35001565e+03, 2.59060491e+03, 7.25310406e+02,\n",
       "                   nan, 2.08736458e+03, 8.96525092e+02, 6.61189233e+01,\n",
       "        7.26647333e+00, 1.76040377e+03, 3.78017278e+01, 2.00011242e+01,\n",
       "        5.88382270e+01, 1.14395658e+02, 4.47740414e+01]),\n",
       " array([8.41463690e-016, 0.00000000e+000, 0.00000000e+000, 1.37247095e-003,\n",
       "        0.00000000e+000,             nan,             nan,             nan,\n",
       "                    nan, 1.16958777e-140, 1.37996929e-108, 5.45531499e-002,\n",
       "        0.00000000e+000, 0.00000000e+000, 0.00000000e+000, 9.37406270e-160,\n",
       "                    nan, 0.00000000e+000, 5.58760364e-197, 4.24520446e-016,\n",
       "        7.02536140e-003, 0.00000000e+000, 7.83123815e-010, 7.73966497e-006,\n",
       "        1.71182965e-014, 1.06737489e-026, 2.21135025e-011]))"
      ]
     },
     "execution_count": 46,
     "metadata": {},
     "output_type": "execute_result"
    }
   ],
   "source": [
    "# First array is comprised of the F-scores.\n",
    "# Second array is comprised of the p-values.\n",
    "f_score = chi2(X_over, y_over)\n",
    "f_score"
   ]
  },
  {
   "cell_type": "code",
   "execution_count": 47,
   "metadata": {},
   "outputs": [
    {
     "data": {
      "text/html": [
       "<div>\n",
       "<style scoped>\n",
       "    .dataframe tbody tr th:only-of-type {\n",
       "        vertical-align: middle;\n",
       "    }\n",
       "\n",
       "    .dataframe tbody tr th {\n",
       "        vertical-align: top;\n",
       "    }\n",
       "\n",
       "    .dataframe thead th {\n",
       "        text-align: right;\n",
       "    }\n",
       "</style>\n",
       "<table border=\"1\" class=\"dataframe\">\n",
       "  <thead>\n",
       "    <tr style=\"text-align: right;\">\n",
       "      <th></th>\n",
       "      <th>features</th>\n",
       "      <th>p_value</th>\n",
       "    </tr>\n",
       "  </thead>\n",
       "  <tbody>\n",
       "    <tr>\n",
       "      <th>0</th>\n",
       "      <td>is_weekend</td>\n",
       "      <td>0.0000</td>\n",
       "    </tr>\n",
       "    <tr>\n",
       "      <th>24</th>\n",
       "      <td>is_summer</td>\n",
       "      <td>0.0000</td>\n",
       "    </tr>\n",
       "    <tr>\n",
       "      <th>23</th>\n",
       "      <td>is_spring</td>\n",
       "      <td>0.0000</td>\n",
       "    </tr>\n",
       "    <tr>\n",
       "      <th>22</th>\n",
       "      <td>is_fall</td>\n",
       "      <td>0.0000</td>\n",
       "    </tr>\n",
       "    <tr>\n",
       "      <th>21</th>\n",
       "      <td>is_night</td>\n",
       "      <td>0.0000</td>\n",
       "    </tr>\n",
       "    <tr>\n",
       "      <th>19</th>\n",
       "      <td>is_evening</td>\n",
       "      <td>0.0000</td>\n",
       "    </tr>\n",
       "    <tr>\n",
       "      <th>18</th>\n",
       "      <td>is_day</td>\n",
       "      <td>0.0000</td>\n",
       "    </tr>\n",
       "    <tr>\n",
       "      <th>17</th>\n",
       "      <td>has_no_controls</td>\n",
       "      <td>0.0000</td>\n",
       "    </tr>\n",
       "    <tr>\n",
       "      <th>15</th>\n",
       "      <td>is_intersection</td>\n",
       "      <td>0.0000</td>\n",
       "    </tr>\n",
       "    <tr>\n",
       "      <th>25</th>\n",
       "      <td>is_winter</td>\n",
       "      <td>0.0000</td>\n",
       "    </tr>\n",
       "    <tr>\n",
       "      <th>14</th>\n",
       "      <td>has_stop_sign_or_traffic_light</td>\n",
       "      <td>0.0000</td>\n",
       "    </tr>\n",
       "    <tr>\n",
       "      <th>12</th>\n",
       "      <td>has_snow_ice</td>\n",
       "      <td>0.0000</td>\n",
       "    </tr>\n",
       "    <tr>\n",
       "      <th>10</th>\n",
       "      <td>is_rain</td>\n",
       "      <td>0.0000</td>\n",
       "    </tr>\n",
       "    <tr>\n",
       "      <th>9</th>\n",
       "      <td>is_sleet_snow</td>\n",
       "      <td>0.0000</td>\n",
       "    </tr>\n",
       "    <tr>\n",
       "      <th>4</th>\n",
       "      <td>is_parked</td>\n",
       "      <td>0.0000</td>\n",
       "    </tr>\n",
       "    <tr>\n",
       "      <th>2</th>\n",
       "      <td>is_pedestrian</td>\n",
       "      <td>0.0000</td>\n",
       "    </tr>\n",
       "    <tr>\n",
       "      <th>1</th>\n",
       "      <td>is_cyclist</td>\n",
       "      <td>0.0000</td>\n",
       "    </tr>\n",
       "    <tr>\n",
       "      <th>13</th>\n",
       "      <td>is_dark_no_lighting</td>\n",
       "      <td>0.0000</td>\n",
       "    </tr>\n",
       "    <tr>\n",
       "      <th>26</th>\n",
       "      <td>has_no_physical_divide</td>\n",
       "      <td>0.0000</td>\n",
       "    </tr>\n",
       "    <tr>\n",
       "      <th>3</th>\n",
       "      <td>is_head_on</td>\n",
       "      <td>0.0014</td>\n",
       "    </tr>\n",
       "    <tr>\n",
       "      <th>20</th>\n",
       "      <td>is_morning</td>\n",
       "      <td>0.0070</td>\n",
       "    </tr>\n",
       "    <tr>\n",
       "      <th>11</th>\n",
       "      <td>is_clear_weather</td>\n",
       "      <td>0.0546</td>\n",
       "    </tr>\n",
       "    <tr>\n",
       "      <th>5</th>\n",
       "      <td>is_using_cellphone</td>\n",
       "      <td>NaN</td>\n",
       "    </tr>\n",
       "    <tr>\n",
       "      <th>6</th>\n",
       "      <td>has_disregarded_traffic_devices</td>\n",
       "      <td>NaN</td>\n",
       "    </tr>\n",
       "    <tr>\n",
       "      <th>7</th>\n",
       "      <td>is_failed_to_yield_right_of_way</td>\n",
       "      <td>NaN</td>\n",
       "    </tr>\n",
       "    <tr>\n",
       "      <th>8</th>\n",
       "      <td>is_reckless_driving</td>\n",
       "      <td>NaN</td>\n",
       "    </tr>\n",
       "    <tr>\n",
       "      <th>16</th>\n",
       "      <td>is_non_functioning_device</td>\n",
       "      <td>NaN</td>\n",
       "    </tr>\n",
       "  </tbody>\n",
       "</table>\n",
       "</div>"
      ],
      "text/plain": [
       "                           features  p_value\n",
       "0                        is_weekend   0.0000\n",
       "24                        is_summer   0.0000\n",
       "23                        is_spring   0.0000\n",
       "22                          is_fall   0.0000\n",
       "21                         is_night   0.0000\n",
       "19                       is_evening   0.0000\n",
       "18                           is_day   0.0000\n",
       "17                  has_no_controls   0.0000\n",
       "15                  is_intersection   0.0000\n",
       "25                        is_winter   0.0000\n",
       "14   has_stop_sign_or_traffic_light   0.0000\n",
       "12                     has_snow_ice   0.0000\n",
       "10                          is_rain   0.0000\n",
       "9                     is_sleet_snow   0.0000\n",
       "4                         is_parked   0.0000\n",
       "2                     is_pedestrian   0.0000\n",
       "1                        is_cyclist   0.0000\n",
       "13              is_dark_no_lighting   0.0000\n",
       "26           has_no_physical_divide   0.0000\n",
       "3                        is_head_on   0.0014\n",
       "20                       is_morning   0.0070\n",
       "11                 is_clear_weather   0.0546\n",
       "5                is_using_cellphone      NaN\n",
       "6   has_disregarded_traffic_devices      NaN\n",
       "7   is_failed_to_yield_right_of_way      NaN\n",
       "8               is_reckless_driving      NaN\n",
       "16        is_non_functioning_device      NaN"
      ]
     },
     "execution_count": 47,
     "metadata": {},
     "output_type": "execute_result"
    }
   ],
   "source": [
    "chi2_p_values = pd.DataFrame()\n",
    "chi2_p_values['features'] = X_train.columns\n",
    "chi2_p_values['p_value'] = f_score[1]\n",
    "chi2_p_values['p_value'] = chi2_p_values['p_value'].apply(lambda x: np.round(x, decimals=4))\n",
    "chi2_p_values.sort_values('p_value', ascending=True, axis=0, inplace=True)\n",
    "\n",
    "\n",
    "chi2_p_values"
   ]
  },
  {
   "cell_type": "code",
   "execution_count": null,
   "metadata": {},
   "outputs": [],
   "source": []
  },
  {
   "cell_type": "code",
   "execution_count": null,
   "metadata": {},
   "outputs": [],
   "source": []
  }
 ],
 "metadata": {
  "kernelspec": {
   "display_name": "conda_python3",
   "language": "python",
   "name": "conda_python3"
  },
  "language_info": {
   "codemirror_mode": {
    "name": "ipython",
    "version": 3
   },
   "file_extension": ".py",
   "mimetype": "text/x-python",
   "name": "python",
   "nbconvert_exporter": "python",
   "pygments_lexer": "ipython3",
   "version": "3.6.10"
  }
 },
 "nbformat": 4,
 "nbformat_minor": 4
}
