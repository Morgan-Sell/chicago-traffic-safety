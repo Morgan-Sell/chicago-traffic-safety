{
 "cells": [
  {
   "cell_type": "markdown",
   "metadata": {},
   "source": [
    "# EDA and Feature Engineering"
   ]
  },
  {
   "cell_type": "code",
   "execution_count": 26,
   "metadata": {},
   "outputs": [
    {
     "name": "stdout",
     "output_type": "stream",
     "text": [
      "Collecting descartes\n",
      "  Downloading descartes-1.1.0-py3-none-any.whl (5.8 kB)\n",
      "Requirement already satisfied: matplotlib in /home/ec2-user/anaconda3/envs/python3/lib/python3.6/site-packages (from descartes) (3.1.3)\n",
      "Requirement already satisfied: cycler>=0.10 in /home/ec2-user/anaconda3/envs/python3/lib/python3.6/site-packages (from matplotlib->descartes) (0.10.0)\n",
      "Requirement already satisfied: numpy>=1.11 in /home/ec2-user/anaconda3/envs/python3/lib/python3.6/site-packages (from matplotlib->descartes) (1.19.4)\n",
      "Requirement already satisfied: kiwisolver>=1.0.1 in /home/ec2-user/anaconda3/envs/python3/lib/python3.6/site-packages (from matplotlib->descartes) (1.1.0)\n",
      "Requirement already satisfied: pyparsing!=2.0.4,!=2.1.2,!=2.1.6,>=2.0.1 in /home/ec2-user/anaconda3/envs/python3/lib/python3.6/site-packages (from matplotlib->descartes) (2.4.7)\n",
      "Requirement already satisfied: python-dateutil>=2.1 in /home/ec2-user/anaconda3/envs/python3/lib/python3.6/site-packages (from matplotlib->descartes) (2.8.1)\n",
      "Requirement already satisfied: six in /home/ec2-user/anaconda3/envs/python3/lib/python3.6/site-packages (from cycler>=0.10->matplotlib->descartes) (1.15.0)\n",
      "Requirement already satisfied: setuptools in /home/ec2-user/anaconda3/envs/python3/lib/python3.6/site-packages (from kiwisolver>=1.0.1->matplotlib->descartes) (50.3.2)\n",
      "Requirement already satisfied: six in /home/ec2-user/anaconda3/envs/python3/lib/python3.6/site-packages (from cycler>=0.10->matplotlib->descartes) (1.15.0)\n",
      "Installing collected packages: descartes\n",
      "Successfully installed descartes-1.1.0\n",
      "\u001b[33mWARNING: You are using pip version 20.3; however, version 21.0.1 is available.\n",
      "You should consider upgrading via the '/home/ec2-user/anaconda3/envs/python3/bin/python -m pip install --upgrade pip' command.\u001b[0m\n"
     ]
    }
   ],
   "source": [
    "#!pip install gmplot\n",
    "#!pip install geopandas\n",
    "!pip install descartes"
   ]
  },
  {
   "cell_type": "code",
   "execution_count": 32,
   "metadata": {},
   "outputs": [],
   "source": [
    "import pandas as pd\n",
    "import numpy as np\n",
    "\n",
    "import matplotlib.pyplot as plt\n",
    "import seaborn as sns\n",
    "%matplotlib inline\n",
    "\n",
    "from collections import Counter\n",
    "from datetime import datetime\n",
    "\n",
    "import plotly.express as px\n",
    "import geopandas as gpd\n",
    "from shapely.geometry import Point, Polygon\n",
    "\n",
    "from src import eda_feat_eng_utils\n",
    "\n",
    "#import gmplot"
   ]
  },
  {
   "cell_type": "markdown",
   "metadata": {},
   "source": [
    "### Slice Dataset to Desired Data Range"
   ]
  },
  {
   "cell_type": "code",
   "execution_count": 2,
   "metadata": {},
   "outputs": [],
   "source": [
    "# accidents = pd.read_csv('data/chi_traffic_accidents.csv')\n",
    "\n",
    "# start_date = datetime(2017, 9, 1)\n",
    "# end_date = datetime(2020, 3, 1)\n",
    "# accidents['crash_date'] = pd.to_datetime(accidents['CRASH_DATE'])\n",
    "# accidents = accidents[(start_date <= accidents['crash_date']) & (accidents['crash_date'] < end_date)].copy()\n",
    "\n",
    "# accidents.to_csv('data/chi_traffic_accidents_sub.csv')"
   ]
  },
  {
   "cell_type": "markdown",
   "metadata": {},
   "source": [
    "### Import Revised Dataset"
   ]
  },
  {
   "cell_type": "code",
   "execution_count": 7,
   "metadata": {},
   "outputs": [],
   "source": [
    "accidents = pd.read_csv('data/chi_traffic_accidents_sub.csv', parse_dates=['crash_date'], index_col=0)"
   ]
  },
  {
   "cell_type": "code",
   "execution_count": 8,
   "metadata": {},
   "outputs": [
    {
     "name": "stdout",
     "output_type": "stream",
     "text": [
      "<class 'pandas.core.frame.DataFrame'>\n",
      "Int64Index: 293075 entries, 0 to 472799\n",
      "Data columns (total 50 columns):\n",
      " #   Column                         Non-Null Count   Dtype         \n",
      "---  ------                         --------------   -----         \n",
      " 0   CRASH_RECORD_ID                293075 non-null  object        \n",
      " 1   RD_NO                          293075 non-null  object        \n",
      " 2   CRASH_DATE_EST_I               20235 non-null   object        \n",
      " 3   CRASH_DATE                     293075 non-null  object        \n",
      " 4   POSTED_SPEED_LIMIT             293075 non-null  int64         \n",
      " 5   TRAFFIC_CONTROL_DEVICE         293075 non-null  object        \n",
      " 6   DEVICE_CONDITION               293075 non-null  object        \n",
      " 7   WEATHER_CONDITION              293075 non-null  object        \n",
      " 8   LIGHTING_CONDITION             293075 non-null  object        \n",
      " 9   FIRST_CRASH_TYPE               293075 non-null  object        \n",
      " 10  TRAFFICWAY_TYPE                293075 non-null  object        \n",
      " 11  LANE_CNT                       116750 non-null  float64       \n",
      " 12  ALIGNMENT                      293075 non-null  object        \n",
      " 13  ROADWAY_SURFACE_COND           293075 non-null  object        \n",
      " 14  ROAD_DEFECT                    293075 non-null  object        \n",
      " 15  REPORT_TYPE                    284998 non-null  object        \n",
      " 16  CRASH_TYPE                     293075 non-null  object        \n",
      " 17  INTERSECTION_RELATED_I         68674 non-null   object        \n",
      " 18  NOT_RIGHT_OF_WAY_I             13929 non-null   object        \n",
      " 19  HIT_AND_RUN_I                  81868 non-null   object        \n",
      " 20  DAMAGE                         293075 non-null  object        \n",
      " 21  DATE_POLICE_NOTIFIED           293075 non-null  object        \n",
      " 22  PRIM_CONTRIBUTORY_CAUSE        293075 non-null  object        \n",
      " 23  SEC_CONTRIBUTORY_CAUSE         293075 non-null  object        \n",
      " 24  STREET_NO                      293075 non-null  int64         \n",
      " 25  STREET_DIRECTION               293075 non-null  object        \n",
      " 26  STREET_NAME                    293075 non-null  object        \n",
      " 27  BEAT_OF_OCCURRENCE             293075 non-null  float64       \n",
      " 28  PHOTOS_TAKEN_I                 3386 non-null    object        \n",
      " 29  STATEMENTS_TAKEN_I             6291 non-null    object        \n",
      " 30  DOORING_I                      1001 non-null    object        \n",
      " 31  WORK_ZONE_I                    1923 non-null    object        \n",
      " 32  WORK_ZONE_TYPE                 1517 non-null    object        \n",
      " 33  WORKERS_PRESENT_I              499 non-null     object        \n",
      " 34  NUM_UNITS                      293075 non-null  int64         \n",
      " 35  MOST_SEVERE_INJURY             292465 non-null  object        \n",
      " 36  INJURIES_TOTAL                 292471 non-null  float64       \n",
      " 37  INJURIES_FATAL                 292471 non-null  float64       \n",
      " 38  INJURIES_INCAPACITATING        292471 non-null  float64       \n",
      " 39  INJURIES_NON_INCAPACITATING    292471 non-null  float64       \n",
      " 40  INJURIES_REPORTED_NOT_EVIDENT  292471 non-null  float64       \n",
      " 41  INJURIES_NO_INDICATION         292471 non-null  float64       \n",
      " 42  INJURIES_UNKNOWN               292471 non-null  float64       \n",
      " 43  CRASH_HOUR                     293075 non-null  int64         \n",
      " 44  CRASH_DAY_OF_WEEK              293075 non-null  int64         \n",
      " 45  CRASH_MONTH                    293075 non-null  int64         \n",
      " 46  LATITUDE                       291362 non-null  float64       \n",
      " 47  LONGITUDE                      291362 non-null  float64       \n",
      " 48  LOCATION                       291362 non-null  object        \n",
      " 49  crash_date                     293075 non-null  datetime64[ns]\n",
      "dtypes: datetime64[ns](1), float64(11), int64(6), object(32)\n",
      "memory usage: 114.0+ MB\n"
     ]
    }
   ],
   "source": [
    "accidents.info()"
   ]
  },
  {
   "cell_type": "code",
   "execution_count": 9,
   "metadata": {},
   "outputs": [
    {
     "data": {
      "text/html": [
       "<div>\n",
       "<style scoped>\n",
       "    .dataframe tbody tr th:only-of-type {\n",
       "        vertical-align: middle;\n",
       "    }\n",
       "\n",
       "    .dataframe tbody tr th {\n",
       "        vertical-align: top;\n",
       "    }\n",
       "\n",
       "    .dataframe thead th {\n",
       "        text-align: right;\n",
       "    }\n",
       "</style>\n",
       "<table border=\"1\" class=\"dataframe\">\n",
       "  <thead>\n",
       "    <tr style=\"text-align: right;\">\n",
       "      <th></th>\n",
       "      <th>CRASH_RECORD_ID</th>\n",
       "      <th>RD_NO</th>\n",
       "      <th>CRASH_DATE_EST_I</th>\n",
       "      <th>CRASH_DATE</th>\n",
       "      <th>POSTED_SPEED_LIMIT</th>\n",
       "      <th>TRAFFIC_CONTROL_DEVICE</th>\n",
       "      <th>DEVICE_CONDITION</th>\n",
       "      <th>WEATHER_CONDITION</th>\n",
       "      <th>LIGHTING_CONDITION</th>\n",
       "      <th>FIRST_CRASH_TYPE</th>\n",
       "      <th>...</th>\n",
       "      <th>INJURIES_REPORTED_NOT_EVIDENT</th>\n",
       "      <th>INJURIES_NO_INDICATION</th>\n",
       "      <th>INJURIES_UNKNOWN</th>\n",
       "      <th>CRASH_HOUR</th>\n",
       "      <th>CRASH_DAY_OF_WEEK</th>\n",
       "      <th>CRASH_MONTH</th>\n",
       "      <th>LATITUDE</th>\n",
       "      <th>LONGITUDE</th>\n",
       "      <th>LOCATION</th>\n",
       "      <th>crash_date</th>\n",
       "    </tr>\n",
       "  </thead>\n",
       "  <tbody>\n",
       "    <tr>\n",
       "      <th>0</th>\n",
       "      <td>4fd0a3e0897b3335b94cd8d5b2d2b350eb691add56c62d...</td>\n",
       "      <td>JC343143</td>\n",
       "      <td>NaN</td>\n",
       "      <td>07/10/2019 05:56:00 PM</td>\n",
       "      <td>35</td>\n",
       "      <td>NO CONTROLS</td>\n",
       "      <td>NO CONTROLS</td>\n",
       "      <td>CLEAR</td>\n",
       "      <td>DAYLIGHT</td>\n",
       "      <td>TURNING</td>\n",
       "      <td>...</td>\n",
       "      <td>0.0</td>\n",
       "      <td>3.0</td>\n",
       "      <td>0.0</td>\n",
       "      <td>17</td>\n",
       "      <td>4</td>\n",
       "      <td>7</td>\n",
       "      <td>41.919664</td>\n",
       "      <td>-87.773288</td>\n",
       "      <td>POINT (-87.773287883007 41.919663832993)</td>\n",
       "      <td>2019-07-10 17:56:00</td>\n",
       "    </tr>\n",
       "    <tr>\n",
       "      <th>5</th>\n",
       "      <td>00e47f189660cd8ba1e85fc63061bf1d8465184393f134...</td>\n",
       "      <td>JC194776</td>\n",
       "      <td>NaN</td>\n",
       "      <td>03/21/2019 10:50:00 PM</td>\n",
       "      <td>30</td>\n",
       "      <td>TRAFFIC SIGNAL</td>\n",
       "      <td>FUNCTIONING PROPERLY</td>\n",
       "      <td>CLEAR</td>\n",
       "      <td>DARKNESS, LIGHTED ROAD</td>\n",
       "      <td>TURNING</td>\n",
       "      <td>...</td>\n",
       "      <td>0.0</td>\n",
       "      <td>2.0</td>\n",
       "      <td>0.0</td>\n",
       "      <td>22</td>\n",
       "      <td>5</td>\n",
       "      <td>3</td>\n",
       "      <td>41.741804</td>\n",
       "      <td>-87.740954</td>\n",
       "      <td>POINT (-87.740953581987 41.741803598989)</td>\n",
       "      <td>2019-03-21 22:50:00</td>\n",
       "    </tr>\n",
       "    <tr>\n",
       "      <th>6</th>\n",
       "      <td>0126747fc9ffc0edc9a38abb83d80034f897db0f739eef...</td>\n",
       "      <td>JB200478</td>\n",
       "      <td>NaN</td>\n",
       "      <td>03/26/2018 02:23:00 PM</td>\n",
       "      <td>35</td>\n",
       "      <td>NO CONTROLS</td>\n",
       "      <td>NO CONTROLS</td>\n",
       "      <td>CLEAR</td>\n",
       "      <td>DAYLIGHT</td>\n",
       "      <td>PARKED MOTOR VEHICLE</td>\n",
       "      <td>...</td>\n",
       "      <td>0.0</td>\n",
       "      <td>2.0</td>\n",
       "      <td>0.0</td>\n",
       "      <td>14</td>\n",
       "      <td>2</td>\n",
       "      <td>3</td>\n",
       "      <td>41.953647</td>\n",
       "      <td>-87.732082</td>\n",
       "      <td>POINT (-87.732081736006 41.953646899951)</td>\n",
       "      <td>2018-03-26 14:23:00</td>\n",
       "    </tr>\n",
       "  </tbody>\n",
       "</table>\n",
       "<p>3 rows × 50 columns</p>\n",
       "</div>"
      ],
      "text/plain": [
       "                                     CRASH_RECORD_ID     RD_NO  \\\n",
       "0  4fd0a3e0897b3335b94cd8d5b2d2b350eb691add56c62d...  JC343143   \n",
       "5  00e47f189660cd8ba1e85fc63061bf1d8465184393f134...  JC194776   \n",
       "6  0126747fc9ffc0edc9a38abb83d80034f897db0f739eef...  JB200478   \n",
       "\n",
       "  CRASH_DATE_EST_I              CRASH_DATE  POSTED_SPEED_LIMIT  \\\n",
       "0              NaN  07/10/2019 05:56:00 PM                  35   \n",
       "5              NaN  03/21/2019 10:50:00 PM                  30   \n",
       "6              NaN  03/26/2018 02:23:00 PM                  35   \n",
       "\n",
       "  TRAFFIC_CONTROL_DEVICE      DEVICE_CONDITION WEATHER_CONDITION  \\\n",
       "0            NO CONTROLS           NO CONTROLS             CLEAR   \n",
       "5         TRAFFIC SIGNAL  FUNCTIONING PROPERLY             CLEAR   \n",
       "6            NO CONTROLS           NO CONTROLS             CLEAR   \n",
       "\n",
       "       LIGHTING_CONDITION      FIRST_CRASH_TYPE  ...  \\\n",
       "0                DAYLIGHT               TURNING  ...   \n",
       "5  DARKNESS, LIGHTED ROAD               TURNING  ...   \n",
       "6                DAYLIGHT  PARKED MOTOR VEHICLE  ...   \n",
       "\n",
       "  INJURIES_REPORTED_NOT_EVIDENT  INJURIES_NO_INDICATION INJURIES_UNKNOWN  \\\n",
       "0                           0.0                     3.0              0.0   \n",
       "5                           0.0                     2.0              0.0   \n",
       "6                           0.0                     2.0              0.0   \n",
       "\n",
       "  CRASH_HOUR CRASH_DAY_OF_WEEK CRASH_MONTH   LATITUDE  LONGITUDE  \\\n",
       "0         17                 4           7  41.919664 -87.773288   \n",
       "5         22                 5           3  41.741804 -87.740954   \n",
       "6         14                 2           3  41.953647 -87.732082   \n",
       "\n",
       "                                   LOCATION          crash_date  \n",
       "0  POINT (-87.773287883007 41.919663832993) 2019-07-10 17:56:00  \n",
       "5  POINT (-87.740953581987 41.741803598989) 2019-03-21 22:50:00  \n",
       "6  POINT (-87.732081736006 41.953646899951) 2018-03-26 14:23:00  \n",
       "\n",
       "[3 rows x 50 columns]"
      ]
     },
     "execution_count": 9,
     "metadata": {},
     "output_type": "execute_result"
    }
   ],
   "source": [
    "accidents.head(3)"
   ]
  },
  {
   "cell_type": "markdown",
   "metadata": {},
   "source": [
    "## UDF"
   ]
  },
  {
   "cell_type": "code",
   "execution_count": null,
   "metadata": {},
   "outputs": [],
   "source": []
  },
  {
   "cell_type": "markdown",
   "metadata": {},
   "source": [
    "### Feature Engineering"
   ]
  },
  {
   "cell_type": "code",
   "execution_count": 10,
   "metadata": {},
   "outputs": [],
   "source": [
    "accidents['crash_year'] = accidents['crash_date'].dt.year\n",
    "accidents['crash_month'] = accidents['crash_date'].dt.month\n",
    "accidents['is_fatal'] = np.where(accidents['MOST_SEVERE_INJURY'] == 'FATAL', 1, 0)\n",
    "accidents['is_incap'] = np.where(accidents['MOST_SEVERE_INJURY'] == 'INCAPACITATING INJURY', 1, 0)\n",
    "accidents['is_fatal_or_incap'] = accidents['is_fatal'] + accidents['is_incap']\n",
    "\n"
   ]
  },
  {
   "cell_type": "code",
   "execution_count": 11,
   "metadata": {},
   "outputs": [],
   "source": [
    "# Removed columsn because data is administrative or describes the resulting injuries.\n",
    "cols_to_drop = ['CRASH_DATE_EST_I', 'CRASH_RECORD_ID', 'PHOTOS_TAKEN_I', 'STATEMENTS_TAKEN_I', 'DOORING_I',\n",
    "               'CRASH_RECORD_ID', 'is_fatal', 'is_incap', 'CRASH_MONTH', 'INJURIES_REPORTED_NOT_EVIDENT', 'DAMAGE', 'REPORT_TYPE',\n",
    "               'DATE_POLICE_NOTIFIED', 'NUM_UNITS', 'MOST_SEVERE_INJURY', 'INJURIES_FATAL', 'INJURIES_TOTAL', 'INJURIES_INCAPACITATING',\n",
    "               'INJURIES_NON_INCAPACITATING', 'INJURIES_NO_INDICATION']\n",
    "\n",
    "accidents.drop(cols_to_drop, axis=1, inplace=True)"
   ]
  },
  {
   "cell_type": "code",
   "execution_count": 12,
   "metadata": {},
   "outputs": [],
   "source": [
    "# Date/time\n",
    "accidents['time_of_day'] = accidents['CRASH_HOUR'].apply(lambda hr: eda_feat_eng_utils.time_of_day(hr))\n",
    "accidents['is_weekend'] = accidents['CRASH_DAY_OF_WEEK'].apply(lambda x: eda_feat_eng_utils.return_true_if_in_list(x, [1, 7]))\n",
    "accidents['season'] = accidents['crash_month'].apply(lambda x: eda_feat_eng_utils.create_season_feature(x))\n",
    "\n",
    "# Conlision related\n",
    "accidents['involved_pedest_cycle'] = accidents['FIRST_CRASH_TYPE'].apply(lambda x: eda_feat_eng_utils.return_true_if_in_list(x, ['PEDALCYCLIST', 'PEDESTRIAN']))\n",
    "accidents['was_head_on'] = accidents['FIRST_CRASH_TYPE'].apply(lambda x: eda_feat_eng_utils.return_true_if_in_list(x, ['HEAD ON']))\n",
    "accidents['was_parked'] = accidents['FIRST_CRASH_TYPE'].apply(lambda x: eda_feat_eng_utils.return_true_if_in_list(x, ['PARKED MOTOR VEHICLE']))\n",
    "                                                          \n",
    "# Weather related\n",
    "accidents['is_sleet_snow'] = accidents['WEATHER_CONDITION'].apply(lambda x: eda_feat_eng_utils.return_true_if_in_list(x, ['SLEET/HAIL', 'SNOW', 'BLOWING SNOW']))\n",
    "accidents['is_rain'] = accidents['WEATHER_CONDITION'].apply(lambda x: eda_feat_eng_utils.return_true_if_in_list(x, ['RAIN']))\n",
    "accidents['is_clear_weather'] = accidents['WEATHER_CONDITION'].apply(lambda x: eda_feat_eng_utils.return_true_if_in_list(x, ['CLEAR']))\n",
    "accidents['has_snow_ice'] = accidents['ROADWAY_SURFACE_COND'].apply(lambda x: eda_feat_eng_utils.return_true_if_in_list(x, ['ICE', 'SNOW OR SLUSH']))\n",
    "\n",
    "# Description of road\n",
    "accidents['was_dark_no_lighting'] = accidents['LIGHTING_CONDITION'].apply(lambda x: eda_feat_eng_utils.return_true_if_in_list(x, ['DARKNESS']))\n",
    "accidents['at_stop_sign_or_traffic_light'] = accidents['TRAFFIC_CONTROL_DEVICE'].apply(lambda x: eda_feat_eng_utils.return_true_if_in_list(x, ['STOP SIGN/FLASHER', 'TRAFFIC SIGNAL']))\n",
    "accidents['at_intersection'] = accidents['TRAFFICWAY_TYPE'].apply(lambda x: eda_feat_eng_utils.return_true_if_in_list(x, ['FOUR WAY', 'FIVE POINT, OR MORE', 'T-INTERSECTION',\n",
    "                                                                                                                          'UNKNOWN INTERSECTION TYPE', 'Y-INTERSECTION']))\n",
    "\n",
    "# Traffic device related\n",
    "accidents['was_non_functioning_device'] = accidents['TRAFFICWAY_TYPE'].apply(lambda x: eda_feat_eng_utils.return_true_if_in_list(x, ['FUNCTIONING IMPROPERLY', 'MISSING', \n",
    "                                                                                                                                     'NOT FUNCTIONING']))\n",
    "\n",
    "\n"
   ]
  },
  {
   "cell_type": "code",
   "execution_count": 13,
   "metadata": {},
   "outputs": [],
   "source": [
    "accidents = pd.concat([accidents, pd.get_dummies(accidents['time_of_day'], prefix='is')], axis=1)\n",
    "accidents = pd.concat([accidents, pd.get_dummies(accidents['season'], prefix='is')], axis=1)"
   ]
  },
  {
   "cell_type": "code",
   "execution_count": 14,
   "metadata": {},
   "outputs": [
    {
     "data": {
      "image/png": "[encoded data removed]",
      "text/plain": [
       "<Figure size 1440x576 with 1 Axes>"
      ]
     },
     "metadata": {
      "needs_background": "light"
     },
     "output_type": "display_data"
    }
   ],
   "source": [
    "eda_feat_eng_utils.plot_null_val_heatmap(accidents, \"Null Values\", figsize=(20,8))"
   ]
  },
  {
   "cell_type": "markdown",
   "metadata": {},
   "source": [
    "### Export Feature-Engineered Dataset"
   ]
  },
  {
   "cell_type": "code",
   "execution_count": null,
   "metadata": {},
   "outputs": [],
   "source": [
    "accidents.to_csv('data/accidents.csv')"
   ]
  },
  {
   "cell_type": "markdown",
   "metadata": {},
   "source": [
    "---\n",
    "## Unique Values for Features"
   ]
  },
  {
   "cell_type": "code",
   "execution_count": 12,
   "metadata": {},
   "outputs": [
    {
     "name": "stdout",
     "output_type": "stream",
     "text": [
      "BICYCLE CROSSING SIGN\n",
      "DELINEATORS\n",
      "FLASHING CONTROL SIGNAL\n",
      "LANE USE MARKING\n",
      "NO CONTROLS\n",
      "NO PASSING\n",
      "OTHER\n",
      "OTHER RAILROAD CROSSING\n",
      "OTHER REG. SIGN\n",
      "OTHER WARNING SIGN\n",
      "PEDESTRIAN CROSSING SIGN\n",
      "POLICE/FLAGMAN\n",
      "RAILROAD CROSSING GATE\n",
      "RR CROSSING SIGN\n",
      "SCHOOL ZONE\n",
      "STOP SIGN/FLASHER\n",
      "TRAFFIC SIGNAL\n",
      "UNKNOWN\n",
      "YIELD\n"
     ]
    }
   ],
   "source": [
    "for col in sorted(accidents['TRAFFIC_CONTROL_DEVICE'].unique()):\n",
    "    print(col)"
   ]
  },
  {
   "cell_type": "code",
   "execution_count": 13,
   "metadata": {},
   "outputs": [
    {
     "name": "stdout",
     "output_type": "stream",
     "text": [
      "FUNCTIONING IMPROPERLY\n",
      "FUNCTIONING PROPERLY\n",
      "MISSING\n",
      "NO CONTROLS\n",
      "NOT FUNCTIONING\n",
      "OTHER\n",
      "UNKNOWN\n",
      "WORN REFLECTIVE MATERIAL\n"
     ]
    }
   ],
   "source": [
    "for col in sorted(accidents['DEVICE_CONDITION'].unique()):\n",
    "    print(col)"
   ]
  },
  {
   "cell_type": "code",
   "execution_count": 14,
   "metadata": {},
   "outputs": [
    {
     "name": "stdout",
     "output_type": "stream",
     "text": [
      "BLOWING SAND, SOIL, DIRT\n",
      "BLOWING SNOW\n",
      "CLEAR\n",
      "CLOUDY/OVERCAST\n",
      "FOG/SMOKE/HAZE\n",
      "FREEZING RAIN/DRIZZLE\n",
      "OTHER\n",
      "RAIN\n",
      "SEVERE CROSS WIND GATE\n",
      "SLEET/HAIL\n",
      "SNOW\n",
      "UNKNOWN\n"
     ]
    }
   ],
   "source": [
    "for col in sorted(accidents['WEATHER_CONDITION'].unique()):\n",
    "    print(col)"
   ]
  },
  {
   "cell_type": "code",
   "execution_count": 15,
   "metadata": {},
   "outputs": [
    {
     "name": "stdout",
     "output_type": "stream",
     "text": [
      "DARKNESS\n",
      "DARKNESS, LIGHTED ROAD\n",
      "DAWN\n",
      "DAYLIGHT\n",
      "DUSK\n",
      "UNKNOWN\n"
     ]
    }
   ],
   "source": [
    "for col in sorted(accidents['LIGHTING_CONDITION'].unique()):\n",
    "    print(col)"
   ]
  },
  {
   "cell_type": "code",
   "execution_count": 16,
   "metadata": {},
   "outputs": [
    {
     "name": "stdout",
     "output_type": "stream",
     "text": [
      "ANGLE\n",
      "ANIMAL\n",
      "FIXED OBJECT\n",
      "HEAD ON\n",
      "OTHER NONCOLLISION\n",
      "OTHER OBJECT\n",
      "OVERTURNED\n",
      "PARKED MOTOR VEHICLE\n",
      "PEDALCYCLIST\n",
      "PEDESTRIAN\n",
      "REAR END\n",
      "REAR TO FRONT\n",
      "REAR TO REAR\n",
      "REAR TO SIDE\n",
      "SIDESWIPE OPPOSITE DIRECTION\n",
      "SIDESWIPE SAME DIRECTION\n",
      "TRAIN\n",
      "TURNING\n"
     ]
    }
   ],
   "source": [
    "for col in sorted(accidents['FIRST_CRASH_TYPE'].unique()):\n",
    "    print(col)"
   ]
  },
  {
   "cell_type": "code",
   "execution_count": null,
   "metadata": {},
   "outputs": [],
   "source": [
    "for col in sorted(accidents['TRAFFICWAY_TYPE'].unique()):\n",
    "    print(col)"
   ]
  },
  {
   "cell_type": "code",
   "execution_count": null,
   "metadata": {},
   "outputs": [],
   "source": [
    "for col in sorted(accidents['ALIGNMENT'].unique()):\n",
    "    print(col)"
   ]
  },
  {
   "cell_type": "code",
   "execution_count": null,
   "metadata": {},
   "outputs": [],
   "source": [
    "for col in sorted(accidents['ROADWAY_SURFACE_COND'].unique()):\n",
    "    print(col)"
   ]
  },
  {
   "cell_type": "code",
   "execution_count": null,
   "metadata": {},
   "outputs": [],
   "source": [
    "for col in sorted(accidents['CRASH_TYPE'].unique()):\n",
    "    print(col)"
   ]
  },
  {
   "cell_type": "code",
   "execution_count": null,
   "metadata": {},
   "outputs": [],
   "source": [
    "for col in sorted(accidents['PRIM_CONTRIBUTORY_CAUSE'].unique()):\n",
    "    print(col)"
   ]
  },
  {
   "cell_type": "code",
   "execution_count": null,
   "metadata": {},
   "outputs": [],
   "source": [
    "for col in sorted(accidents['SEC_CONTRIBUTORY_CAUSE'].unique()):\n",
    "    print(col)"
   ]
  },
  {
   "cell_type": "code",
   "execution_count": null,
   "metadata": {},
   "outputs": [],
   "source": [
    "for col in sorted(accidents['STREET_DIRECTION'].unique()):\n",
    "    print(col)"
   ]
  },
  {
   "cell_type": "code",
   "execution_count": null,
   "metadata": {},
   "outputs": [],
   "source": [
    "\n",
    "# for col in sorted(accidents['BEAT_OF_OCCURRENCE'].unique()):\n",
    "#     print(col)"
   ]
  },
  {
   "cell_type": "markdown",
   "metadata": {},
   "source": [
    "---\n",
    "## EDA"
   ]
  },
  {
   "cell_type": "code",
   "execution_count": null,
   "metadata": {},
   "outputs": [],
   "source": [
    "display_bar_plot(accidents, 'is_fatal_or_incap', 'Accident Results Distribution')\n",
    "\n",
    "print('Percent Resulting in Fatality or Incapacitation: {0:.3%}'.format(sum(accidents['is_fatal_or_incap']) / len(accidents['is_fatal_or_incap'])))\n",
    "print('\\n')"
   ]
  },
  {
   "cell_type": "code",
   "execution_count": null,
   "metadata": {},
   "outputs": [],
   "source": [
    "display_bar_plot(accidents, 'time_of_day', 'Time of Day Distribution', figsize=(7,5), hue='is_fatal_or_incap')"
   ]
  },
  {
   "cell_type": "code",
   "execution_count": null,
   "metadata": {},
   "outputs": [],
   "source": [
    "data=accidents\n",
    "x='PRIM_CONTRIBUTORY_CAUSE'\n",
    "title='Accident Results by Primary Cause' \n",
    "figsize=(20,10)\n",
    "hue='is_fatal_or_incap'\n",
    "\n",
    "fig, ax = plt.subplots(figsize=figsize)\n",
    "sns.countplot(data=data,y=x, hue=hue, palette='PRGn', ax=ax, orient='v')\n",
    "ax.set_title(title, fontsize=16)\n",
    "fig.tight_layout();"
   ]
  },
  {
   "cell_type": "code",
   "execution_count": null,
   "metadata": {},
   "outputs": [],
   "source": [
    "plot_density_distribution_by_class(accidents, 'is_fatal_or_incap', 'CRASH_HOUR', (12,5), 'Accident Results by Crash Hour', 0)"
   ]
  },
  {
   "cell_type": "code",
   "execution_count": null,
   "metadata": {},
   "outputs": [],
   "source": [
    "# Sunday = 1\n",
    "plot_density_distribution_by_class(accidents, 'is_fatal_or_incap', 'CRASH_DAY_OF_WEEK', (12,5), 'Accident Results by Crash Hour')"
   ]
  },
  {
   "cell_type": "code",
   "execution_count": null,
   "metadata": {},
   "outputs": [],
   "source": [
    "df = accidents\n",
    "class_col = 'is_fatal_or_incap'\n",
    "feature_name = 'POSTED_SPEED_LIMIT'\n",
    "figsize = (10,5)\n",
    "title='Distribution of POSTED Speed Limit'\n",
    "bandwidth=1\n",
    "\n",
    "fatal_arr = df[df[class_col] == 1][feature_name].values\n",
    "not_fatal_arr = df[df[class_col] == 0][feature_name].values\n",
    "\n",
    "\n",
    "fig, ax = plt.subplots(figsize=figsize)\n",
    "ax = sns.kdeplot(fatal_arr, shade=True, color=\"b\", bw=bandwidth, label = 'Fatal / Incapacitated')\n",
    "ax = sns.kdeplot(not_fatal_arr, shade=True, color=\"r\", bw=bandwidth, label = 'Not Severe')\n",
    "ax.legend()\n",
    "ax.set_title(title, fontsize=18)\n",
    "fig.tight_layout();"
   ]
  },
  {
   "cell_type": "code",
   "execution_count": null,
   "metadata": {},
   "outputs": [],
   "source": [
    "plot_density_distribution_by_class(accidents, 'is_fatal_or_incap', 'crash_month', (12,5), 'Accident Results by Crash Hour')"
   ]
  },
  {
   "cell_type": "code",
   "execution_count": null,
   "metadata": {},
   "outputs": [],
   "source": [
    "display_bar_plot(accidents, 'has_snow_ice', 'Accident Results by Road Condition', figsize=(7,5), hue='is_fatal_or_incap')"
   ]
  },
  {
   "cell_type": "code",
   "execution_count": null,
   "metadata": {},
   "outputs": [],
   "source": [
    "display_bar_plot(accidents, 'at_intersection', 'Accidents at Intersection', figsize=(7,5), hue='is_fatal_or_incap')"
   ]
  },
  {
   "cell_type": "code",
   "execution_count": null,
   "metadata": {},
   "outputs": [],
   "source": [
    "display_bar_plot(accidents, 'WEATHER_CONDITION', 'Accidents at Intersection', figsize=(20,6), hue='is_fatal_or_incap')"
   ]
  },
  {
   "cell_type": "markdown",
   "metadata": {},
   "source": [
    "### Chicago Map"
   ]
  },
  {
   "cell_type": "code",
   "execution_count": 23,
   "metadata": {},
   "outputs": [],
   "source": [
    "chicago_map = gpd.read_file('data/geo_export_43ec9622-8645-42eb-b42b-cdd7d8603939.shp')"
   ]
  },
  {
   "cell_type": "code",
   "execution_count": 33,
   "metadata": {},
   "outputs": [],
   "source": [
    "geography = accidents[['is_fatal_or_incap', 'LATITUDE', 'LONGITUDE']].copy()\n",
    "geometry = [Point(xy) for xy in zip(geography['LATITUDE'], geography['LONGITUDE'])]"
   ]
  },
  {
   "cell_type": "code",
   "execution_count": 35,
   "metadata": {},
   "outputs": [
    {
     "data": {
      "text/html": [
       "<div>\n",
       "<style scoped>\n",
       "    .dataframe tbody tr th:only-of-type {\n",
       "        vertical-align: middle;\n",
       "    }\n",
       "\n",
       "    .dataframe tbody tr th {\n",
       "        vertical-align: top;\n",
       "    }\n",
       "\n",
       "    .dataframe thead th {\n",
       "        text-align: right;\n",
       "    }\n",
       "</style>\n",
       "<table border=\"1\" class=\"dataframe\">\n",
       "  <thead>\n",
       "    <tr style=\"text-align: right;\">\n",
       "      <th></th>\n",
       "      <th>is_fatal_or_incap</th>\n",
       "      <th>LATITUDE</th>\n",
       "      <th>LONGITUDE</th>\n",
       "      <th>geometry</th>\n",
       "    </tr>\n",
       "  </thead>\n",
       "  <tbody>\n",
       "    <tr>\n",
       "      <th>0</th>\n",
       "      <td>0</td>\n",
       "      <td>41.919664</td>\n",
       "      <td>-87.773288</td>\n",
       "      <td>POINT (41.91966 -87.77329)</td>\n",
       "    </tr>\n",
       "    <tr>\n",
       "      <th>5</th>\n",
       "      <td>0</td>\n",
       "      <td>41.741804</td>\n",
       "      <td>-87.740954</td>\n",
       "      <td>POINT (41.74180 -87.74095)</td>\n",
       "    </tr>\n",
       "    <tr>\n",
       "      <th>6</th>\n",
       "      <td>0</td>\n",
       "      <td>41.953647</td>\n",
       "      <td>-87.732082</td>\n",
       "      <td>POINT (41.95365 -87.73208)</td>\n",
       "    </tr>\n",
       "    <tr>\n",
       "      <th>10</th>\n",
       "      <td>0</td>\n",
       "      <td>41.903825</td>\n",
       "      <td>-87.643286</td>\n",
       "      <td>POINT (41.90383 -87.64329)</td>\n",
       "    </tr>\n",
       "    <tr>\n",
       "      <th>11</th>\n",
       "      <td>0</td>\n",
       "      <td>41.794779</td>\n",
       "      <td>-87.623828</td>\n",
       "      <td>POINT (41.79478 -87.62383)</td>\n",
       "    </tr>\n",
       "  </tbody>\n",
       "</table>\n",
       "</div>"
      ],
      "text/plain": [
       "    is_fatal_or_incap   LATITUDE  LONGITUDE                    geometry\n",
       "0                   0  41.919664 -87.773288  POINT (41.91966 -87.77329)\n",
       "5                   0  41.741804 -87.740954  POINT (41.74180 -87.74095)\n",
       "6                   0  41.953647 -87.732082  POINT (41.95365 -87.73208)\n",
       "10                  0  41.903825 -87.643286  POINT (41.90383 -87.64329)\n",
       "11                  0  41.794779 -87.623828  POINT (41.79478 -87.62383)"
      ]
     },
     "execution_count": 35,
     "metadata": {},
     "output_type": "execute_result"
    }
   ],
   "source": [
    "geo_df = gpd.GeoDataFrame(geography, geometry=geometry)\n",
    "geo_df.head()"
   ]
  },
  {
   "cell_type": "code",
   "execution_count": 37,
   "metadata": {},
   "outputs": [
    {
     "data": {
      "image/png": "[encoded data removed]",
      "text/plain": [
       "<Figure size 1080x1080 with 1 Axes>"
      ]
     },
     "metadata": {
      "needs_background": "light"
     },
     "output_type": "display_data"
    }
   ],
   "source": [
    "fig, ax = plt.subplots(figsize=(15,15))\n",
    "\n",
    "chicago_map.plot(ax = ax, color='grey', alpha=0.4)\n",
    "geo_df[geo_df['is_fatal_or_incap'] == 0].plot(ax=ax, markersize=20, color='green', marker='o', label='Neg')\n",
    "geo_df[geo_df['is_fatal_or_incap'] == 1].plot(ax=ax, markersize=20, color='red', marker='^', label='Pos')\n",
    "plt.legend(prop={'size':15});"
   ]
  },
  {
   "cell_type": "code",
   "execution_count": 38,
   "metadata": {},
   "outputs": [
    {
     "data": {
      "text/html": [
       "<div>\n",
       "<style scoped>\n",
       "    .dataframe tbody tr th:only-of-type {\n",
       "        vertical-align: middle;\n",
       "    }\n",
       "\n",
       "    .dataframe tbody tr th {\n",
       "        vertical-align: top;\n",
       "    }\n",
       "\n",
       "    .dataframe thead th {\n",
       "        text-align: right;\n",
       "    }\n",
       "</style>\n",
       "<table border=\"1\" class=\"dataframe\">\n",
       "  <thead>\n",
       "    <tr style=\"text-align: right;\">\n",
       "      <th></th>\n",
       "      <th>is_fatal_or_incap</th>\n",
       "      <th>LATITUDE</th>\n",
       "      <th>LONGITUDE</th>\n",
       "      <th>geometry</th>\n",
       "    </tr>\n",
       "  </thead>\n",
       "  <tbody>\n",
       "    <tr>\n",
       "      <th>0</th>\n",
       "      <td>0</td>\n",
       "      <td>41.919664</td>\n",
       "      <td>-87.773288</td>\n",
       "      <td>POINT (41.91966 -87.77329)</td>\n",
       "    </tr>\n",
       "    <tr>\n",
       "      <th>5</th>\n",
       "      <td>0</td>\n",
       "      <td>41.741804</td>\n",
       "      <td>-87.740954</td>\n",
       "      <td>POINT (41.74180 -87.74095)</td>\n",
       "    </tr>\n",
       "    <tr>\n",
       "      <th>6</th>\n",
       "      <td>0</td>\n",
       "      <td>41.953647</td>\n",
       "      <td>-87.732082</td>\n",
       "      <td>POINT (41.95365 -87.73208)</td>\n",
       "    </tr>\n",
       "    <tr>\n",
       "      <th>10</th>\n",
       "      <td>0</td>\n",
       "      <td>41.903825</td>\n",
       "      <td>-87.643286</td>\n",
       "      <td>POINT (41.90383 -87.64329)</td>\n",
       "    </tr>\n",
       "    <tr>\n",
       "      <th>11</th>\n",
       "      <td>0</td>\n",
       "      <td>41.794779</td>\n",
       "      <td>-87.623828</td>\n",
       "      <td>POINT (41.79478 -87.62383)</td>\n",
       "    </tr>\n",
       "    <tr>\n",
       "      <th>...</th>\n",
       "      <td>...</td>\n",
       "      <td>...</td>\n",
       "      <td>...</td>\n",
       "      <td>...</td>\n",
       "    </tr>\n",
       "    <tr>\n",
       "      <th>472790</th>\n",
       "      <td>0</td>\n",
       "      <td>41.975810</td>\n",
       "      <td>-87.687248</td>\n",
       "      <td>POINT (41.97581 -87.68725)</td>\n",
       "    </tr>\n",
       "    <tr>\n",
       "      <th>472791</th>\n",
       "      <td>0</td>\n",
       "      <td>41.929591</td>\n",
       "      <td>-87.639941</td>\n",
       "      <td>POINT (41.92959 -87.63994)</td>\n",
       "    </tr>\n",
       "    <tr>\n",
       "      <th>472794</th>\n",
       "      <td>0</td>\n",
       "      <td>41.940241</td>\n",
       "      <td>-87.639639</td>\n",
       "      <td>POINT (41.94024 -87.63964)</td>\n",
       "    </tr>\n",
       "    <tr>\n",
       "      <th>472795</th>\n",
       "      <td>0</td>\n",
       "      <td>41.910941</td>\n",
       "      <td>-87.648419</td>\n",
       "      <td>POINT (41.91094 -87.64842)</td>\n",
       "    </tr>\n",
       "    <tr>\n",
       "      <th>472799</th>\n",
       "      <td>0</td>\n",
       "      <td>41.990939</td>\n",
       "      <td>-87.708506</td>\n",
       "      <td>POINT (41.99094 -87.70851)</td>\n",
       "    </tr>\n",
       "  </tbody>\n",
       "</table>\n",
       "<p>293075 rows × 4 columns</p>\n",
       "</div>"
      ],
      "text/plain": [
       "        is_fatal_or_incap   LATITUDE  LONGITUDE                    geometry\n",
       "0                       0  41.919664 -87.773288  POINT (41.91966 -87.77329)\n",
       "5                       0  41.741804 -87.740954  POINT (41.74180 -87.74095)\n",
       "6                       0  41.953647 -87.732082  POINT (41.95365 -87.73208)\n",
       "10                      0  41.903825 -87.643286  POINT (41.90383 -87.64329)\n",
       "11                      0  41.794779 -87.623828  POINT (41.79478 -87.62383)\n",
       "...                   ...        ...        ...                         ...\n",
       "472790                  0  41.975810 -87.687248  POINT (41.97581 -87.68725)\n",
       "472791                  0  41.929591 -87.639941  POINT (41.92959 -87.63994)\n",
       "472794                  0  41.940241 -87.639639  POINT (41.94024 -87.63964)\n",
       "472795                  0  41.910941 -87.648419  POINT (41.91094 -87.64842)\n",
       "472799                  0  41.990939 -87.708506  POINT (41.99094 -87.70851)\n",
       "\n",
       "[293075 rows x 4 columns]"
      ]
     },
     "execution_count": 38,
     "metadata": {},
     "output_type": "execute_result"
    }
   ],
   "source": [
    "geo_df"
   ]
  },
  {
   "cell_type": "code",
   "execution_count": null,
   "metadata": {},
   "outputs": [],
   "source": []
  }
 ],
 "metadata": {
  "kernelspec": {
   "display_name": "conda_python3",
   "language": "python",
   "name": "conda_python3"
  },
  "language_info": {
   "codemirror_mode": {
    "name": "ipython",
    "version": 3
   },
   "file_extension": ".py",
   "mimetype": "text/x-python",
   "name": "python",
   "nbconvert_exporter": "python",
   "pygments_lexer": "ipython3",
   "version": "3.6.10"
  }
 },
 "nbformat": 4,
 "nbformat_minor": 4
}
