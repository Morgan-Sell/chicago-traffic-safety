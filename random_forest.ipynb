{
 "cells": [
  {
   "cell_type": "markdown",
   "metadata": {},
   "source": [
    "# Random Forest"
   ]
  },
  {
   "cell_type": "code",
   "execution_count": null,
   "metadata": {},
   "outputs": [],
   "source": [
    "!pip install imblearn"
   ]
  },
  {
   "cell_type": "code",
   "execution_count": null,
   "metadata": {},
   "outputs": [],
   "source": [
    "import pandas as pd\n",
    "import numpy as np\n",
    "\n",
    "import matplotlib.pyplot as plt\n",
    "import seaborn as sns\n",
    "%matplotlib inline\n",
    "\n",
    "from sklearn.model_selection import train_test_split, GridSearchCV\n",
    "from sklearn.metrics import classification_report, confusion_matrix, roc_auc_score\n",
    "from sklearn.metrics import recall_score, precision_score\n",
    "from sklearn.ensemble import RandomForestClassifier\n",
    "from sklearn.preprocessing import MinMaxScaler, StandardScaler\n",
    "from sklearn.inspection import permutation_importance\n",
    "\n",
    "from imblearn.over_sampling import RandomOverSampler, SMOTE\n",
    "\n",
    "from src import rf_utils"
   ]
  },
  {
   "cell_type": "markdown",
   "metadata": {},
   "source": [
    "## UDF"
   ]
  },
  {
   "cell_type": "code",
   "execution_count": null,
   "metadata": {},
   "outputs": [],
   "source": [
    "def create_sorted_permutation_importance_df(model, X, y, n_iterations, random_state):\n",
    "    '''\n",
    "    Inputs:\n",
    "    Enter a fitted tree-based model, e.g. Random Forest or Gradient Boost.\n",
    "    X and y can be the training set or a hold-out set, i.e., validation or test.\n",
    "    X and y must be dataframes.\n",
    "    \n",
    "    Return:\n",
    "    Returns a sorted dataframe comprised of each feature's importance for the number of selected iterations.\n",
    "    The dataframe is sorted by the features' medians.\n",
    "    '''\n",
    "    \n",
    "    results = permutation_importance(model, X, y, n_repeats=n_iterations,\n",
    "                                     random_state=random_state, n_jobs=-1)\n",
    "    \n",
    "    df = pd.DataFrame(results.importances.T * 100, columns=X.columns)\n",
    "    sorted_idx = df.median().sort_values().index[::-1]\n",
    "    sorted_df = df[sorted_idx]\n",
    "    return sorted_df\n",
    "\n",
    "\n",
    "def plot_horizontal_permutation_importance_boxplot(df, figsize, max_features):\n",
    "    '''\n",
    "    df must be sorted.\n",
    "    max_features is a limit on the number of features displayed\n",
    "    '''\n",
    "    \n",
    "    df2 = df.iloc[:, :max_features].copy()\n",
    "    \n",
    "    fig, ax = plt.subplots(figsize=figsize)\n",
    "    \n",
    "    sns.boxplot(data=df2, orient='h', ax=ax, palette='mako')\n",
    "    ax.set_xlabel('Importance')\n",
    "    ax.set_title('Permutation Importance', fontsize=18)\n",
    "    fig.tight_layout();\n",
    "\n",
    "\n",
    "def calculate_and_plot_permutation_importance(model, X, y, n_iterations, random_state, figsize, max_features):\n",
    "    '''\n",
    "    Inputs:\n",
    "    Enter a fitted tree-based model, e.g. Random Forest or Gradient Boost.\n",
    "    X and y can be the training set or a hold-out set, i.e., validation or test.\n",
    "    X and y must be dataframes.\n",
    "    max_features is the number of features to be displayed on the boxplot.\n",
    "    \n",
    "    Returns a horizontal box plot summarizing each feature's permutation importance.\n",
    "    '''\n",
    "    sorted_df = create_sorted_permutation_importance_df(model, X, y, n_iterations, random_state)\n",
    "    plot_horizontal_permutation_importance_boxplot(sorted_df, figsize, max_features)"
   ]
  },
  {
   "cell_type": "markdown",
   "metadata": {},
   "source": [
    "## Import Data"
   ]
  },
  {
   "cell_type": "code",
   "execution_count": null,
   "metadata": {},
   "outputs": [],
   "source": [
    "accidents = pd.read_csv('data/accidents.csv', index_col=0)\n",
    "accidents.head()"
   ]
  },
  {
   "cell_type": "markdown",
   "metadata": {},
   "source": [
    "## Process Data for Model"
   ]
  },
  {
   "cell_type": "code",
   "execution_count": null,
   "metadata": {},
   "outputs": [],
   "source": [
    "X = accidents[['crash_month',\n",
    "              'CRASH_HOUR',\n",
    "              'is_weekend',\n",
    "              'has_snow_ice',\n",
    "              'involved_pedest_cycle',\n",
    "              'at_intersection',\n",
    "              'at_stop_sign_or_traffic_light',\n",
    "              'is_day',\n",
    "              'is_evening',\n",
    "              'is_morning',\n",
    "              'is_night',\n",
    "               'is_rain',\n",
    "               'is_sleet_snow',\n",
    "               'is_spring',\n",
    "               'is_summer',\n",
    "               'is_weekend',\n",
    "               'is_winter']]\n",
    "\n",
    "\n",
    "y = accidents['is_fatal_or_incap']\n",
    "\n",
    "X_train, X_test, y_train, y_test = train_test_split(X, y, test_size=0.20, random_state=3)"
   ]
  },
  {
   "cell_type": "code",
   "execution_count": null,
   "metadata": {},
   "outputs": [],
   "source": []
  },
  {
   "cell_type": "code",
   "execution_count": null,
   "metadata": {},
   "outputs": [],
   "source": [
    "oversampler = RandomOverSampler(sampling_strategy=0.6, random_state=3)\n",
    "#oversampler = SMOTE(sampling_strategy=0.5, random_state=3)\n",
    "\n",
    "X_over, y_over = oversampler.fit_resample(X_train.to_numpy(), y_train.to_numpy())"
   ]
  },
  {
   "cell_type": "markdown",
   "metadata": {},
   "source": [
    "## Hyperparameter Tuning"
   ]
  },
  {
   "cell_type": "code",
   "execution_count": 8,
   "metadata": {},
   "outputs": [],
   "source": [
    "n_features = X.shape[1]\n",
    "\n",
    "n_estimators = [10, 50, 100, 200]\n",
    "max_features = [2, int(np.sqrt(n_features)), n_features // 2, int(n_features * 0.75), n_features]\n",
    "max_depth = [2, 3, 4]\n",
    "params_grid = dict(n_estimators=n_estimators,\n",
    "                   max_features=max_features,\n",
    "                   max_depth=max_depth)"
   ]
  },
  {
   "cell_type": "code",
   "execution_count": null,
   "metadata": {},
   "outputs": [],
   "source": [
    "rf = RandomForestClassifier()\n",
    "\n",
    "clf = GridSearchCV(rf, params_grid, cv=5, verbose=0, scoring='precision')\n",
    "\n",
    "best_model = clf.fit(X_over, y_over)"
   ]
  },
  {
   "cell_type": "code",
   "execution_count": null,
   "metadata": {},
   "outputs": [],
   "source": [
    "print('Optimal # of Estimators: ', best_model.best_estimator_.get_params()['n_estimators'])\n",
    "print('Optimal # of Features per Node: ', best_model.best_estimator_.get_params()['max_features'])\n",
    "print('Max. Depth of Tree: ', best_model.best_estimator_.get_params()['max_depth'])"
   ]
  },
  {
   "cell_type": "markdown",
   "metadata": {},
   "source": [
    "### Train and Predict"
   ]
  },
  {
   "cell_type": "code",
   "execution_count": null,
   "metadata": {},
   "outputs": [],
   "source": []
  },
  {
   "cell_type": "code",
   "execution_count": null,
   "metadata": {},
   "outputs": [],
   "source": [
    "n_estimators = 500\n",
    "max_features = 10\n",
    "max_depth = 3\n",
    "\n",
    "rf = RandomForestClassifier(n_estimators=n_estimators, max_features=max_features, max_depth=max_depth, random_state=3)\n",
    "rf.train(X_over, y_over)\n",
    "y_pred = rf.predict(X_test)\n",
    "y_prob = rf.predict_proba(X_test)[:, 1]\n",
    "\n",
    "\n",
    "cf_matrix = confusion_matrix(y_test, y_pred)\n",
    "print(cf_matrix)\n",
    "print('\\n')\n",
    "print('Recall (Scores FN): ', round(recall_score(y_test, y_pred), 4))\n",
    "print('Precision (Scores FP): ', round(precision_score(y_test, y_pred), 4))\n",
    "print('AUC Score: ', round(roc_auc_score(y_test, y_prob), 4))"
   ]
  },
  {
   "cell_type": "code",
   "execution_count": null,
   "metadata": {},
   "outputs": [],
   "source": [
    "plt.figure(figsize=(7,4))\n",
    "sns.heatmap(cf_matrix, cmap='coolwarm', annot=True, annot_kws={'size': 20, 'fontweight':'bold'}, fmt='d',\n",
    "                 xticklabels=False, yticklabels=False);\n",
    "#plt.savefig('img/cf_matrix.png', bbox_inches='tight')"
   ]
  },
  {
   "cell_type": "markdown",
   "metadata": {},
   "source": [
    "### Permutation Importance"
   ]
  },
  {
   "cell_type": "code",
   "execution_count": null,
   "metadata": {},
   "outputs": [],
   "source": [
    "calculate_and_plot_permutation_importance(rf, X_over, y_over, 10, 3, (10,15), 20)\n"
   ]
  }
 ],
 "metadata": {
  "kernelspec": {
   "display_name": "conda_python3",
   "language": "python",
   "name": "conda_python3"
  },
  "language_info": {
   "codemirror_mode": {
    "name": "ipython",
    "version": 3
   },
   "file_extension": ".py",
   "mimetype": "text/x-python",
   "name": "python",
   "nbconvert_exporter": "python",
   "pygments_lexer": "ipython3",
   "version": "3.6.10"
  }
 },
 "nbformat": 4,
 "nbformat_minor": 4
}
