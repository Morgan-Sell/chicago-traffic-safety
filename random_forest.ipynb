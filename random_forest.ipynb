{
 "cells": [
  {
   "cell_type": "markdown",
   "metadata": {},
   "source": [
    "# Random Forest"
   ]
  },
  {
   "cell_type": "code",
   "execution_count": 1,
   "metadata": {},
   "outputs": [],
   "source": [
    "#!pip install imblearn"
   ]
  },
  {
   "cell_type": "code",
   "execution_count": 1,
   "metadata": {},
   "outputs": [],
   "source": [
    "import pandas as pd\n",
    "import numpy as np\n",
    "\n",
    "import matplotlib.pyplot as plt\n",
    "import seaborn as sns\n",
    "%matplotlib inline\n",
    "\n",
    "from sklearn.model_selection import train_test_split, GridSearchCV\n",
    "from sklearn.metrics import classification_report, confusion_matrix, roc_auc_score\n",
    "from sklearn.metrics import recall_score, precision_score\n",
    "from sklearn.ensemble import RandomForestClassifier\n",
    "from sklearn.preprocessing import MinMaxScaler, StandardScaler\n",
    "from sklearn.inspection import permutation_importance\n",
    "\n",
    "from imblearn.over_sampling import RandomOverSampler, SMOTE\n",
    "\n",
    "from src import ensemble_utils"
   ]
  },
  {
   "cell_type": "markdown",
   "metadata": {},
   "source": [
    "## UDF"
   ]
  },
  {
   "cell_type": "code",
   "execution_count": null,
   "metadata": {},
   "outputs": [],
   "source": []
  },
  {
   "cell_type": "markdown",
   "metadata": {},
   "source": [
    "## Import Data"
   ]
  },
  {
   "cell_type": "code",
   "execution_count": 2,
   "metadata": {},
   "outputs": [
    {
     "name": "stdout",
     "output_type": "stream",
     "text": [
      "0. RD_NO\n",
      "1. CRASH_DATE\n",
      "2. POSTED_SPEED_LIMIT\n",
      "3. TRAFFIC_CONTROL_DEVICE\n",
      "4. DEVICE_CONDITION\n",
      "5. WEATHER_CONDITION\n",
      "6. LIGHTING_CONDITION\n",
      "7. FIRST_CRASH_TYPE\n",
      "8. TRAFFICWAY_TYPE\n",
      "9. LANE_CNT\n",
      "10. ALIGNMENT\n",
      "11. ROADWAY_SURFACE_COND\n",
      "12. ROAD_DEFECT\n",
      "13. CRASH_TYPE\n",
      "14. INTERSECTION_RELATED_I\n",
      "15. NOT_RIGHT_OF_WAY_I\n",
      "16. HIT_AND_RUN_I\n",
      "17. PRIM_CONTRIBUTORY_CAUSE\n",
      "18. SEC_CONTRIBUTORY_CAUSE\n",
      "19. STREET_NO\n",
      "20. STREET_DIRECTION\n",
      "21. STREET_NAME\n",
      "22. BEAT_OF_OCCURRENCE\n",
      "23. WORK_ZONE_I\n",
      "24. WORK_ZONE_TYPE\n",
      "25. WORKERS_PRESENT_I\n",
      "26. INJURIES_UNKNOWN\n",
      "27. CRASH_HOUR\n",
      "28. CRASH_DAY_OF_WEEK\n",
      "29. CRASH_MONTH\n",
      "30. LATITUDE\n",
      "31. LONGITUDE\n",
      "32. LOCATION\n",
      "33. crash_date\n",
      "34. crash_year\n",
      "35. crash_month\n",
      "36. is_fatal_or_incap\n",
      "37. time_of_day\n",
      "38. is_weekend\n",
      "39. season\n",
      "40. is_cyclist\n",
      "41. is_pedestrian\n",
      "42. is_head_on\n",
      "43. is_parked\n",
      "44. is_using_cellphone\n",
      "45. has_disregarded_traffic_devices\n",
      "46. is_failed_to_yield_right_of_way\n",
      "47. is_reckless_driving\n",
      "48. is_sleet_snow\n",
      "49. is_rain\n",
      "50. is_clear_weather\n",
      "51. has_snow_ice\n",
      "52. is_dark_no_lighting\n",
      "53. has_stop_sign_or_traffic_light\n",
      "54. is_intersection\n",
      "55. is_non_functioning_device\n",
      "56. has_no_controls\n",
      "57. is_day\n",
      "58. is_evening\n",
      "59. is_morning\n",
      "60. is_night\n",
      "61. is_fall\n",
      "62. is_spring\n",
      "63. is_summer\n",
      "64. is_winter\n",
      "65. has_no_physical_divide\n",
      "66. is_no_sun\n"
     ]
    }
   ],
   "source": [
    "accidents = pd.read_csv('data/accidents.csv', index_col=0)\n",
    "for idx, feature in enumerate(accidents.columns):\n",
    "    print('{}. {}'.format(idx, feature))"
   ]
  },
  {
   "cell_type": "markdown",
   "metadata": {},
   "source": [
    "## Select Features and Process Data "
   ]
  },
  {
   "cell_type": "code",
   "execution_count": 3,
   "metadata": {},
   "outputs": [],
   "source": [
    "indices = [2, 38, 40, 41, 42, 43, 48, 50, 53, 56, 57, 60, 64, 65]\n",
    "selected_features = list(accidents.columns[indices])\n",
    "\n",
    "X = accidents[selected_features]\n",
    "y = accidents['is_fatal_or_incap']\n",
    "\n",
    "X_train, X_test, y_train, y_test = train_test_split(X, y, test_size=0.20, random_state=3)"
   ]
  },
  {
   "cell_type": "code",
   "execution_count": 4,
   "metadata": {},
   "outputs": [],
   "source": [
    "oversampler = RandomOverSampler(sampling_strategy=0.75, random_state=3)\n",
    "#oversampler = SMOTE(sampling_strategy=0.75, random_state=3)\n",
    "\n",
    "X_over, y_over = oversampler.fit_resample(X_train.to_numpy(), y_train.to_numpy())"
   ]
  },
  {
   "cell_type": "markdown",
   "metadata": {},
   "source": [
    "## Hyperparameter Tuning"
   ]
  },
  {
   "cell_type": "code",
   "execution_count": 21,
   "metadata": {},
   "outputs": [],
   "source": [
    "n_features = X.shape[1]\n",
    "\n",
    "n_estimators = [10, 50, 100]\n",
    "max_features = [2, int(np.sqrt(n_features)), n_features // 2, n_features]\n",
    "max_depth = [1, 2, 3]\n",
    "params_grid = dict(n_estimators=n_estimators,\n",
    "                   max_features=max_features,\n",
    "                   max_depth=max_depth)"
   ]
  },
  {
   "cell_type": "code",
   "execution_count": 22,
   "metadata": {},
   "outputs": [],
   "source": [
    "rf = RandomForestClassifier(random_state=3)\n",
    "\n",
    "clf = GridSearchCV(rf, params_grid, cv=5, verbose=0, scoring='recall')\n",
    "\n",
    "best_model = clf.fit(X_over, y_over)"
   ]
  },
  {
   "cell_type": "code",
   "execution_count": 23,
   "metadata": {},
   "outputs": [
    {
     "name": "stdout",
     "output_type": "stream",
     "text": [
      "Optimal # of Estimators:  10\n",
      "Optimal # of Features per Node:  3\n",
      "Max. Depth of Tree:  3\n"
     ]
    }
   ],
   "source": [
    "print('Optimal # of Estimators: ', best_model.best_estimator_.get_params()['n_estimators'])\n",
    "print('Optimal # of Features per Node: ', best_model.best_estimator_.get_params()['max_features'])\n",
    "print('Max. Depth of Tree: ', best_model.best_estimator_.get_params()['max_depth'])"
   ]
  },
  {
   "cell_type": "markdown",
   "metadata": {},
   "source": [
    "### Train and Predict"
   ]
  },
  {
   "cell_type": "code",
   "execution_count": 5,
   "metadata": {},
   "outputs": [
    {
     "name": "stdout",
     "output_type": "stream",
     "text": [
      "[[55270  2280]\n",
      " [  703   362]]\n",
      "\n",
      "\n",
      "Recall (Scores FN):  0.3399\n",
      "Precision (Scores FP):  0.137\n",
      "AUC Score:  0.7346\n"
     ]
    }
   ],
   "source": [
    "n_estimators = 10\n",
    "max_features = 3\n",
    "max_depth = 3\n",
    "\n",
    "rf = RandomForestClassifier(n_estimators=n_estimators, max_features=max_features, max_depth=max_depth, random_state=3)\n",
    "rf.fit(X_over, y_over)\n",
    "y_pred = rf.predict(X_test)\n",
    "y_prob = rf.predict_proba(X_test)[:, 1]\n",
    "\n",
    "\n",
    "cf_matrix = confusion_matrix(y_test, y_pred)\n",
    "print(cf_matrix)\n",
    "print('\\n')\n",
    "print('Recall (Scores FN): ', round(recall_score(y_test, y_pred), 4))\n",
    "print('Precision (Scores FP): ', round(precision_score(y_test, y_pred), 4))\n",
    "print('AUC Score: ', round(roc_auc_score(y_test, y_prob), 4))"
   ]
  },
  {
   "cell_type": "code",
   "execution_count": 6,
   "metadata": {},
   "outputs": [
    {
     "data": {
      "image/png": "[encoded data removed]",
      "text/plain": [
       "<Figure size 504x288 with 2 Axes>"
      ]
     },
     "metadata": {
      "needs_background": "light"
     },
     "output_type": "display_data"
    }
   ],
   "source": [
    "plt.figure(figsize=(7,4))\n",
    "sns.heatmap(cf_matrix, cmap='coolwarm', annot=True, annot_kws={'size': 20, 'fontweight':'bold'}, fmt='d',\n",
    "                 xticklabels=False, yticklabels=False);\n",
    "#plt.savefig('img/cf_matrix.png', bbox_inches='tight')"
   ]
  },
  {
   "cell_type": "markdown",
   "metadata": {},
   "source": [
    "### Permutation Importance"
   ]
  },
  {
   "cell_type": "code",
   "execution_count": 15,
   "metadata": {},
   "outputs": [
    {
     "data": {
      "image/png": "[encoded data removed]",
      "text/plain": [
       "<Figure size 720x576 with 1 Axes>"
      ]
     },
     "metadata": {
      "needs_background": "light"
     },
     "output_type": "display_data"
    }
   ],
   "source": [
    "ensemble_utils.calculate_and_plot_permutation_importance(rf, X_over, y_over, 20, 3, (10,8), 16, X_train.columns)"
   ]
  },
  {
   "cell_type": "code",
   "execution_count": null,
   "metadata": {},
   "outputs": [],
   "source": []
  },
  {
   "cell_type": "code",
   "execution_count": null,
   "metadata": {},
   "outputs": [],
   "source": []
  },
  {
   "cell_type": "code",
   "execution_count": null,
   "metadata": {},
   "outputs": [],
   "source": []
  },
  {
   "cell_type": "code",
   "execution_count": null,
   "metadata": {},
   "outputs": [],
   "source": []
  },
  {
   "cell_type": "code",
   "execution_count": null,
   "metadata": {},
   "outputs": [],
   "source": []
  },
  {
   "cell_type": "code",
   "execution_count": 25,
   "metadata": {},
   "outputs": [],
   "source": [
    "def create_sorted_permutation_importance_df(model, X, y, n_iterations, random_state, features):\n",
    "    '''\n",
    "    Inputs:\n",
    "    Enter a fitted tree-based model, e.g. Random Forest or Gradient Boost.\n",
    "    X and y can be the training set or a hold-out set, i.e., validation or test.\n",
    "    X and y must be dataframes.\n",
    "    \n",
    "    Return:\n",
    "    Returns a sorted dataframe comprised of each feature's importance for the number of selected iterations.\n",
    "    The dataframe is sorted by the features' medians.\n",
    "    '''\n",
    "    \n",
    "    results = permutation_importance(model, X, y, n_repeats=n_iterations,\n",
    "                                     random_state=random_state, n_jobs=-1)\n",
    "    \n",
    "    df = pd.DataFrame()\n",
    "    df['feature'] = features\n",
    "    df['mean_importance'] = results['importances_mean']\n",
    "    df['std_importance'] = results['importances_std']\n",
    "    df.sort_values(by='mean_importance', axis=0, ascending=False, inplace=True)\n",
    "    return df\n",
    "\n",
    "def plot_horizontal_permutation_importance_boxplot(df, figsize, max_features):\n",
    "    '''\n",
    "    df must be sorted.\n",
    "    max_features is a limit on the number of features displayed\n",
    "    '''\n",
    "    \n",
    "    df2 = df.iloc[2:, :].copy()\n",
    "    \n",
    "    fig, ax = plt.subplots(figsize=figsize)\n",
    "    \n",
    "    sns.barplot(data=df2, x='mean_importance', y='feature', ax=ax, palette='mako_r')\n",
    "    ax.set_xlabel('Mean Importance')\n",
    "    ax.set_title('Permutation Importance', fontsize=18)\n",
    "    fig.tight_layout();\n",
    "    fig.savefig('img/perm_import_sub.png')\n",
    "\n",
    "\n",
    "def calculate_and_plot_permutation_importance(model, X, y, n_iterations, random_state, figsize, max_features, features):\n",
    "    '''\n",
    "    Inputs:\n",
    "    Enter a fitted tree-based model, e.g. Random Forest or Gradient Boost.\n",
    "    X and y can be the training set or a hold-out set, i.e., validation or test.\n",
    "    X and y must be dataframes.\n",
    "    max_features is the number of features to be displayed on the boxplot.\n",
    "    \n",
    "    Returns a horizontal box plot summarizing each feature's permutation importance.\n",
    "    '''\n",
    "    sorted_df = create_sorted_permutation_importance_df(model, X, y, n_iterations, random_state, features)\n",
    "    plot_horizontal_permutation_importance_boxplot(sorted_df, figsize, max_features)"
   ]
  },
  {
   "cell_type": "code",
   "execution_count": 26,
   "metadata": {},
   "outputs": [
    {
     "data": {
      "image/png": "[encoded data removed]",
      "text/plain": [
       "<Figure size 864x720 with 1 Axes>"
      ]
     },
     "metadata": {
      "needs_background": "light"
     },
     "output_type": "display_data"
    }
   ],
   "source": [
    "calculate_and_plot_permutation_importance(rf, X_over, y_over, 20, 3, (12,10), 16, X_train.columns)"
   ]
  },
  {
   "cell_type": "code",
   "execution_count": 16,
   "metadata": {},
   "outputs": [
    {
     "ename": "NameError",
     "evalue": "name 'df2' is not defined",
     "output_type": "error",
     "traceback": [
      "\u001b[0;31m---------------------------------------------------------------------------\u001b[0m",
      "\u001b[0;31mNameError\u001b[0m                                 Traceback (most recent call last)",
      "\u001b[0;32m<ipython-input-16-2068723f1203>\u001b[0m in \u001b[0;36m<module>\u001b[0;34m\u001b[0m\n\u001b[0;32m----> 1\u001b[0;31m \u001b[0mdf2\u001b[0m\u001b[0;34m\u001b[0m\u001b[0;34m\u001b[0m\u001b[0m\n\u001b[0m",
      "\u001b[0;31mNameError\u001b[0m: name 'df2' is not defined"
     ]
    }
   ],
   "source": [
    "df2"
   ]
  },
  {
   "cell_type": "code",
   "execution_count": null,
   "metadata": {},
   "outputs": [],
   "source": []
  }
 ],
 "metadata": {
  "kernelspec": {
   "display_name": "conda_python3",
   "language": "python",
   "name": "conda_python3"
  },
  "language_info": {
   "codemirror_mode": {
    "name": "ipython",
    "version": 3
   },
   "file_extension": ".py",
   "mimetype": "text/x-python",
   "name": "python",
   "nbconvert_exporter": "python",
   "pygments_lexer": "ipython3",
   "version": "3.6.10"
  }
 },
 "nbformat": 4,
 "nbformat_minor": 4
}
